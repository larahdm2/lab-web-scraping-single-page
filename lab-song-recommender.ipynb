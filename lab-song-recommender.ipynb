{
 "cells": [
  {
   "cell_type": "code",
   "execution_count": 1,
   "id": "2718f893",
   "metadata": {},
   "outputs": [],
   "source": [
    "import pandas as pd\n",
    "import numpy as np\n",
    "\n",
    "import random"
   ]
  },
  {
   "cell_type": "code",
   "execution_count": 2,
   "id": "e7085b1c",
   "metadata": {},
   "outputs": [],
   "source": [
    "hot=pd.read_csv('hot.csv')\n",
    "hot['song_match']=hot['song'].apply(str.lower)\n",
    "hot['song_match']=hot['song_match'].str.replace(' ','')"
   ]
  },
  {
   "cell_type": "code",
   "execution_count": 3,
   "id": "83f0f13c",
   "metadata": {},
   "outputs": [],
   "source": [
    "feat=pd.read_csv('features.csv')\n",
    "feat['song_match']=feat['track.name'].apply(str.lower)\n",
    "feat['song_match']=feat['song_match'].str.replace(' ','')"
   ]
  },
  {
   "cell_type": "code",
   "execution_count": 5,
   "id": "2c4e78c5",
   "metadata": {},
   "outputs": [
    {
     "name": "stdout",
     "output_type": "stream",
     "text": [
      "Please, enter a song title: Brazil\n",
      "\n",
      "We recommend you:  Mama\n",
      "Access the song:  https://open.spotify.com/track/2hv6PXz7z3csMF5P1jOPrR\n"
     ]
    }
   ],
   "source": [
    "song_input = input('Please, enter a song title: ').lower().replace(' ','')\n",
    "\n",
    "if song_input in hot['song_match'].values:\n",
    "    print(f'We recommend you: ', random.choice(hot['song']))\n",
    "\n",
    "elif song_input in feat['song_match'].values:\n",
    "    \n",
    "    series = feat[feat['song_match']==song_input].iloc[0]\n",
    "    song_cluster = series['cluster']\n",
    "    \n",
    "    df = feat[(feat['cluster']==song_cluster)].reset_index()\n",
    "    \n",
    "    song_output = random.choice(df['song_id'])\n",
    "    series2 = feat[feat['song_id']==song_output].iloc[0]\n",
    "    song_output_name = series2['track.name']\n",
    "    song_output_id = series2['song_id']\n",
    "    song_output_url = 'https://open.spotify.com/track/'+song_output_id\n",
    "    \n",
    "    print('\\nWe recommend you: ', song_output_name)\n",
    "    print('Access the song: ', song_output_url)\n",
    "    \n",
    "else:\n",
    "    print('Sorry, we don´t have recommendations for that title, try another one.')"
   ]
  },
  {
   "cell_type": "markdown",
   "id": "613fb7dd",
   "metadata": {},
   "source": [
    "> Because there can be 2 name matches, we need to address the first row.\n",
    ">\n",
    "> Because we are filtering the dataframe, for the random choice to work, we need to reset the index. Otherwise, it can choose an index that doesn´t exist.\n",
    ">Eliminate dupicate name songs or do sth to avoid received the same song.\n",
    "> Try to insert more indiesongs."
   ]
  }
 ],
 "metadata": {
  "kernelspec": {
   "display_name": "Python 3 (ipykernel)",
   "language": "python",
   "name": "python3"
  },
  "language_info": {
   "codemirror_mode": {
    "name": "ipython",
    "version": 3
   },
   "file_extension": ".py",
   "mimetype": "text/x-python",
   "name": "python",
   "nbconvert_exporter": "python",
   "pygments_lexer": "ipython3",
   "version": "3.10.9"
  }
 },
 "nbformat": 4,
 "nbformat_minor": 5
}
