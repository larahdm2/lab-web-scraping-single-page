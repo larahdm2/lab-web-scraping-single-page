{
 "cells": [
  {
   "cell_type": "code",
   "execution_count": 1,
   "id": "05a8ac78",
   "metadata": {},
   "outputs": [],
   "source": [
    "import numpy as np\n",
    "import pandas as pd\n",
    "import matplotlib.pyplot as plt\n",
    "\n",
    "from sklearn import cluster, datasets\n",
    "from sklearn.preprocessing import StandardScaler\n",
    "from matplotlib.lines import Line2D\n",
    "\n",
    "from sklearn.cluster import KMeans\n",
    "\n",
    "import random"
   ]
  },
  {
   "cell_type": "code",
   "execution_count": 2,
   "id": "bb0756a1",
   "metadata": {},
   "outputs": [],
   "source": [
    "max_characters=100\n",
    "pd.set_option(\"display.max_colwidth\", max_characters)"
   ]
  },
  {
   "cell_type": "code",
   "execution_count": 3,
   "id": "49062e99",
   "metadata": {},
   "outputs": [],
   "source": [
    "feat=pd.read_csv('features.csv')"
   ]
  },
  {
   "cell_type": "code",
   "execution_count": 4,
   "id": "4744c339",
   "metadata": {},
   "outputs": [],
   "source": [
    "# feat.describe()"
   ]
  },
  {
   "cell_type": "code",
   "execution_count": 5,
   "id": "30f95c21",
   "metadata": {},
   "outputs": [],
   "source": [
    "# feat.head(5)"
   ]
  },
  {
   "cell_type": "markdown",
   "id": "0f0394d6",
   "metadata": {},
   "source": [
    "> We need to scale the data because the values of tempo and duration are much higher."
   ]
  },
  {
   "cell_type": "code",
   "execution_count": 6,
   "id": "9f3c029e",
   "metadata": {},
   "outputs": [],
   "source": [
    "X=feat.select_dtypes(include=np.number)\n",
    "\n",
    "Standardtransformer = StandardScaler().fit(X)\n",
    "X_scaled = Standardtransformer.transform(X)"
   ]
  },
  {
   "cell_type": "code",
   "execution_count": 7,
   "id": "5afc44c7",
   "metadata": {},
   "outputs": [],
   "source": [
    "# X_scaled"
   ]
  },
  {
   "cell_type": "code",
   "execution_count": 8,
   "id": "642a1e32",
   "metadata": {},
   "outputs": [],
   "source": [
    "# pd.DataFrame(X_scaled,columns=X.columns).head()"
   ]
  },
  {
   "cell_type": "code",
   "execution_count": 9,
   "id": "bf57b5a2",
   "metadata": {},
   "outputs": [],
   "source": [
    "# kmeans = KMeans(n_clusters=3, random_state=1234)\n",
    "# kmeans.fit(X_scaled)"
   ]
  },
  {
   "cell_type": "code",
   "execution_count": 10,
   "id": "9db5b6c8",
   "metadata": {},
   "outputs": [],
   "source": [
    "# clusters = kmeans.predict(X_scaled)"
   ]
  },
  {
   "cell_type": "code",
   "execution_count": 11,
   "id": "73bc16a2",
   "metadata": {},
   "outputs": [],
   "source": [
    "# pd.Series(clusters).value_counts().sort_index()"
   ]
  },
  {
   "cell_type": "code",
   "execution_count": 12,
   "id": "096d86a2",
   "metadata": {},
   "outputs": [],
   "source": [
    "# clusters"
   ]
  },
  {
   "cell_type": "code",
   "execution_count": 13,
   "id": "5a41a873",
   "metadata": {},
   "outputs": [],
   "source": [
    "# plt.figure(figsize=(5, 5))\n",
    "# plt.scatter(X_scaled[:, 0], X_scaled[:, 3], c=clusters,alpha=0.5)\n",
    "# plt.show()"
   ]
  },
  {
   "cell_type": "code",
   "execution_count": 14,
   "id": "54471e7e",
   "metadata": {},
   "outputs": [],
   "source": [
    "# kmeans.inertia_ "
   ]
  },
  {
   "cell_type": "code",
   "execution_count": 15,
   "id": "141c11e7",
   "metadata": {},
   "outputs": [],
   "source": [
    "# kmeans = KMeans(n_clusters=3,\n",
    "#                 init=\"random\",\n",
    "#                 n_init=100,\n",
    "#                 max_iter=10,\n",
    "#                 tol=0,\n",
    "#                 random_state=1234)\n",
    "# kmeans.fit(X_scaled)\n",
    "# print(kmeans.inertia_)"
   ]
  },
  {
   "cell_type": "code",
   "execution_count": 16,
   "id": "f2a8e4f1",
   "metadata": {},
   "outputs": [],
   "source": [
    "# K = range(2, 20)\n",
    "# inertia = []\n",
    "\n",
    "# for k in K:\n",
    "#     kmeans = KMeans(n_clusters=k,\n",
    "#                     random_state=1234)\n",
    "#     kmeans.fit(X_scaled)\n",
    "#     inertia.append(kmeans.inertia_)\n",
    "\n",
    "# import matplotlib.pyplot as plt\n",
    "# %matplotlib inline\n",
    "\n",
    "# plt.figure(figsize=(16,8))\n",
    "# plt.plot(K, inertia, 'bx-')\n",
    "# plt.xlabel('k')\n",
    "# plt.ylabel('inertia')\n",
    "# plt.xticks(np.arange(min(K), max(K)+1, 1.0))\n",
    "# plt.title('Elbow Method showing the optimal k')"
   ]
  },
  {
   "cell_type": "code",
   "execution_count": 17,
   "id": "56a89d7d",
   "metadata": {},
   "outputs": [],
   "source": [
    "# from sklearn.metrics import silhouette_score\n",
    "# K = range(2, 20)\n",
    "# silhouette = []\n",
    "\n",
    "# for k in K:\n",
    "#     kmeans = KMeans(n_clusters=k,\n",
    "#                     random_state=1234)\n",
    "#     kmeans.fit(X_scaled)\n",
    "#     silhouette.append(silhouette_score(X_scaled, kmeans.predict(X_scaled)))\n",
    "\n",
    "\n",
    "# plt.figure(figsize=(16,8))\n",
    "# plt.plot(K, silhouette, 'bx-')\n",
    "# plt.xlabel('k')\n",
    "# plt.ylabel('silhouette score')\n",
    "# plt.xticks(np.arange(min(K), max(K)+1, 1.0))\n",
    "# plt.title('Slhouette score showing the optimal k')"
   ]
  },
  {
   "cell_type": "code",
   "execution_count": 18,
   "id": "bd4fe1e5",
   "metadata": {},
   "outputs": [
    {
     "name": "stderr",
     "output_type": "stream",
     "text": [
      "C:\\Users\\PC\\anaconda3\\lib\\site-packages\\sklearn\\cluster\\_kmeans.py:870: FutureWarning: The default value of `n_init` will change from 10 to 'auto' in 1.4. Set the value of `n_init` explicitly to suppress the warning\n",
      "  warnings.warn(\n"
     ]
    },
    {
     "data": {
      "text/html": [
       "<style>#sk-container-id-1 {color: black;background-color: white;}#sk-container-id-1 pre{padding: 0;}#sk-container-id-1 div.sk-toggleable {background-color: white;}#sk-container-id-1 label.sk-toggleable__label {cursor: pointer;display: block;width: 100%;margin-bottom: 0;padding: 0.3em;box-sizing: border-box;text-align: center;}#sk-container-id-1 label.sk-toggleable__label-arrow:before {content: \"▸\";float: left;margin-right: 0.25em;color: #696969;}#sk-container-id-1 label.sk-toggleable__label-arrow:hover:before {color: black;}#sk-container-id-1 div.sk-estimator:hover label.sk-toggleable__label-arrow:before {color: black;}#sk-container-id-1 div.sk-toggleable__content {max-height: 0;max-width: 0;overflow: hidden;text-align: left;background-color: #f0f8ff;}#sk-container-id-1 div.sk-toggleable__content pre {margin: 0.2em;color: black;border-radius: 0.25em;background-color: #f0f8ff;}#sk-container-id-1 input.sk-toggleable__control:checked~div.sk-toggleable__content {max-height: 200px;max-width: 100%;overflow: auto;}#sk-container-id-1 input.sk-toggleable__control:checked~label.sk-toggleable__label-arrow:before {content: \"▾\";}#sk-container-id-1 div.sk-estimator input.sk-toggleable__control:checked~label.sk-toggleable__label {background-color: #d4ebff;}#sk-container-id-1 div.sk-label input.sk-toggleable__control:checked~label.sk-toggleable__label {background-color: #d4ebff;}#sk-container-id-1 input.sk-hidden--visually {border: 0;clip: rect(1px 1px 1px 1px);clip: rect(1px, 1px, 1px, 1px);height: 1px;margin: -1px;overflow: hidden;padding: 0;position: absolute;width: 1px;}#sk-container-id-1 div.sk-estimator {font-family: monospace;background-color: #f0f8ff;border: 1px dotted black;border-radius: 0.25em;box-sizing: border-box;margin-bottom: 0.5em;}#sk-container-id-1 div.sk-estimator:hover {background-color: #d4ebff;}#sk-container-id-1 div.sk-parallel-item::after {content: \"\";width: 100%;border-bottom: 1px solid gray;flex-grow: 1;}#sk-container-id-1 div.sk-label:hover label.sk-toggleable__label {background-color: #d4ebff;}#sk-container-id-1 div.sk-serial::before {content: \"\";position: absolute;border-left: 1px solid gray;box-sizing: border-box;top: 0;bottom: 0;left: 50%;z-index: 0;}#sk-container-id-1 div.sk-serial {display: flex;flex-direction: column;align-items: center;background-color: white;padding-right: 0.2em;padding-left: 0.2em;position: relative;}#sk-container-id-1 div.sk-item {position: relative;z-index: 1;}#sk-container-id-1 div.sk-parallel {display: flex;align-items: stretch;justify-content: center;background-color: white;position: relative;}#sk-container-id-1 div.sk-item::before, #sk-container-id-1 div.sk-parallel-item::before {content: \"\";position: absolute;border-left: 1px solid gray;box-sizing: border-box;top: 0;bottom: 0;left: 50%;z-index: -1;}#sk-container-id-1 div.sk-parallel-item {display: flex;flex-direction: column;z-index: 1;position: relative;background-color: white;}#sk-container-id-1 div.sk-parallel-item:first-child::after {align-self: flex-end;width: 50%;}#sk-container-id-1 div.sk-parallel-item:last-child::after {align-self: flex-start;width: 50%;}#sk-container-id-1 div.sk-parallel-item:only-child::after {width: 0;}#sk-container-id-1 div.sk-dashed-wrapped {border: 1px dashed gray;margin: 0 0.4em 0.5em 0.4em;box-sizing: border-box;padding-bottom: 0.4em;background-color: white;}#sk-container-id-1 div.sk-label label {font-family: monospace;font-weight: bold;display: inline-block;line-height: 1.2em;}#sk-container-id-1 div.sk-label-container {text-align: center;}#sk-container-id-1 div.sk-container {/* jupyter's `normalize.less` sets `[hidden] { display: none; }` but bootstrap.min.css set `[hidden] { display: none !important; }` so we also need the `!important` here to be able to override the default hidden behavior on the sphinx rendered scikit-learn.org. See: https://github.com/scikit-learn/scikit-learn/issues/21755 */display: inline-block !important;position: relative;}#sk-container-id-1 div.sk-text-repr-fallback {display: none;}</style><div id=\"sk-container-id-1\" class=\"sk-top-container\"><div class=\"sk-text-repr-fallback\"><pre>KMeans(n_clusters=17, random_state=1234)</pre><b>In a Jupyter environment, please rerun this cell to show the HTML representation or trust the notebook. <br />On GitHub, the HTML representation is unable to render, please try loading this page with nbviewer.org.</b></div><div class=\"sk-container\" hidden><div class=\"sk-item\"><div class=\"sk-estimator sk-toggleable\"><input class=\"sk-toggleable__control sk-hidden--visually\" id=\"sk-estimator-id-1\" type=\"checkbox\" checked><label for=\"sk-estimator-id-1\" class=\"sk-toggleable__label sk-toggleable__label-arrow\">KMeans</label><div class=\"sk-toggleable__content\"><pre>KMeans(n_clusters=17, random_state=1234)</pre></div></div></div></div></div>"
      ],
      "text/plain": [
       "KMeans(n_clusters=17, random_state=1234)"
      ]
     },
     "execution_count": 18,
     "metadata": {},
     "output_type": "execute_result"
    }
   ],
   "source": [
    "kmeans = KMeans(n_clusters=17, random_state=1234)\n",
    "kmeans.fit(X_scaled)"
   ]
  },
  {
   "cell_type": "code",
   "execution_count": 19,
   "id": "f73d2f59",
   "metadata": {},
   "outputs": [],
   "source": [
    "clusters = kmeans.predict(X_scaled)"
   ]
  },
  {
   "cell_type": "code",
   "execution_count": 20,
   "id": "1f34a488",
   "metadata": {},
   "outputs": [],
   "source": [
    "# pd.Series(clusters).value_counts().sort_index()"
   ]
  },
  {
   "cell_type": "code",
   "execution_count": 21,
   "id": "33d3dc6b",
   "metadata": {},
   "outputs": [],
   "source": [
    "# clusters"
   ]
  },
  {
   "cell_type": "code",
   "execution_count": 22,
   "id": "16297120",
   "metadata": {},
   "outputs": [],
   "source": [
    "feat['cluster']=clusters"
   ]
  },
  {
   "cell_type": "code",
   "execution_count": 23,
   "id": "ed7686eb",
   "metadata": {},
   "outputs": [],
   "source": [
    "# feat.head(5)"
   ]
  },
  {
   "cell_type": "code",
   "execution_count": 24,
   "id": "c76e1c30",
   "metadata": {},
   "outputs": [],
   "source": [
    "# feat.head()"
   ]
  },
  {
   "cell_type": "code",
   "execution_count": 25,
   "id": "4925feea",
   "metadata": {},
   "outputs": [],
   "source": [
    "feat.to_csv('features.csv', index=False)"
   ]
  }
 ],
 "metadata": {
  "kernelspec": {
   "display_name": "Python 3 (ipykernel)",
   "language": "python",
   "name": "python3"
  },
  "language_info": {
   "codemirror_mode": {
    "name": "ipython",
    "version": 3
   },
   "file_extension": ".py",
   "mimetype": "text/x-python",
   "name": "python",
   "nbconvert_exporter": "python",
   "pygments_lexer": "ipython3",
   "version": "3.10.9"
  }
 },
 "nbformat": 4,
 "nbformat_minor": 5
}
