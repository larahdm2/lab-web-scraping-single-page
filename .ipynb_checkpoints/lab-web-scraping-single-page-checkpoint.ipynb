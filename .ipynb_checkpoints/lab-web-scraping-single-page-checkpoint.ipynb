{
 "cells": [
  {
   "cell_type": "code",
   "execution_count": 1,
   "id": "7c5cb486",
   "metadata": {},
   "outputs": [],
   "source": [
    "from bs4 import BeautifulSoup\n",
    "import requests\n",
    "import pandas as pd"
   ]
  },
  {
   "cell_type": "code",
   "execution_count": 2,
   "id": "9025261a",
   "metadata": {},
   "outputs": [
    {
     "data": {
      "text/plain": [
       "200"
      ]
     },
     "execution_count": 2,
     "metadata": {},
     "output_type": "execute_result"
    }
   ],
   "source": [
    "url = \"https://www.popvortex.com/music/charts/top-100-songs.php\"\n",
    "response = requests.get(url)\n",
    "response.status_code"
   ]
  },
  {
   "cell_type": "code",
   "execution_count": 3,
   "id": "d7a566ab",
   "metadata": {},
   "outputs": [],
   "source": [
    "soup = BeautifulSoup(response.content, 'html.parser')"
   ]
  },
  {
   "cell_type": "code",
   "execution_count": 4,
   "id": "bea65ae4",
   "metadata": {},
   "outputs": [],
   "source": [
    "songs = []\n",
    "\n",
    "for title in soup.select(\"div.chart-content > p.title-artist > cite\"):\n",
    "    songs.append(title.text)"
   ]
  },
  {
   "cell_type": "code",
   "execution_count": 5,
   "id": "3ef3fe0b",
   "metadata": {},
   "outputs": [
    {
     "data": {
      "text/plain": [
       "['Margaritaville',\n",
       " 'Come Monday',\n",
       " 'Rich Men North of Richmond',\n",
       " 'Cheeseburger In Paradise',\n",
       " 'Changes In Latitudes, Changes In Attitudes',\n",
       " 'A Pirate Looks at Forty',\n",
       " \"It's Five O'Clock Somewhere (Live)\",\n",
       " 'Paint The Town Red',\n",
       " 'I Remember Everything (feat. Kacey Musgraves)',\n",
       " 'Last Time I Saw You',\n",
       " 'Son of a Son of a Sailor',\n",
       " 'Fast Car',\n",
       " 'Lil Boo Thang',\n",
       " 'Used To Be Young',\n",
       " 'Fins',\n",
       " 'Cruel Summer',\n",
       " 'I Want to go Home',\n",
       " 'Last Night',\n",
       " 'Need A Favor',\n",
       " 'Try That In A Small Town',\n",
       " 'Southern Cross (Live)',\n",
       " \"Why Don't We Get Drunk\",\n",
       " '90 some Chevy',\n",
       " 'Brown Eyed Girl (Live)',\n",
       " 'White Horse',\n",
       " 'Keep Going Up',\n",
       " 'Dance The Night',\n",
       " \"It's Five O'Clock Somewhere (with Jimmy Buffett)\",\n",
       " 'Volcano',\n",
       " 'Save Me (with Lainey Wilson)',\n",
       " 'Rockstar',\n",
       " 'Indiana Jones',\n",
       " 'Aint Gotta Dollar',\n",
       " 'Watermelon Moonshine',\n",
       " 'Thinkin’ Bout Me',\n",
       " 'Flowers',\n",
       " 'Religiously',\n",
       " 'Lose Control',\n",
       " 'Used To Be Young',\n",
       " 'Southern Cross',\n",
       " 'Dreams',\n",
       " 'Trip Around the Sun',\n",
       " 'vampire',\n",
       " 'Calm Down',\n",
       " 'Beat You There',\n",
       " 'He Went to Paris',\n",
       " 'How You Remind Me',\n",
       " 'Son Of A Sinner',\n",
       " 'Have You Ever Seen the Rain',\n",
       " 'Knee Deep (feat. Jimmy Buffett) [Greatest Hits Version]',\n",
       " 'What Was I Made For? [From The Motion Picture \"Barbie\"]',\n",
       " 'Far Away',\n",
       " 'Suddenly, One Day, There Is a Pink Love That Brings Good News',\n",
       " \"Something in the Orange (Z&E's Version)\",\n",
       " 'Love You Anyway',\n",
       " 'I Want To Go Home (live)',\n",
       " 'Photograph',\n",
       " 'Boat Drinks',\n",
       " 'Ive Got to Get Sober',\n",
       " 'Let My Heart Stop Missing Now',\n",
       " 'Single Soon',\n",
       " 'Brown Eyed Girl',\n",
       " 'Margaritaville (Lost Verse Included) [Live]',\n",
       " 'Latinos For Trump',\n",
       " 'Forever Young',\n",
       " 'One Particular Harbour',\n",
       " 'All Star',\n",
       " 'Enter Sandman',\n",
       " \"I'll Stand By You\",\n",
       " 'Anti-Hero',\n",
       " 'In Your Love',\n",
       " 'Barbie World (with Aqua)',\n",
       " 'Come Monday',\n",
       " \"Hard to Say I'm Sorry / Get Away\",\n",
       " 'TRUCK BED',\n",
       " 'Bury Me in Georgia (Single Edit)',\n",
       " 'Dial Drunk',\n",
       " 'Thought You Should Know',\n",
       " 'Everything I Love',\n",
       " 'Strokey Doke',\n",
       " 'bad idea right?',\n",
       " 'Pencil Thin Mustache',\n",
       " 'Snooze',\n",
       " \"You're the Inspiration\",\n",
       " 'Gypsy',\n",
       " 'Tennessee Whiskey',\n",
       " 'One Particular Harbour (Live)',\n",
       " 'We Didn’t Start The Fire',\n",
       " 'Daylight',\n",
       " 'Bama Breeze',\n",
       " 'Pretty Little Poison',\n",
       " 'Fortunate Son',\n",
       " 'Rhiannon',\n",
       " 'Spirit In the Sky',\n",
       " 'august',\n",
       " \"Don't Keep It In Your Heart, There's Nothing Happy About It\",\n",
       " 'Demons',\n",
       " 'If You Leave Me Now',\n",
       " 'Bring Me to Life',\n",
       " 'Hey Driver (feat. The War and Treaty)']"
      ]
     },
     "execution_count": 5,
     "metadata": {},
     "output_type": "execute_result"
    }
   ],
   "source": [
    "songs"
   ]
  },
  {
   "cell_type": "code",
   "execution_count": 6,
   "id": "fa410a4d",
   "metadata": {},
   "outputs": [],
   "source": [
    "performer = []   \n",
    "for artist in soup.select(\"div.chart-content > p.title-artist > em\"):\n",
    "    performer.append(artist.text)"
   ]
  },
  {
   "cell_type": "code",
   "execution_count": 7,
   "id": "6f8ef530",
   "metadata": {},
   "outputs": [
    {
     "data": {
      "text/html": [
       "<div>\n",
       "<style scoped>\n",
       "    .dataframe tbody tr th:only-of-type {\n",
       "        vertical-align: middle;\n",
       "    }\n",
       "\n",
       "    .dataframe tbody tr th {\n",
       "        vertical-align: top;\n",
       "    }\n",
       "\n",
       "    .dataframe thead th {\n",
       "        text-align: right;\n",
       "    }\n",
       "</style>\n",
       "<table border=\"1\" class=\"dataframe\">\n",
       "  <thead>\n",
       "    <tr style=\"text-align: right;\">\n",
       "      <th></th>\n",
       "      <th>songs</th>\n",
       "      <th>performer</th>\n",
       "    </tr>\n",
       "  </thead>\n",
       "  <tbody>\n",
       "    <tr>\n",
       "      <th>0</th>\n",
       "      <td>Margaritaville</td>\n",
       "      <td>Jimmy Buffett</td>\n",
       "    </tr>\n",
       "    <tr>\n",
       "      <th>1</th>\n",
       "      <td>Come Monday</td>\n",
       "      <td>Jimmy Buffett</td>\n",
       "    </tr>\n",
       "    <tr>\n",
       "      <th>2</th>\n",
       "      <td>Rich Men North of Richmond</td>\n",
       "      <td>Oliver Anthony Music</td>\n",
       "    </tr>\n",
       "    <tr>\n",
       "      <th>3</th>\n",
       "      <td>Cheeseburger In Paradise</td>\n",
       "      <td>Jimmy Buffett</td>\n",
       "    </tr>\n",
       "    <tr>\n",
       "      <th>4</th>\n",
       "      <td>Changes In Latitudes, Changes In Attitudes</td>\n",
       "      <td>Jimmy Buffett</td>\n",
       "    </tr>\n",
       "    <tr>\n",
       "      <th>...</th>\n",
       "      <td>...</td>\n",
       "      <td>...</td>\n",
       "    </tr>\n",
       "    <tr>\n",
       "      <th>95</th>\n",
       "      <td>Don't Keep It In Your Heart, There's Nothing H...</td>\n",
       "      <td>Vy Napi</td>\n",
       "    </tr>\n",
       "    <tr>\n",
       "      <th>96</th>\n",
       "      <td>Demons</td>\n",
       "      <td>Doja Cat</td>\n",
       "    </tr>\n",
       "    <tr>\n",
       "      <th>97</th>\n",
       "      <td>If You Leave Me Now</td>\n",
       "      <td>Chicago</td>\n",
       "    </tr>\n",
       "    <tr>\n",
       "      <th>98</th>\n",
       "      <td>Bring Me to Life</td>\n",
       "      <td>Evanescence</td>\n",
       "    </tr>\n",
       "    <tr>\n",
       "      <th>99</th>\n",
       "      <td>Hey Driver (feat. The War and Treaty)</td>\n",
       "      <td>Zach Bryan</td>\n",
       "    </tr>\n",
       "  </tbody>\n",
       "</table>\n",
       "<p>100 rows × 2 columns</p>\n",
       "</div>"
      ],
      "text/plain": [
       "                                                songs             performer\n",
       "0                                      Margaritaville         Jimmy Buffett\n",
       "1                                         Come Monday         Jimmy Buffett\n",
       "2                          Rich Men North of Richmond  Oliver Anthony Music\n",
       "3                            Cheeseburger In Paradise         Jimmy Buffett\n",
       "4          Changes In Latitudes, Changes In Attitudes         Jimmy Buffett\n",
       "..                                                ...                   ...\n",
       "95  Don't Keep It In Your Heart, There's Nothing H...               Vy Napi\n",
       "96                                             Demons              Doja Cat\n",
       "97                                If You Leave Me Now               Chicago\n",
       "98                                   Bring Me to Life           Evanescence\n",
       "99              Hey Driver (feat. The War and Treaty)            Zach Bryan\n",
       "\n",
       "[100 rows x 2 columns]"
      ]
     },
     "execution_count": 7,
     "metadata": {},
     "output_type": "execute_result"
    }
   ],
   "source": [
    "df_popvortex = pd.DataFrame({'songs':songs, 'performer':performer})\n",
    "df_popvortex"
   ]
  }
 ],
 "metadata": {
  "kernelspec": {
   "display_name": "Python 3 (ipykernel)",
   "language": "python",
   "name": "python3"
  },
  "language_info": {
   "codemirror_mode": {
    "name": "ipython",
    "version": 3
   },
   "file_extension": ".py",
   "mimetype": "text/x-python",
   "name": "python",
   "nbconvert_exporter": "python",
   "pygments_lexer": "ipython3",
   "version": "3.10.9"
  }
 },
 "nbformat": 4,
 "nbformat_minor": 5
}
