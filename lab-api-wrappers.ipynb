{
 "cells": [
  {
   "cell_type": "code",
   "execution_count": 1,
   "id": "6ea932ac",
   "metadata": {},
   "outputs": [],
   "source": [
    "import spotipy\n",
    "from spotipy.oauth2 import SpotifyClientCredentials\n",
    "\n",
    "import pandas as pd\n",
    "from pandas import json_normalize\n",
    "\n",
    "from random import randint\n",
    "from time import sleep\n",
    "\n",
    "import requests"
   ]
  },
  {
   "cell_type": "code",
   "execution_count": 2,
   "id": "052f10d0",
   "metadata": {},
   "outputs": [],
   "source": [
    "pd.set_option(\"display.max_columns\", 0)"
   ]
  },
  {
   "cell_type": "code",
   "execution_count": 3,
   "id": "7fb34738",
   "metadata": {},
   "outputs": [],
   "source": [
    "secrets_file = open(\"secrets.txt\",\"r\")\n",
    "string = secrets_file.read()\n",
    "secrets_dict={}\n",
    "\n",
    "for line in string.split('\\n'):\n",
    "    if len(line) > 0:\n",
    "        #print(line.split(':'))\n",
    "        secrets_dict[line.split(':')[0]]=line.split(':')[1].strip()\n",
    "\n",
    "sp = spotipy.Spotify(auth_manager=SpotifyClientCredentials(client_id=secrets_dict['clientid'],\n",
    "                                                           client_secret=secrets_dict['clientsecret']))"
   ]
  },
  {
   "cell_type": "markdown",
   "id": "4ce25ff5",
   "metadata": {},
   "source": [
    "# 1. Biggest Playlist with all the Best Songs"
   ]
  },
  {
   "cell_type": "code",
   "execution_count": 4,
   "id": "0518f992",
   "metadata": {},
   "outputs": [],
   "source": [
    "playlist = sp.user_playlist_tracks(\"spotify\", \"54nv8jbrm4JoHEZ49Qvjgl\")"
   ]
  },
  {
   "cell_type": "code",
   "execution_count": 5,
   "id": "be168160",
   "metadata": {},
   "outputs": [],
   "source": [
    "# playlist[\"total\"] "
   ]
  },
  {
   "cell_type": "code",
   "execution_count": 6,
   "id": "95b74288",
   "metadata": {},
   "outputs": [],
   "source": [
    "def get_playlist_tracks(playlist_id):\n",
    "    results = sp.user_playlist_tracks(\"spotify\",playlist_id)\n",
    "    tracks = results['items']\n",
    "    while results['next']!=None:\n",
    "        results = sp.next(results)\n",
    "        tracks = tracks + results['items']\n",
    "        sleep(randint(1,3000)/1000) # respectful nap\n",
    "    return tracks"
   ]
  },
  {
   "cell_type": "code",
   "execution_count": 7,
   "id": "b523b5aa",
   "metadata": {},
   "outputs": [],
   "source": [
    "all_tracks = get_playlist_tracks(\"54nv8jbrm4JoHEZ49Qvjgl\")"
   ]
  },
  {
   "cell_type": "code",
   "execution_count": 8,
   "id": "f78922c7",
   "metadata": {},
   "outputs": [],
   "source": [
    "# all_tracks"
   ]
  },
  {
   "cell_type": "code",
   "execution_count": 9,
   "id": "d57797fa",
   "metadata": {},
   "outputs": [],
   "source": [
    "# type(all_tracks)"
   ]
  },
  {
   "cell_type": "markdown",
   "id": "c28492a1",
   "metadata": {},
   "source": [
    "> * The name of the artist is inside a dictionary named \"external_urls\", that is inside a list which is the value of a key \"artists\", that is in the dictionary \"album\" which is the value for the key \"track\" at the main list. So the structure is as follows:\n",
    ">\n",
    "            ['track': {'album': {'artists': [{'name': 'Katy Perry'}]}}]\n",
    ">\n",
    "> Or:\n",
    ">\n",
    "            [{'track': {'artists': [{'name': 'Katy Perry'}]}}]\n",
    ">\n",
    "> * The name of the album is inside \"album\":\n",
    ">\n",
    "            ['track': {'album': {'name': 'Teenage Dream: The Complete Confection'}}]\n",
    ">\n",
    "> * And the name of the song:\n",
    ">\n",
    "            ['track': {'name': 'Firework'}}]\n",
    ">\n",
    "> This is the structure:\n",
    ">\n",
    "            [{\n",
    "            'track':\n",
    "                        {\n",
    "                         'album': \n",
    "                                    {\n",
    "                                    'artists': \n",
    "                                                [{\n",
    "                                                'name': 'Katy Perry',\n",
    "                                                }],\n",
    "                                    'name': 'Teenage Dream: The Complete Confection',\n",
    "                                    },\n",
    "                        'artists': \n",
    "                                    [{\n",
    "                                    'name': 'Katy Perry',\n",
    "                                    }],\n",
    "                        'name': 'Firework',\n",
    "                        },\n",
    "            }]\n",
    ">\n",
    "> So we´ll get a json normalised table with columns track.album.artists, track.artists; qhere we can extract the name of the artist, track.album.name; where we can extract the name of the album, and track.name, where we can extract the name of the song."
   ]
  },
  {
   "cell_type": "code",
   "execution_count": 10,
   "id": "abe97948",
   "metadata": {},
   "outputs": [],
   "source": [
    "tracks = json_normalize(all_tracks)"
   ]
  },
  {
   "cell_type": "code",
   "execution_count": 11,
   "id": "86310776",
   "metadata": {
    "scrolled": true
   },
   "outputs": [],
   "source": [
    "# tracks"
   ]
  },
  {
   "cell_type": "markdown",
   "id": "31fe6cce",
   "metadata": {},
   "source": [
    "> If the track.artist column had been a dictionary of dictionaries, json_normalize would have handled it. However, it doesn't handle a list of dictionaries."
   ]
  },
  {
   "cell_type": "code",
   "execution_count": 12,
   "id": "963c4eaf",
   "metadata": {},
   "outputs": [],
   "source": [
    "# type(tracks)"
   ]
  },
  {
   "cell_type": "code",
   "execution_count": 13,
   "id": "a6cd9e22",
   "metadata": {},
   "outputs": [],
   "source": [
    "# len(tracks)"
   ]
  },
  {
   "cell_type": "code",
   "execution_count": 14,
   "id": "b7a24f2a",
   "metadata": {},
   "outputs": [],
   "source": [
    "# tracks['track.artists'][0]"
   ]
  },
  {
   "cell_type": "markdown",
   "id": "44fe2b4f",
   "metadata": {},
   "source": [
    "> If we want to slice the column, we have to do it this way:"
   ]
  },
  {
   "cell_type": "code",
   "execution_count": 15,
   "id": "c9d2eeed",
   "metadata": {},
   "outputs": [],
   "source": [
    "# json_normalize(tracks['track.artists'][0])"
   ]
  },
  {
   "cell_type": "markdown",
   "id": "575d5036",
   "metadata": {},
   "source": [
    "> We´d like to extract the information in track.artist. Tracks is a pandas dataframe with 9925 rows, same lenght as the Spotify list. Column track.artist values contain a list with a dictionary. And we want to transform that list to a dictionary so that json_normalize recognises it and handles it."
   ]
  },
  {
   "cell_type": "code",
   "execution_count": 16,
   "id": "01121daa",
   "metadata": {},
   "outputs": [],
   "source": [
    "# def list_to_dict(x):\n",
    "#     return {i: x[i] for i in range(len(x))}"
   ]
  },
  {
   "cell_type": "code",
   "execution_count": 17,
   "id": "f4b3ed60",
   "metadata": {},
   "outputs": [],
   "source": [
    "# for i in range(3230, 9925):\n",
    "#     print('number ', i ,': ', len(tracks['track.artists'][i]))   "
   ]
  },
  {
   "cell_type": "code",
   "execution_count": 18,
   "id": "2f7f9bf3",
   "metadata": {},
   "outputs": [],
   "source": [
    "# json_normalize(tracks['track.artists'][3229])"
   ]
  },
  {
   "cell_type": "markdown",
   "id": "66bce95c",
   "metadata": {},
   "source": [
    "> It looks like there is a float number in item 3229. I can´t even print that item. So I´ll skip that item in the function.\n",
    ">\n",
    "> I found a chain function here: https://stackoverflow.com/questions/14099872/concatenating-two-range-function-results"
   ]
  },
  {
   "cell_type": "code",
   "execution_count": 19,
   "id": "c20a02b9",
   "metadata": {},
   "outputs": [],
   "source": [
    "# from itertools import chain"
   ]
  },
  {
   "cell_type": "code",
   "execution_count": 20,
   "id": "8391234d",
   "metadata": {},
   "outputs": [],
   "source": [
    "# concatenated = list(chain(range(3229), range(3230, 9925)))"
   ]
  },
  {
   "cell_type": "code",
   "execution_count": 21,
   "id": "76bcc901",
   "metadata": {},
   "outputs": [],
   "source": [
    "# def list_to_dict(x):   \n",
    "#     return {i: x[i] for i in concatenated}"
   ]
  },
  {
   "cell_type": "code",
   "execution_count": 22,
   "id": "26a16cfd",
   "metadata": {},
   "outputs": [],
   "source": [
    "# type(concatenated[0])"
   ]
  },
  {
   "cell_type": "code",
   "execution_count": 23,
   "id": "0596c481",
   "metadata": {},
   "outputs": [],
   "source": [
    "# for i in concatenated:\n",
    "#     print('number ', len(tracks['artist_dict'][i]))   "
   ]
  },
  {
   "cell_type": "markdown",
   "id": "6aac3b9f",
   "metadata": {},
   "source": [
    "> For some reason, the function doesn´t work, but the iteration does work. I´ll do it with isinstance."
   ]
  },
  {
   "cell_type": "code",
   "execution_count": 24,
   "id": "6abfaf1d",
   "metadata": {},
   "outputs": [],
   "source": [
    "# def list_to_dict(x):\n",
    "#     for i in concatenated:\n",
    "#         return{i: x[i]}"
   ]
  },
  {
   "cell_type": "code",
   "execution_count": 25,
   "id": "13133bb1",
   "metadata": {},
   "outputs": [],
   "source": [
    "# def list_to_dict(x):\n",
    "#     result = {}\n",
    "#     for i in len(tracks['track.artists']):\n",
    "#         if not isinstance(x[i], float):\n",
    "#             result[i] = x[i]\n",
    "#     return result"
   ]
  },
  {
   "cell_type": "code",
   "execution_count": 26,
   "id": "43c0bcc3",
   "metadata": {},
   "outputs": [],
   "source": [
    "def list_to_dict(x):\n",
    "    if isinstance(x, list):\n",
    "        return {i: x[i] for i in range(len(x))}\n",
    "    else:\n",
    "        return {}"
   ]
  },
  {
   "cell_type": "code",
   "execution_count": 27,
   "id": "f38f59b2",
   "metadata": {},
   "outputs": [],
   "source": [
    "tracks['artist_dict'] = tracks['track.artists'].apply(list_to_dict)"
   ]
  },
  {
   "cell_type": "code",
   "execution_count": 28,
   "id": "260ccc12",
   "metadata": {},
   "outputs": [],
   "source": [
    "# tracks.shape"
   ]
  },
  {
   "cell_type": "code",
   "execution_count": 29,
   "id": "d0ecccc6",
   "metadata": {},
   "outputs": [],
   "source": [
    "# tracks['artist_dict'][0]"
   ]
  },
  {
   "cell_type": "markdown",
   "id": "51ca023f",
   "metadata": {},
   "source": [
    "> Now, we´d like to create a df. Every item of the artist_dict column will be a column in the new data frame. But every item has this structure: {0: {key:value, key:value, ...}}; so the function reads it as if 0 was the column, and we want it to be the row. So we´ll transpose it. It works the same way as the orient='index' seen in class."
   ]
  },
  {
   "cell_type": "code",
   "execution_count": 30,
   "id": "dc8d27c2",
   "metadata": {},
   "outputs": [],
   "source": [
    "def create_dict(row):\n",
    "    df = pd.DataFrame.from_dict(row['artist_dict']).T\n",
    "    df['song_id'] = row['track.id']\n",
    "    return df"
   ]
  },
  {
   "cell_type": "code",
   "execution_count": 32,
   "id": "6617c225",
   "metadata": {},
   "outputs": [],
   "source": [
    "tracks['artists_dfs'] = tracks.apply(create_dict, axis=1)"
   ]
  },
  {
   "cell_type": "code",
   "execution_count": 33,
   "id": "4c5ce1a9",
   "metadata": {},
   "outputs": [],
   "source": [
    "# tracks['artists_dfs'][0]"
   ]
  },
  {
   "cell_type": "markdown",
   "id": "1835a4dd",
   "metadata": {},
   "source": [
    "> But we'd like to have those df in the main df. So, we will create a new one, empty, and concatenate each of the dfs. Later, we´ll merge it."
   ]
  },
  {
   "cell_type": "code",
   "execution_count": 34,
   "id": "8e8f5b61",
   "metadata": {},
   "outputs": [],
   "source": [
    "artist_df = pd.DataFrame(columns=['external_urls', 'href', 'id', 'name', 'type', 'uri'])\n",
    "# artist_df"
   ]
  },
  {
   "cell_type": "code",
   "execution_count": 35,
   "id": "9d736705",
   "metadata": {},
   "outputs": [],
   "source": [
    "for df in tracks['artists_dfs']:\n",
    "    artist_df = pd.concat([artist_df, df], axis=0)"
   ]
  },
  {
   "cell_type": "code",
   "execution_count": 36,
   "id": "95dddddd",
   "metadata": {},
   "outputs": [],
   "source": [
    "# artist_df.head(5)"
   ]
  },
  {
   "cell_type": "code",
   "execution_count": 37,
   "id": "22bc181c",
   "metadata": {},
   "outputs": [],
   "source": [
    "# artist_df.shape"
   ]
  },
  {
   "cell_type": "code",
   "execution_count": 38,
   "id": "c053e0e0",
   "metadata": {},
   "outputs": [],
   "source": [
    "# artist_df['id'].nunique()"
   ]
  },
  {
   "cell_type": "code",
   "execution_count": 39,
   "id": "0ccbd2ae",
   "metadata": {},
   "outputs": [],
   "source": [
    "# artist_df['name'].nunique()"
   ]
  },
  {
   "cell_type": "code",
   "execution_count": 40,
   "id": "6ebd7844",
   "metadata": {},
   "outputs": [],
   "source": [
    "# tracks['track.id'].nunique()"
   ]
  },
  {
   "cell_type": "code",
   "execution_count": 41,
   "id": "d33d67ea",
   "metadata": {},
   "outputs": [],
   "source": [
    "# artist_df['song_id']"
   ]
  },
  {
   "cell_type": "code",
   "execution_count": 42,
   "id": "dd928f7f",
   "metadata": {},
   "outputs": [],
   "source": [
    "# artist_df['song_id'].count()"
   ]
  },
  {
   "cell_type": "code",
   "execution_count": 43,
   "id": "ceec27a6",
   "metadata": {},
   "outputs": [],
   "source": [
    "# artist_df['song_id'].nunique()"
   ]
  },
  {
   "cell_type": "code",
   "execution_count": 44,
   "id": "6cf53d70",
   "metadata": {},
   "outputs": [],
   "source": [
    "# tracks['track.id'].nunique()"
   ]
  },
  {
   "cell_type": "code",
   "execution_count": 45,
   "id": "0a989d5b",
   "metadata": {},
   "outputs": [],
   "source": [
    "# artist_df.groupby(['song_id'])['name'].agg('count')"
   ]
  },
  {
   "cell_type": "code",
   "execution_count": 46,
   "id": "d4853bb3",
   "metadata": {},
   "outputs": [],
   "source": [
    "# tracks['track.name']"
   ]
  },
  {
   "cell_type": "markdown",
   "id": "7a16ef68",
   "metadata": {},
   "source": [
    "> In tracks, one row is created per name of song. But in artist_df, there are 12184 of wich only 9904 are unique, like on tracks. There can be more than one artist per song, so I want to keep all the information."
   ]
  },
  {
   "cell_type": "code",
   "execution_count": 47,
   "id": "8aedf817",
   "metadata": {},
   "outputs": [],
   "source": [
    "df_merged = pd.merge(left=tracks,\n",
    "                    right=artist_df,\n",
    "                    how='inner',\n",
    "                    left_on='track.id',\n",
    "                    right_on='song_id')"
   ]
  },
  {
   "cell_type": "code",
   "execution_count": 48,
   "id": "7561c570",
   "metadata": {},
   "outputs": [],
   "source": [
    "df_final = df_merged[['track.name', 'name', 'song_id']]"
   ]
  },
  {
   "cell_type": "code",
   "execution_count": 49,
   "id": "f7e16e21",
   "metadata": {},
   "outputs": [],
   "source": [
    "# df_final"
   ]
  },
  {
   "cell_type": "code",
   "execution_count": 50,
   "id": "5a5f5d9f",
   "metadata": {},
   "outputs": [],
   "source": [
    "# df_final.drop_duplicates()"
   ]
  },
  {
   "cell_type": "code",
   "execution_count": 51,
   "id": "71b6570e",
   "metadata": {},
   "outputs": [],
   "source": [
    "# df_final.isna().sum()"
   ]
  },
  {
   "cell_type": "markdown",
   "id": "3c018fe6",
   "metadata": {},
   "source": [
    "# 2. Get the Features\n",
    "\n",
    "https://developer.spotify.com/documentation/web-api/reference/get-audio-features"
   ]
  },
  {
   "cell_type": "code",
   "execution_count": 52,
   "id": "0c634f12",
   "metadata": {},
   "outputs": [],
   "source": [
    "chunks = [(i, i+100) for i in range(0, len(df_final), 100)]\n",
    "\n",
    "audio_features_list = []\n",
    "\n",
    "for chunk in chunks:\n",
    "    id_list100 = df_final['song_id'][chunk[0]:chunk[1]]\n",
    "    audio_features_list = audio_features_list + sp.audio_features(id_list100)\n",
    "    sleep(randint(1,3000)/1000)\n",
    "\n",
    "    len(audio_features_list)"
   ]
  },
  {
   "cell_type": "code",
   "execution_count": 53,
   "id": "104bfc12",
   "metadata": {},
   "outputs": [],
   "source": [
    "audio_features_df = json_normalize(audio_features_list)"
   ]
  },
  {
   "cell_type": "code",
   "execution_count": 54,
   "id": "1b79a7d6",
   "metadata": {},
   "outputs": [],
   "source": [
    "# audio_features_df"
   ]
  },
  {
   "cell_type": "code",
   "execution_count": 55,
   "id": "b0fc7f54",
   "metadata": {},
   "outputs": [],
   "source": [
    "df_ft = pd.merge(left=df_final,\n",
    "                        right=audio_features_df,\n",
    "                        how='inner',\n",
    "                        left_on='song_id',\n",
    "                        right_on='id')"
   ]
  },
  {
   "cell_type": "code",
   "execution_count": 56,
   "id": "f87f613b",
   "metadata": {},
   "outputs": [],
   "source": [
    "# df_ft"
   ]
  },
  {
   "cell_type": "code",
   "execution_count": 57,
   "id": "213e8b99",
   "metadata": {},
   "outputs": [],
   "source": [
    "df_ft.drop_duplicates(inplace=True)"
   ]
  },
  {
   "cell_type": "markdown",
   "id": "a741bf58",
   "metadata": {},
   "source": [
    "> And this would be the final dataframe"
   ]
  },
  {
   "cell_type": "code",
   "execution_count": 58,
   "id": "31562de1",
   "metadata": {},
   "outputs": [
    {
     "data": {
      "text/html": [
       "<div>\n",
       "<style scoped>\n",
       "    .dataframe tbody tr th:only-of-type {\n",
       "        vertical-align: middle;\n",
       "    }\n",
       "\n",
       "    .dataframe tbody tr th {\n",
       "        vertical-align: top;\n",
       "    }\n",
       "\n",
       "    .dataframe thead th {\n",
       "        text-align: right;\n",
       "    }\n",
       "</style>\n",
       "<table border=\"1\" class=\"dataframe\">\n",
       "  <thead>\n",
       "    <tr style=\"text-align: right;\">\n",
       "      <th></th>\n",
       "      <th>track.name</th>\n",
       "      <th>name</th>\n",
       "      <th>song_id</th>\n",
       "      <th>danceability</th>\n",
       "      <th>energy</th>\n",
       "      <th>key</th>\n",
       "      <th>loudness</th>\n",
       "      <th>mode</th>\n",
       "      <th>speechiness</th>\n",
       "      <th>acousticness</th>\n",
       "      <th>instrumentalness</th>\n",
       "      <th>liveness</th>\n",
       "      <th>valence</th>\n",
       "      <th>tempo</th>\n",
       "      <th>type</th>\n",
       "      <th>id</th>\n",
       "      <th>uri</th>\n",
       "      <th>track_href</th>\n",
       "      <th>analysis_url</th>\n",
       "      <th>duration_ms</th>\n",
       "      <th>time_signature</th>\n",
       "    </tr>\n",
       "  </thead>\n",
       "  <tbody>\n",
       "    <tr>\n",
       "      <th>0</th>\n",
       "      <td>Firework</td>\n",
       "      <td>Katy Perry</td>\n",
       "      <td>4lCv7b86sLynZbXhfScfm2</td>\n",
       "      <td>0.638</td>\n",
       "      <td>0.826</td>\n",
       "      <td>8</td>\n",
       "      <td>-4.968</td>\n",
       "      <td>1</td>\n",
       "      <td>0.0479</td>\n",
       "      <td>0.1390</td>\n",
       "      <td>0.000000</td>\n",
       "      <td>0.0803</td>\n",
       "      <td>0.649</td>\n",
       "      <td>124.072</td>\n",
       "      <td>audio_features</td>\n",
       "      <td>4lCv7b86sLynZbXhfScfm2</td>\n",
       "      <td>spotify:track:4lCv7b86sLynZbXhfScfm2</td>\n",
       "      <td>https://api.spotify.com/v1/tracks/4lCv7b86sLyn...</td>\n",
       "      <td>https://api.spotify.com/v1/audio-analysis/4lCv...</td>\n",
       "      <td>227880</td>\n",
       "      <td>4</td>\n",
       "    </tr>\n",
       "    <tr>\n",
       "      <th>1</th>\n",
       "      <td>All We Are</td>\n",
       "      <td>OneRepublic</td>\n",
       "      <td>1Jx69b09LKTuBQxkEiFfVX</td>\n",
       "      <td>0.397</td>\n",
       "      <td>0.817</td>\n",
       "      <td>2</td>\n",
       "      <td>-5.495</td>\n",
       "      <td>1</td>\n",
       "      <td>0.0420</td>\n",
       "      <td>0.0966</td>\n",
       "      <td>0.000008</td>\n",
       "      <td>0.3160</td>\n",
       "      <td>0.416</td>\n",
       "      <td>158.004</td>\n",
       "      <td>audio_features</td>\n",
       "      <td>1Jx69b09LKTuBQxkEiFfVX</td>\n",
       "      <td>spotify:track:1Jx69b09LKTuBQxkEiFfVX</td>\n",
       "      <td>https://api.spotify.com/v1/tracks/1Jx69b09LKTu...</td>\n",
       "      <td>https://api.spotify.com/v1/audio-analysis/1Jx6...</td>\n",
       "      <td>266227</td>\n",
       "      <td>4</td>\n",
       "    </tr>\n",
       "    <tr>\n",
       "      <th>2</th>\n",
       "      <td>Wake Up Alone</td>\n",
       "      <td>Amy Winehouse</td>\n",
       "      <td>4u83mwF5tUuWlXS86UOXdu</td>\n",
       "      <td>0.384</td>\n",
       "      <td>0.527</td>\n",
       "      <td>11</td>\n",
       "      <td>-5.294</td>\n",
       "      <td>0</td>\n",
       "      <td>0.0269</td>\n",
       "      <td>0.5420</td>\n",
       "      <td>0.000000</td>\n",
       "      <td>0.1560</td>\n",
       "      <td>0.222</td>\n",
       "      <td>100.730</td>\n",
       "      <td>audio_features</td>\n",
       "      <td>4u83mwF5tUuWlXS86UOXdu</td>\n",
       "      <td>spotify:track:4u83mwF5tUuWlXS86UOXdu</td>\n",
       "      <td>https://api.spotify.com/v1/tracks/4u83mwF5tUuW...</td>\n",
       "      <td>https://api.spotify.com/v1/audio-analysis/4u83...</td>\n",
       "      <td>221200</td>\n",
       "      <td>3</td>\n",
       "    </tr>\n",
       "    <tr>\n",
       "      <th>3</th>\n",
       "      <td>The Man Who Can't Be Moved</td>\n",
       "      <td>The Script</td>\n",
       "      <td>4Musyaro0NM5Awx8b5c627</td>\n",
       "      <td>0.608</td>\n",
       "      <td>0.629</td>\n",
       "      <td>10</td>\n",
       "      <td>-5.024</td>\n",
       "      <td>1</td>\n",
       "      <td>0.0264</td>\n",
       "      <td>0.4230</td>\n",
       "      <td>0.000000</td>\n",
       "      <td>0.0978</td>\n",
       "      <td>0.325</td>\n",
       "      <td>99.953</td>\n",
       "      <td>audio_features</td>\n",
       "      <td>4Musyaro0NM5Awx8b5c627</td>\n",
       "      <td>spotify:track:4Musyaro0NM5Awx8b5c627</td>\n",
       "      <td>https://api.spotify.com/v1/tracks/4Musyaro0NM5...</td>\n",
       "      <td>https://api.spotify.com/v1/audio-analysis/4Mus...</td>\n",
       "      <td>241467</td>\n",
       "      <td>4</td>\n",
       "    </tr>\n",
       "    <tr>\n",
       "      <th>4</th>\n",
       "      <td>Rolling in the Deep</td>\n",
       "      <td>Adele</td>\n",
       "      <td>1CkvWZme3pRgbzaxZnTl5X</td>\n",
       "      <td>0.729</td>\n",
       "      <td>0.756</td>\n",
       "      <td>8</td>\n",
       "      <td>-5.119</td>\n",
       "      <td>1</td>\n",
       "      <td>0.0294</td>\n",
       "      <td>0.1310</td>\n",
       "      <td>0.000000</td>\n",
       "      <td>0.0527</td>\n",
       "      <td>0.522</td>\n",
       "      <td>104.945</td>\n",
       "      <td>audio_features</td>\n",
       "      <td>1CkvWZme3pRgbzaxZnTl5X</td>\n",
       "      <td>spotify:track:1CkvWZme3pRgbzaxZnTl5X</td>\n",
       "      <td>https://api.spotify.com/v1/tracks/1CkvWZme3pRg...</td>\n",
       "      <td>https://api.spotify.com/v1/audio-analysis/1Ckv...</td>\n",
       "      <td>228293</td>\n",
       "      <td>4</td>\n",
       "    </tr>\n",
       "    <tr>\n",
       "      <th>...</th>\n",
       "      <td>...</td>\n",
       "      <td>...</td>\n",
       "      <td>...</td>\n",
       "      <td>...</td>\n",
       "      <td>...</td>\n",
       "      <td>...</td>\n",
       "      <td>...</td>\n",
       "      <td>...</td>\n",
       "      <td>...</td>\n",
       "      <td>...</td>\n",
       "      <td>...</td>\n",
       "      <td>...</td>\n",
       "      <td>...</td>\n",
       "      <td>...</td>\n",
       "      <td>...</td>\n",
       "      <td>...</td>\n",
       "      <td>...</td>\n",
       "      <td>...</td>\n",
       "      <td>...</td>\n",
       "      <td>...</td>\n",
       "      <td>...</td>\n",
       "    </tr>\n",
       "    <tr>\n",
       "      <th>21153</th>\n",
       "      <td>I AM WOMAN</td>\n",
       "      <td>Emmy Meli</td>\n",
       "      <td>3nOz1U41SZZ0N3fuUWr9nb</td>\n",
       "      <td>0.646</td>\n",
       "      <td>0.471</td>\n",
       "      <td>10</td>\n",
       "      <td>-9.247</td>\n",
       "      <td>1</td>\n",
       "      <td>0.1570</td>\n",
       "      <td>0.1220</td>\n",
       "      <td>0.000000</td>\n",
       "      <td>0.1250</td>\n",
       "      <td>0.455</td>\n",
       "      <td>170.084</td>\n",
       "      <td>audio_features</td>\n",
       "      <td>3nOz1U41SZZ0N3fuUWr9nb</td>\n",
       "      <td>spotify:track:3nOz1U41SZZ0N3fuUWr9nb</td>\n",
       "      <td>https://api.spotify.com/v1/tracks/3nOz1U41SZZ0...</td>\n",
       "      <td>https://api.spotify.com/v1/audio-analysis/3nOz...</td>\n",
       "      <td>232813</td>\n",
       "      <td>4</td>\n",
       "    </tr>\n",
       "    <tr>\n",
       "      <th>21154</th>\n",
       "      <td>The Girl</td>\n",
       "      <td>City and Colour</td>\n",
       "      <td>1IFRVS4t1olI0XG9RBWdKH</td>\n",
       "      <td>0.404</td>\n",
       "      <td>0.542</td>\n",
       "      <td>10</td>\n",
       "      <td>-7.578</td>\n",
       "      <td>1</td>\n",
       "      <td>0.0349</td>\n",
       "      <td>0.8370</td>\n",
       "      <td>0.000072</td>\n",
       "      <td>0.1370</td>\n",
       "      <td>0.183</td>\n",
       "      <td>109.166</td>\n",
       "      <td>audio_features</td>\n",
       "      <td>1IFRVS4t1olI0XG9RBWdKH</td>\n",
       "      <td>spotify:track:1IFRVS4t1olI0XG9RBWdKH</td>\n",
       "      <td>https://api.spotify.com/v1/tracks/1IFRVS4t1olI...</td>\n",
       "      <td>https://api.spotify.com/v1/audio-analysis/1IFR...</td>\n",
       "      <td>360107</td>\n",
       "      <td>4</td>\n",
       "    </tr>\n",
       "    <tr>\n",
       "      <th>21155</th>\n",
       "      <td>The Funeral</td>\n",
       "      <td>Band of Horses</td>\n",
       "      <td>5lRzWDEe7UuedU2QPsFg0K</td>\n",
       "      <td>0.319</td>\n",
       "      <td>0.757</td>\n",
       "      <td>0</td>\n",
       "      <td>-6.117</td>\n",
       "      <td>0</td>\n",
       "      <td>0.0432</td>\n",
       "      <td>0.0160</td>\n",
       "      <td>0.000000</td>\n",
       "      <td>0.1020</td>\n",
       "      <td>0.101</td>\n",
       "      <td>122.465</td>\n",
       "      <td>audio_features</td>\n",
       "      <td>5lRzWDEe7UuedU2QPsFg0K</td>\n",
       "      <td>spotify:track:5lRzWDEe7UuedU2QPsFg0K</td>\n",
       "      <td>https://api.spotify.com/v1/tracks/5lRzWDEe7Uue...</td>\n",
       "      <td>https://api.spotify.com/v1/audio-analysis/5lRz...</td>\n",
       "      <td>322173</td>\n",
       "      <td>4</td>\n",
       "    </tr>\n",
       "    <tr>\n",
       "      <th>21156</th>\n",
       "      <td>Hallucinogenics</td>\n",
       "      <td>Matt Maeson</td>\n",
       "      <td>6bLU8e0LGyztE9iD5DWBQ1</td>\n",
       "      <td>0.549</td>\n",
       "      <td>0.653</td>\n",
       "      <td>0</td>\n",
       "      <td>-7.470</td>\n",
       "      <td>1</td>\n",
       "      <td>0.0503</td>\n",
       "      <td>0.4570</td>\n",
       "      <td>0.000000</td>\n",
       "      <td>0.0969</td>\n",
       "      <td>0.287</td>\n",
       "      <td>121.348</td>\n",
       "      <td>audio_features</td>\n",
       "      <td>6bLU8e0LGyztE9iD5DWBQ1</td>\n",
       "      <td>spotify:track:6bLU8e0LGyztE9iD5DWBQ1</td>\n",
       "      <td>https://api.spotify.com/v1/tracks/6bLU8e0LGyzt...</td>\n",
       "      <td>https://api.spotify.com/v1/audio-analysis/6bLU...</td>\n",
       "      <td>187173</td>\n",
       "      <td>4</td>\n",
       "    </tr>\n",
       "    <tr>\n",
       "      <th>21157</th>\n",
       "      <td>Brazil</td>\n",
       "      <td>Declan McKenna</td>\n",
       "      <td>5ftdTvmQjjsL23t7jxADfI</td>\n",
       "      <td>0.689</td>\n",
       "      <td>0.617</td>\n",
       "      <td>4</td>\n",
       "      <td>-5.196</td>\n",
       "      <td>1</td>\n",
       "      <td>0.0290</td>\n",
       "      <td>0.0918</td>\n",
       "      <td>0.000021</td>\n",
       "      <td>0.0816</td>\n",
       "      <td>0.682</td>\n",
       "      <td>121.062</td>\n",
       "      <td>audio_features</td>\n",
       "      <td>5ftdTvmQjjsL23t7jxADfI</td>\n",
       "      <td>spotify:track:5ftdTvmQjjsL23t7jxADfI</td>\n",
       "      <td>https://api.spotify.com/v1/tracks/5ftdTvmQjjsL...</td>\n",
       "      <td>https://api.spotify.com/v1/audio-analysis/5ftd...</td>\n",
       "      <td>252307</td>\n",
       "      <td>4</td>\n",
       "    </tr>\n",
       "  </tbody>\n",
       "</table>\n",
       "<p>12158 rows × 21 columns</p>\n",
       "</div>"
      ],
      "text/plain": [
       "                       track.name             name  ... duration_ms  time_signature\n",
       "0                        Firework       Katy Perry  ...      227880               4\n",
       "1                      All We Are      OneRepublic  ...      266227               4\n",
       "2                   Wake Up Alone    Amy Winehouse  ...      221200               3\n",
       "3      The Man Who Can't Be Moved       The Script  ...      241467               4\n",
       "4             Rolling in the Deep            Adele  ...      228293               4\n",
       "...                           ...              ...  ...         ...             ...\n",
       "21153                  I AM WOMAN        Emmy Meli  ...      232813               4\n",
       "21154                    The Girl  City and Colour  ...      360107               4\n",
       "21155                 The Funeral   Band of Horses  ...      322173               4\n",
       "21156             Hallucinogenics      Matt Maeson  ...      187173               4\n",
       "21157                      Brazil   Declan McKenna  ...      252307               4\n",
       "\n",
       "[12158 rows x 21 columns]"
      ]
     },
     "execution_count": 58,
     "metadata": {},
     "output_type": "execute_result"
    }
   ],
   "source": [
    "df_ft"
   ]
  },
  {
   "cell_type": "code",
   "execution_count": 59,
   "id": "4fedbac9",
   "metadata": {},
   "outputs": [],
   "source": [
    "df_ft.to_csv('features.csv', index=False)"
   ]
  },
  {
   "cell_type": "markdown",
   "id": "c43dc48e",
   "metadata": {},
   "source": [
    "### Now trying to Extract from the API\n",
    "\n",
    "The lab is solved, but I want to try to extract it in other way."
   ]
  },
  {
   "cell_type": "code",
   "execution_count": 69,
   "id": "94f6b0e2",
   "metadata": {},
   "outputs": [],
   "source": [
    "secrets_file = open(\"secrets.txt\",\"r\")\n",
    "string = secrets_file.read()\n",
    "secrets_dict={}\n",
    "\n",
    "for line in string.split('\\n'):\n",
    "    if len(line) > 0:\n",
    "        secrets_dict[line.split(':')[0]]=line.split(':')[1].strip()\n",
    "\n",
    "sp = spotipy.Spotify(auth_manager=SpotifyClientCredentials(client_id=secrets_dict['clientid'],\n",
    "                                                           client_secret=secrets_dict['clientsecret']))"
   ]
  },
  {
   "cell_type": "code",
   "execution_count": null,
   "id": "e6e31f79",
   "metadata": {},
   "outputs": [],
   "source": [
    "url = \"https://accounts.spotify.com/api/token\"\n",
    "headers = {\"Content-Type\": \"application/x-www-form-urlencoded\"}\n",
    "\n",
    "data = {\n",
    "    \"grant_type\": 'client_credentials',\n",
    "    \"client_id\": secrets_dict['clientid'],\n",
    "    \"client_secret\": secrets_dict['clientsecret']\n",
    "}\n",
    "\n",
    "response = requests.post(url, headers=headers, data=data)\n",
    "\n",
    "if response.status_code == 200:\n",
    "    access_token = response.json()[\"access_token\"]\n",
    "    print(\"Access Token:\", access_token)\n",
    "else:\n",
    "    print(\"Error:\", response.status_code, response.text)\n"
   ]
  },
  {
   "cell_type": "code",
   "execution_count": 72,
   "id": "7057ffe7",
   "metadata": {},
   "outputs": [],
   "source": [
    "token = secrets_dict['token']"
   ]
  },
  {
   "cell_type": "markdown",
   "id": "641a7597",
   "metadata": {},
   "source": [
    "> Here I´m going to try with a song, following instructions in:\n",
    ">\n",
    "> https://developer.spotify.com/documentation/web-api/tutorials/getting-started#request-artist-data"
   ]
  },
  {
   "cell_type": "code",
   "execution_count": 78,
   "id": "47ceef9c",
   "metadata": {},
   "outputs": [],
   "source": [
    "url = 'https://api.spotify.com/v1/audio-features/11dFghVXANMlKmJXsNCbNl'\n",
    "headers = {\n",
    "    'Authorization': f'Bearer {token}'\n",
    "}\n",
    "\n",
    "res = requests.get(url, headers=headers)\n",
    "\n",
    "if res.status_code == 200:\n",
    "    data = res.json()\n",
    "    # print(data)\n",
    "else:\n",
    "    print(f\"Error: {res.status_code} - {res.text}\")"
   ]
  },
  {
   "cell_type": "code",
   "execution_count": 80,
   "id": "2c595983",
   "metadata": {},
   "outputs": [],
   "source": [
    "df = pd.DataFrame([data])"
   ]
  },
  {
   "cell_type": "code",
   "execution_count": 94,
   "id": "9ff65614",
   "metadata": {},
   "outputs": [],
   "source": [
    "# df"
   ]
  },
  {
   "cell_type": "markdown",
   "id": "926b2d7b",
   "metadata": {},
   "source": [
    "> Now I´m going to extract the features, following instructions in:\n",
    ">\n",
    "> https://developer.spotify.com/documentation/web-api/reference/get-several-audio-features"
   ]
  },
  {
   "cell_type": "code",
   "execution_count": 87,
   "id": "539e363c",
   "metadata": {},
   "outputs": [],
   "source": [
    "songs_ids = []\n",
    "for i in df_final['song_id']:\n",
    "    songs_ids.append(i)"
   ]
  },
  {
   "cell_type": "code",
   "execution_count": 91,
   "id": "a0a6bc06",
   "metadata": {},
   "outputs": [],
   "source": [
    "url_list = []\n",
    "for i in range(len(songs_ids)):\n",
    "    url_list.append('https://api.spotify.com/v1/audio-features/'+ songs_ids[i])"
   ]
  },
  {
   "cell_type": "code",
   "execution_count": 92,
   "id": "672a47bf",
   "metadata": {},
   "outputs": [
    {
     "data": {
      "text/plain": [
       "'https://api.spotify.com/v1/audio-features/4lCv7b86sLynZbXhfScfm2'"
      ]
     },
     "execution_count": 92,
     "metadata": {},
     "output_type": "execute_result"
    }
   ],
   "source": [
    "url_list[0]"
   ]
  },
  {
   "cell_type": "code",
   "execution_count": null,
   "id": "be24fa58",
   "metadata": {},
   "outputs": [
    {
     "name": "stderr",
     "output_type": "stream",
     "text": [
      "C:\\Users\\PC\\AppData\\Local\\Temp\\ipykernel_15140\\1181795267.py:16: FutureWarning: The frame.append method is deprecated and will be removed from pandas in a future version. Use pandas.concat instead.\n",
      "  df = df.append(data, ignore_index=True)\n",
      "C:\\Users\\PC\\AppData\\Local\\Temp\\ipykernel_15140\\1181795267.py:16: FutureWarning: The frame.append method is deprecated and will be removed from pandas in a future version. Use pandas.concat instead.\n",
      "  df = df.append(data, ignore_index=True)\n",
      "C:\\Users\\PC\\AppData\\Local\\Temp\\ipykernel_15140\\1181795267.py:16: FutureWarning: The frame.append method is deprecated and will be removed from pandas in a future version. Use pandas.concat instead.\n",
      "  df = df.append(data, ignore_index=True)\n",
      "C:\\Users\\PC\\AppData\\Local\\Temp\\ipykernel_15140\\1181795267.py:16: FutureWarning: The frame.append method is deprecated and will be removed from pandas in a future version. Use pandas.concat instead.\n",
      "  df = df.append(data, ignore_index=True)\n",
      "C:\\Users\\PC\\AppData\\Local\\Temp\\ipykernel_15140\\1181795267.py:16: FutureWarning: The frame.append method is deprecated and will be removed from pandas in a future version. Use pandas.concat instead.\n",
      "  df = df.append(data, ignore_index=True)\n",
      "C:\\Users\\PC\\AppData\\Local\\Temp\\ipykernel_15140\\1181795267.py:16: FutureWarning: The frame.append method is deprecated and will be removed from pandas in a future version. Use pandas.concat instead.\n",
      "  df = df.append(data, ignore_index=True)\n",
      "C:\\Users\\PC\\AppData\\Local\\Temp\\ipykernel_15140\\1181795267.py:16: FutureWarning: The frame.append method is deprecated and will be removed from pandas in a future version. Use pandas.concat instead.\n",
      "  df = df.append(data, ignore_index=True)\n",
      "C:\\Users\\PC\\AppData\\Local\\Temp\\ipykernel_15140\\1181795267.py:16: FutureWarning: The frame.append method is deprecated and will be removed from pandas in a future version. Use pandas.concat instead.\n",
      "  df = df.append(data, ignore_index=True)\n",
      "C:\\Users\\PC\\AppData\\Local\\Temp\\ipykernel_15140\\1181795267.py:16: FutureWarning: The frame.append method is deprecated and will be removed from pandas in a future version. Use pandas.concat instead.\n",
      "  df = df.append(data, ignore_index=True)\n",
      "C:\\Users\\PC\\AppData\\Local\\Temp\\ipykernel_15140\\1181795267.py:16: FutureWarning: The frame.append method is deprecated and will be removed from pandas in a future version. Use pandas.concat instead.\n",
      "  df = df.append(data, ignore_index=True)\n",
      "C:\\Users\\PC\\AppData\\Local\\Temp\\ipykernel_15140\\1181795267.py:16: FutureWarning: The frame.append method is deprecated and will be removed from pandas in a future version. Use pandas.concat instead.\n",
      "  df = df.append(data, ignore_index=True)\n",
      "C:\\Users\\PC\\AppData\\Local\\Temp\\ipykernel_15140\\1181795267.py:16: FutureWarning: The frame.append method is deprecated and will be removed from pandas in a future version. Use pandas.concat instead.\n",
      "  df = df.append(data, ignore_index=True)\n",
      "C:\\Users\\PC\\AppData\\Local\\Temp\\ipykernel_15140\\1181795267.py:16: FutureWarning: The frame.append method is deprecated and will be removed from pandas in a future version. Use pandas.concat instead.\n",
      "  df = df.append(data, ignore_index=True)\n",
      "C:\\Users\\PC\\AppData\\Local\\Temp\\ipykernel_15140\\1181795267.py:16: FutureWarning: The frame.append method is deprecated and will be removed from pandas in a future version. Use pandas.concat instead.\n",
      "  df = df.append(data, ignore_index=True)\n",
      "C:\\Users\\PC\\AppData\\Local\\Temp\\ipykernel_15140\\1181795267.py:16: FutureWarning: The frame.append method is deprecated and will be removed from pandas in a future version. Use pandas.concat instead.\n",
      "  df = df.append(data, ignore_index=True)\n",
      "C:\\Users\\PC\\AppData\\Local\\Temp\\ipykernel_15140\\1181795267.py:16: FutureWarning: The frame.append method is deprecated and will be removed from pandas in a future version. Use pandas.concat instead.\n",
      "  df = df.append(data, ignore_index=True)\n",
      "C:\\Users\\PC\\AppData\\Local\\Temp\\ipykernel_15140\\1181795267.py:16: FutureWarning: The frame.append method is deprecated and will be removed from pandas in a future version. Use pandas.concat instead.\n",
      "  df = df.append(data, ignore_index=True)\n",
      "C:\\Users\\PC\\AppData\\Local\\Temp\\ipykernel_15140\\1181795267.py:16: FutureWarning: The frame.append method is deprecated and will be removed from pandas in a future version. Use pandas.concat instead.\n",
      "  df = df.append(data, ignore_index=True)\n",
      "C:\\Users\\PC\\AppData\\Local\\Temp\\ipykernel_15140\\1181795267.py:16: FutureWarning: The frame.append method is deprecated and will be removed from pandas in a future version. Use pandas.concat instead.\n",
      "  df = df.append(data, ignore_index=True)\n",
      "C:\\Users\\PC\\AppData\\Local\\Temp\\ipykernel_15140\\1181795267.py:16: FutureWarning: The frame.append method is deprecated and will be removed from pandas in a future version. Use pandas.concat instead.\n",
      "  df = df.append(data, ignore_index=True)\n",
      "C:\\Users\\PC\\AppData\\Local\\Temp\\ipykernel_15140\\1181795267.py:16: FutureWarning: The frame.append method is deprecated and will be removed from pandas in a future version. Use pandas.concat instead.\n",
      "  df = df.append(data, ignore_index=True)\n",
      "C:\\Users\\PC\\AppData\\Local\\Temp\\ipykernel_15140\\1181795267.py:16: FutureWarning: The frame.append method is deprecated and will be removed from pandas in a future version. Use pandas.concat instead.\n",
      "  df = df.append(data, ignore_index=True)\n",
      "C:\\Users\\PC\\AppData\\Local\\Temp\\ipykernel_15140\\1181795267.py:16: FutureWarning: The frame.append method is deprecated and will be removed from pandas in a future version. Use pandas.concat instead.\n",
      "  df = df.append(data, ignore_index=True)\n",
      "C:\\Users\\PC\\AppData\\Local\\Temp\\ipykernel_15140\\1181795267.py:16: FutureWarning: The frame.append method is deprecated and will be removed from pandas in a future version. Use pandas.concat instead.\n",
      "  df = df.append(data, ignore_index=True)\n",
      "C:\\Users\\PC\\AppData\\Local\\Temp\\ipykernel_15140\\1181795267.py:16: FutureWarning: The frame.append method is deprecated and will be removed from pandas in a future version. Use pandas.concat instead.\n",
      "  df = df.append(data, ignore_index=True)\n",
      "C:\\Users\\PC\\AppData\\Local\\Temp\\ipykernel_15140\\1181795267.py:16: FutureWarning: The frame.append method is deprecated and will be removed from pandas in a future version. Use pandas.concat instead.\n",
      "  df = df.append(data, ignore_index=True)\n",
      "C:\\Users\\PC\\AppData\\Local\\Temp\\ipykernel_15140\\1181795267.py:16: FutureWarning: The frame.append method is deprecated and will be removed from pandas in a future version. Use pandas.concat instead.\n",
      "  df = df.append(data, ignore_index=True)\n",
      "C:\\Users\\PC\\AppData\\Local\\Temp\\ipykernel_15140\\1181795267.py:16: FutureWarning: The frame.append method is deprecated and will be removed from pandas in a future version. Use pandas.concat instead.\n",
      "  df = df.append(data, ignore_index=True)\n",
      "C:\\Users\\PC\\AppData\\Local\\Temp\\ipykernel_15140\\1181795267.py:16: FutureWarning: The frame.append method is deprecated and will be removed from pandas in a future version. Use pandas.concat instead.\n",
      "  df = df.append(data, ignore_index=True)\n",
      "C:\\Users\\PC\\AppData\\Local\\Temp\\ipykernel_15140\\1181795267.py:16: FutureWarning: The frame.append method is deprecated and will be removed from pandas in a future version. Use pandas.concat instead.\n",
      "  df = df.append(data, ignore_index=True)\n",
      "C:\\Users\\PC\\AppData\\Local\\Temp\\ipykernel_15140\\1181795267.py:16: FutureWarning: The frame.append method is deprecated and will be removed from pandas in a future version. Use pandas.concat instead.\n",
      "  df = df.append(data, ignore_index=True)\n",
      "C:\\Users\\PC\\AppData\\Local\\Temp\\ipykernel_15140\\1181795267.py:16: FutureWarning: The frame.append method is deprecated and will be removed from pandas in a future version. Use pandas.concat instead.\n",
      "  df = df.append(data, ignore_index=True)\n",
      "C:\\Users\\PC\\AppData\\Local\\Temp\\ipykernel_15140\\1181795267.py:16: FutureWarning: The frame.append method is deprecated and will be removed from pandas in a future version. Use pandas.concat instead.\n",
      "  df = df.append(data, ignore_index=True)\n",
      "C:\\Users\\PC\\AppData\\Local\\Temp\\ipykernel_15140\\1181795267.py:16: FutureWarning: The frame.append method is deprecated and will be removed from pandas in a future version. Use pandas.concat instead.\n",
      "  df = df.append(data, ignore_index=True)\n",
      "C:\\Users\\PC\\AppData\\Local\\Temp\\ipykernel_15140\\1181795267.py:16: FutureWarning: The frame.append method is deprecated and will be removed from pandas in a future version. Use pandas.concat instead.\n",
      "  df = df.append(data, ignore_index=True)\n"
     ]
    },
    {
     "name": "stderr",
     "output_type": "stream",
     "text": [
      "C:\\Users\\PC\\AppData\\Local\\Temp\\ipykernel_15140\\1181795267.py:16: FutureWarning: The frame.append method is deprecated and will be removed from pandas in a future version. Use pandas.concat instead.\n",
      "  df = df.append(data, ignore_index=True)\n",
      "C:\\Users\\PC\\AppData\\Local\\Temp\\ipykernel_15140\\1181795267.py:16: FutureWarning: The frame.append method is deprecated and will be removed from pandas in a future version. Use pandas.concat instead.\n",
      "  df = df.append(data, ignore_index=True)\n",
      "C:\\Users\\PC\\AppData\\Local\\Temp\\ipykernel_15140\\1181795267.py:16: FutureWarning: The frame.append method is deprecated and will be removed from pandas in a future version. Use pandas.concat instead.\n",
      "  df = df.append(data, ignore_index=True)\n",
      "C:\\Users\\PC\\AppData\\Local\\Temp\\ipykernel_15140\\1181795267.py:16: FutureWarning: The frame.append method is deprecated and will be removed from pandas in a future version. Use pandas.concat instead.\n",
      "  df = df.append(data, ignore_index=True)\n",
      "C:\\Users\\PC\\AppData\\Local\\Temp\\ipykernel_15140\\1181795267.py:16: FutureWarning: The frame.append method is deprecated and will be removed from pandas in a future version. Use pandas.concat instead.\n",
      "  df = df.append(data, ignore_index=True)\n",
      "C:\\Users\\PC\\AppData\\Local\\Temp\\ipykernel_15140\\1181795267.py:16: FutureWarning: The frame.append method is deprecated and will be removed from pandas in a future version. Use pandas.concat instead.\n",
      "  df = df.append(data, ignore_index=True)\n",
      "C:\\Users\\PC\\AppData\\Local\\Temp\\ipykernel_15140\\1181795267.py:16: FutureWarning: The frame.append method is deprecated and will be removed from pandas in a future version. Use pandas.concat instead.\n",
      "  df = df.append(data, ignore_index=True)\n",
      "C:\\Users\\PC\\AppData\\Local\\Temp\\ipykernel_15140\\1181795267.py:16: FutureWarning: The frame.append method is deprecated and will be removed from pandas in a future version. Use pandas.concat instead.\n",
      "  df = df.append(data, ignore_index=True)\n",
      "C:\\Users\\PC\\AppData\\Local\\Temp\\ipykernel_15140\\1181795267.py:16: FutureWarning: The frame.append method is deprecated and will be removed from pandas in a future version. Use pandas.concat instead.\n",
      "  df = df.append(data, ignore_index=True)\n",
      "C:\\Users\\PC\\AppData\\Local\\Temp\\ipykernel_15140\\1181795267.py:16: FutureWarning: The frame.append method is deprecated and will be removed from pandas in a future version. Use pandas.concat instead.\n",
      "  df = df.append(data, ignore_index=True)\n",
      "C:\\Users\\PC\\AppData\\Local\\Temp\\ipykernel_15140\\1181795267.py:16: FutureWarning: The frame.append method is deprecated and will be removed from pandas in a future version. Use pandas.concat instead.\n",
      "  df = df.append(data, ignore_index=True)\n",
      "C:\\Users\\PC\\AppData\\Local\\Temp\\ipykernel_15140\\1181795267.py:16: FutureWarning: The frame.append method is deprecated and will be removed from pandas in a future version. Use pandas.concat instead.\n",
      "  df = df.append(data, ignore_index=True)\n",
      "C:\\Users\\PC\\AppData\\Local\\Temp\\ipykernel_15140\\1181795267.py:16: FutureWarning: The frame.append method is deprecated and will be removed from pandas in a future version. Use pandas.concat instead.\n",
      "  df = df.append(data, ignore_index=True)\n",
      "C:\\Users\\PC\\AppData\\Local\\Temp\\ipykernel_15140\\1181795267.py:16: FutureWarning: The frame.append method is deprecated and will be removed from pandas in a future version. Use pandas.concat instead.\n",
      "  df = df.append(data, ignore_index=True)\n",
      "C:\\Users\\PC\\AppData\\Local\\Temp\\ipykernel_15140\\1181795267.py:16: FutureWarning: The frame.append method is deprecated and will be removed from pandas in a future version. Use pandas.concat instead.\n",
      "  df = df.append(data, ignore_index=True)\n",
      "C:\\Users\\PC\\AppData\\Local\\Temp\\ipykernel_15140\\1181795267.py:16: FutureWarning: The frame.append method is deprecated and will be removed from pandas in a future version. Use pandas.concat instead.\n",
      "  df = df.append(data, ignore_index=True)\n",
      "C:\\Users\\PC\\AppData\\Local\\Temp\\ipykernel_15140\\1181795267.py:16: FutureWarning: The frame.append method is deprecated and will be removed from pandas in a future version. Use pandas.concat instead.\n",
      "  df = df.append(data, ignore_index=True)\n",
      "C:\\Users\\PC\\AppData\\Local\\Temp\\ipykernel_15140\\1181795267.py:16: FutureWarning: The frame.append method is deprecated and will be removed from pandas in a future version. Use pandas.concat instead.\n",
      "  df = df.append(data, ignore_index=True)\n",
      "C:\\Users\\PC\\AppData\\Local\\Temp\\ipykernel_15140\\1181795267.py:16: FutureWarning: The frame.append method is deprecated and will be removed from pandas in a future version. Use pandas.concat instead.\n",
      "  df = df.append(data, ignore_index=True)\n",
      "C:\\Users\\PC\\AppData\\Local\\Temp\\ipykernel_15140\\1181795267.py:16: FutureWarning: The frame.append method is deprecated and will be removed from pandas in a future version. Use pandas.concat instead.\n",
      "  df = df.append(data, ignore_index=True)\n",
      "C:\\Users\\PC\\AppData\\Local\\Temp\\ipykernel_15140\\1181795267.py:16: FutureWarning: The frame.append method is deprecated and will be removed from pandas in a future version. Use pandas.concat instead.\n",
      "  df = df.append(data, ignore_index=True)\n",
      "C:\\Users\\PC\\AppData\\Local\\Temp\\ipykernel_15140\\1181795267.py:16: FutureWarning: The frame.append method is deprecated and will be removed from pandas in a future version. Use pandas.concat instead.\n",
      "  df = df.append(data, ignore_index=True)\n",
      "C:\\Users\\PC\\AppData\\Local\\Temp\\ipykernel_15140\\1181795267.py:16: FutureWarning: The frame.append method is deprecated and will be removed from pandas in a future version. Use pandas.concat instead.\n",
      "  df = df.append(data, ignore_index=True)\n",
      "C:\\Users\\PC\\AppData\\Local\\Temp\\ipykernel_15140\\1181795267.py:16: FutureWarning: The frame.append method is deprecated and will be removed from pandas in a future version. Use pandas.concat instead.\n",
      "  df = df.append(data, ignore_index=True)\n",
      "C:\\Users\\PC\\AppData\\Local\\Temp\\ipykernel_15140\\1181795267.py:16: FutureWarning: The frame.append method is deprecated and will be removed from pandas in a future version. Use pandas.concat instead.\n",
      "  df = df.append(data, ignore_index=True)\n",
      "C:\\Users\\PC\\AppData\\Local\\Temp\\ipykernel_15140\\1181795267.py:16: FutureWarning: The frame.append method is deprecated and will be removed from pandas in a future version. Use pandas.concat instead.\n",
      "  df = df.append(data, ignore_index=True)\n",
      "C:\\Users\\PC\\AppData\\Local\\Temp\\ipykernel_15140\\1181795267.py:16: FutureWarning: The frame.append method is deprecated and will be removed from pandas in a future version. Use pandas.concat instead.\n",
      "  df = df.append(data, ignore_index=True)\n",
      "C:\\Users\\PC\\AppData\\Local\\Temp\\ipykernel_15140\\1181795267.py:16: FutureWarning: The frame.append method is deprecated and will be removed from pandas in a future version. Use pandas.concat instead.\n",
      "  df = df.append(data, ignore_index=True)\n",
      "C:\\Users\\PC\\AppData\\Local\\Temp\\ipykernel_15140\\1181795267.py:16: FutureWarning: The frame.append method is deprecated and will be removed from pandas in a future version. Use pandas.concat instead.\n",
      "  df = df.append(data, ignore_index=True)\n",
      "C:\\Users\\PC\\AppData\\Local\\Temp\\ipykernel_15140\\1181795267.py:16: FutureWarning: The frame.append method is deprecated and will be removed from pandas in a future version. Use pandas.concat instead.\n",
      "  df = df.append(data, ignore_index=True)\n",
      "C:\\Users\\PC\\AppData\\Local\\Temp\\ipykernel_15140\\1181795267.py:16: FutureWarning: The frame.append method is deprecated and will be removed from pandas in a future version. Use pandas.concat instead.\n",
      "  df = df.append(data, ignore_index=True)\n",
      "C:\\Users\\PC\\AppData\\Local\\Temp\\ipykernel_15140\\1181795267.py:16: FutureWarning: The frame.append method is deprecated and will be removed from pandas in a future version. Use pandas.concat instead.\n",
      "  df = df.append(data, ignore_index=True)\n",
      "C:\\Users\\PC\\AppData\\Local\\Temp\\ipykernel_15140\\1181795267.py:16: FutureWarning: The frame.append method is deprecated and will be removed from pandas in a future version. Use pandas.concat instead.\n",
      "  df = df.append(data, ignore_index=True)\n",
      "C:\\Users\\PC\\AppData\\Local\\Temp\\ipykernel_15140\\1181795267.py:16: FutureWarning: The frame.append method is deprecated and will be removed from pandas in a future version. Use pandas.concat instead.\n",
      "  df = df.append(data, ignore_index=True)\n",
      "C:\\Users\\PC\\AppData\\Local\\Temp\\ipykernel_15140\\1181795267.py:16: FutureWarning: The frame.append method is deprecated and will be removed from pandas in a future version. Use pandas.concat instead.\n",
      "  df = df.append(data, ignore_index=True)\n"
     ]
    },
    {
     "name": "stderr",
     "output_type": "stream",
     "text": [
      "C:\\Users\\PC\\AppData\\Local\\Temp\\ipykernel_15140\\1181795267.py:16: FutureWarning: The frame.append method is deprecated and will be removed from pandas in a future version. Use pandas.concat instead.\n",
      "  df = df.append(data, ignore_index=True)\n",
      "C:\\Users\\PC\\AppData\\Local\\Temp\\ipykernel_15140\\1181795267.py:16: FutureWarning: The frame.append method is deprecated and will be removed from pandas in a future version. Use pandas.concat instead.\n",
      "  df = df.append(data, ignore_index=True)\n",
      "C:\\Users\\PC\\AppData\\Local\\Temp\\ipykernel_15140\\1181795267.py:16: FutureWarning: The frame.append method is deprecated and will be removed from pandas in a future version. Use pandas.concat instead.\n",
      "  df = df.append(data, ignore_index=True)\n",
      "C:\\Users\\PC\\AppData\\Local\\Temp\\ipykernel_15140\\1181795267.py:16: FutureWarning: The frame.append method is deprecated and will be removed from pandas in a future version. Use pandas.concat instead.\n",
      "  df = df.append(data, ignore_index=True)\n",
      "C:\\Users\\PC\\AppData\\Local\\Temp\\ipykernel_15140\\1181795267.py:16: FutureWarning: The frame.append method is deprecated and will be removed from pandas in a future version. Use pandas.concat instead.\n",
      "  df = df.append(data, ignore_index=True)\n",
      "C:\\Users\\PC\\AppData\\Local\\Temp\\ipykernel_15140\\1181795267.py:16: FutureWarning: The frame.append method is deprecated and will be removed from pandas in a future version. Use pandas.concat instead.\n",
      "  df = df.append(data, ignore_index=True)\n",
      "C:\\Users\\PC\\AppData\\Local\\Temp\\ipykernel_15140\\1181795267.py:16: FutureWarning: The frame.append method is deprecated and will be removed from pandas in a future version. Use pandas.concat instead.\n",
      "  df = df.append(data, ignore_index=True)\n",
      "C:\\Users\\PC\\AppData\\Local\\Temp\\ipykernel_15140\\1181795267.py:16: FutureWarning: The frame.append method is deprecated and will be removed from pandas in a future version. Use pandas.concat instead.\n",
      "  df = df.append(data, ignore_index=True)\n",
      "C:\\Users\\PC\\AppData\\Local\\Temp\\ipykernel_15140\\1181795267.py:16: FutureWarning: The frame.append method is deprecated and will be removed from pandas in a future version. Use pandas.concat instead.\n",
      "  df = df.append(data, ignore_index=True)\n",
      "C:\\Users\\PC\\AppData\\Local\\Temp\\ipykernel_15140\\1181795267.py:16: FutureWarning: The frame.append method is deprecated and will be removed from pandas in a future version. Use pandas.concat instead.\n",
      "  df = df.append(data, ignore_index=True)\n",
      "C:\\Users\\PC\\AppData\\Local\\Temp\\ipykernel_15140\\1181795267.py:16: FutureWarning: The frame.append method is deprecated and will be removed from pandas in a future version. Use pandas.concat instead.\n",
      "  df = df.append(data, ignore_index=True)\n",
      "C:\\Users\\PC\\AppData\\Local\\Temp\\ipykernel_15140\\1181795267.py:16: FutureWarning: The frame.append method is deprecated and will be removed from pandas in a future version. Use pandas.concat instead.\n",
      "  df = df.append(data, ignore_index=True)\n",
      "C:\\Users\\PC\\AppData\\Local\\Temp\\ipykernel_15140\\1181795267.py:16: FutureWarning: The frame.append method is deprecated and will be removed from pandas in a future version. Use pandas.concat instead.\n",
      "  df = df.append(data, ignore_index=True)\n",
      "C:\\Users\\PC\\AppData\\Local\\Temp\\ipykernel_15140\\1181795267.py:16: FutureWarning: The frame.append method is deprecated and will be removed from pandas in a future version. Use pandas.concat instead.\n",
      "  df = df.append(data, ignore_index=True)\n",
      "C:\\Users\\PC\\AppData\\Local\\Temp\\ipykernel_15140\\1181795267.py:16: FutureWarning: The frame.append method is deprecated and will be removed from pandas in a future version. Use pandas.concat instead.\n",
      "  df = df.append(data, ignore_index=True)\n",
      "C:\\Users\\PC\\AppData\\Local\\Temp\\ipykernel_15140\\1181795267.py:16: FutureWarning: The frame.append method is deprecated and will be removed from pandas in a future version. Use pandas.concat instead.\n",
      "  df = df.append(data, ignore_index=True)\n",
      "C:\\Users\\PC\\AppData\\Local\\Temp\\ipykernel_15140\\1181795267.py:16: FutureWarning: The frame.append method is deprecated and will be removed from pandas in a future version. Use pandas.concat instead.\n",
      "  df = df.append(data, ignore_index=True)\n",
      "C:\\Users\\PC\\AppData\\Local\\Temp\\ipykernel_15140\\1181795267.py:16: FutureWarning: The frame.append method is deprecated and will be removed from pandas in a future version. Use pandas.concat instead.\n",
      "  df = df.append(data, ignore_index=True)\n",
      "C:\\Users\\PC\\AppData\\Local\\Temp\\ipykernel_15140\\1181795267.py:16: FutureWarning: The frame.append method is deprecated and will be removed from pandas in a future version. Use pandas.concat instead.\n",
      "  df = df.append(data, ignore_index=True)\n",
      "C:\\Users\\PC\\AppData\\Local\\Temp\\ipykernel_15140\\1181795267.py:16: FutureWarning: The frame.append method is deprecated and will be removed from pandas in a future version. Use pandas.concat instead.\n",
      "  df = df.append(data, ignore_index=True)\n",
      "C:\\Users\\PC\\AppData\\Local\\Temp\\ipykernel_15140\\1181795267.py:16: FutureWarning: The frame.append method is deprecated and will be removed from pandas in a future version. Use pandas.concat instead.\n",
      "  df = df.append(data, ignore_index=True)\n",
      "C:\\Users\\PC\\AppData\\Local\\Temp\\ipykernel_15140\\1181795267.py:16: FutureWarning: The frame.append method is deprecated and will be removed from pandas in a future version. Use pandas.concat instead.\n",
      "  df = df.append(data, ignore_index=True)\n",
      "C:\\Users\\PC\\AppData\\Local\\Temp\\ipykernel_15140\\1181795267.py:16: FutureWarning: The frame.append method is deprecated and will be removed from pandas in a future version. Use pandas.concat instead.\n",
      "  df = df.append(data, ignore_index=True)\n",
      "C:\\Users\\PC\\AppData\\Local\\Temp\\ipykernel_15140\\1181795267.py:16: FutureWarning: The frame.append method is deprecated and will be removed from pandas in a future version. Use pandas.concat instead.\n",
      "  df = df.append(data, ignore_index=True)\n",
      "C:\\Users\\PC\\AppData\\Local\\Temp\\ipykernel_15140\\1181795267.py:16: FutureWarning: The frame.append method is deprecated and will be removed from pandas in a future version. Use pandas.concat instead.\n",
      "  df = df.append(data, ignore_index=True)\n",
      "C:\\Users\\PC\\AppData\\Local\\Temp\\ipykernel_15140\\1181795267.py:16: FutureWarning: The frame.append method is deprecated and will be removed from pandas in a future version. Use pandas.concat instead.\n",
      "  df = df.append(data, ignore_index=True)\n",
      "C:\\Users\\PC\\AppData\\Local\\Temp\\ipykernel_15140\\1181795267.py:16: FutureWarning: The frame.append method is deprecated and will be removed from pandas in a future version. Use pandas.concat instead.\n",
      "  df = df.append(data, ignore_index=True)\n",
      "C:\\Users\\PC\\AppData\\Local\\Temp\\ipykernel_15140\\1181795267.py:16: FutureWarning: The frame.append method is deprecated and will be removed from pandas in a future version. Use pandas.concat instead.\n",
      "  df = df.append(data, ignore_index=True)\n",
      "C:\\Users\\PC\\AppData\\Local\\Temp\\ipykernel_15140\\1181795267.py:16: FutureWarning: The frame.append method is deprecated and will be removed from pandas in a future version. Use pandas.concat instead.\n",
      "  df = df.append(data, ignore_index=True)\n",
      "C:\\Users\\PC\\AppData\\Local\\Temp\\ipykernel_15140\\1181795267.py:16: FutureWarning: The frame.append method is deprecated and will be removed from pandas in a future version. Use pandas.concat instead.\n",
      "  df = df.append(data, ignore_index=True)\n",
      "C:\\Users\\PC\\AppData\\Local\\Temp\\ipykernel_15140\\1181795267.py:16: FutureWarning: The frame.append method is deprecated and will be removed from pandas in a future version. Use pandas.concat instead.\n",
      "  df = df.append(data, ignore_index=True)\n",
      "C:\\Users\\PC\\AppData\\Local\\Temp\\ipykernel_15140\\1181795267.py:16: FutureWarning: The frame.append method is deprecated and will be removed from pandas in a future version. Use pandas.concat instead.\n",
      "  df = df.append(data, ignore_index=True)\n",
      "C:\\Users\\PC\\AppData\\Local\\Temp\\ipykernel_15140\\1181795267.py:16: FutureWarning: The frame.append method is deprecated and will be removed from pandas in a future version. Use pandas.concat instead.\n",
      "  df = df.append(data, ignore_index=True)\n",
      "C:\\Users\\PC\\AppData\\Local\\Temp\\ipykernel_15140\\1181795267.py:16: FutureWarning: The frame.append method is deprecated and will be removed from pandas in a future version. Use pandas.concat instead.\n",
      "  df = df.append(data, ignore_index=True)\n",
      "C:\\Users\\PC\\AppData\\Local\\Temp\\ipykernel_15140\\1181795267.py:16: FutureWarning: The frame.append method is deprecated and will be removed from pandas in a future version. Use pandas.concat instead.\n",
      "  df = df.append(data, ignore_index=True)\n"
     ]
    },
    {
     "name": "stderr",
     "output_type": "stream",
     "text": [
      "C:\\Users\\PC\\AppData\\Local\\Temp\\ipykernel_15140\\1181795267.py:16: FutureWarning: The frame.append method is deprecated and will be removed from pandas in a future version. Use pandas.concat instead.\n",
      "  df = df.append(data, ignore_index=True)\n",
      "C:\\Users\\PC\\AppData\\Local\\Temp\\ipykernel_15140\\1181795267.py:16: FutureWarning: The frame.append method is deprecated and will be removed from pandas in a future version. Use pandas.concat instead.\n",
      "  df = df.append(data, ignore_index=True)\n",
      "C:\\Users\\PC\\AppData\\Local\\Temp\\ipykernel_15140\\1181795267.py:16: FutureWarning: The frame.append method is deprecated and will be removed from pandas in a future version. Use pandas.concat instead.\n",
      "  df = df.append(data, ignore_index=True)\n",
      "C:\\Users\\PC\\AppData\\Local\\Temp\\ipykernel_15140\\1181795267.py:16: FutureWarning: The frame.append method is deprecated and will be removed from pandas in a future version. Use pandas.concat instead.\n",
      "  df = df.append(data, ignore_index=True)\n",
      "C:\\Users\\PC\\AppData\\Local\\Temp\\ipykernel_15140\\1181795267.py:16: FutureWarning: The frame.append method is deprecated and will be removed from pandas in a future version. Use pandas.concat instead.\n",
      "  df = df.append(data, ignore_index=True)\n",
      "C:\\Users\\PC\\AppData\\Local\\Temp\\ipykernel_15140\\1181795267.py:16: FutureWarning: The frame.append method is deprecated and will be removed from pandas in a future version. Use pandas.concat instead.\n",
      "  df = df.append(data, ignore_index=True)\n",
      "C:\\Users\\PC\\AppData\\Local\\Temp\\ipykernel_15140\\1181795267.py:16: FutureWarning: The frame.append method is deprecated and will be removed from pandas in a future version. Use pandas.concat instead.\n",
      "  df = df.append(data, ignore_index=True)\n",
      "C:\\Users\\PC\\AppData\\Local\\Temp\\ipykernel_15140\\1181795267.py:16: FutureWarning: The frame.append method is deprecated and will be removed from pandas in a future version. Use pandas.concat instead.\n",
      "  df = df.append(data, ignore_index=True)\n",
      "C:\\Users\\PC\\AppData\\Local\\Temp\\ipykernel_15140\\1181795267.py:16: FutureWarning: The frame.append method is deprecated and will be removed from pandas in a future version. Use pandas.concat instead.\n",
      "  df = df.append(data, ignore_index=True)\n",
      "C:\\Users\\PC\\AppData\\Local\\Temp\\ipykernel_15140\\1181795267.py:16: FutureWarning: The frame.append method is deprecated and will be removed from pandas in a future version. Use pandas.concat instead.\n",
      "  df = df.append(data, ignore_index=True)\n",
      "C:\\Users\\PC\\AppData\\Local\\Temp\\ipykernel_15140\\1181795267.py:16: FutureWarning: The frame.append method is deprecated and will be removed from pandas in a future version. Use pandas.concat instead.\n",
      "  df = df.append(data, ignore_index=True)\n",
      "C:\\Users\\PC\\AppData\\Local\\Temp\\ipykernel_15140\\1181795267.py:16: FutureWarning: The frame.append method is deprecated and will be removed from pandas in a future version. Use pandas.concat instead.\n",
      "  df = df.append(data, ignore_index=True)\n",
      "C:\\Users\\PC\\AppData\\Local\\Temp\\ipykernel_15140\\1181795267.py:16: FutureWarning: The frame.append method is deprecated and will be removed from pandas in a future version. Use pandas.concat instead.\n",
      "  df = df.append(data, ignore_index=True)\n",
      "C:\\Users\\PC\\AppData\\Local\\Temp\\ipykernel_15140\\1181795267.py:16: FutureWarning: The frame.append method is deprecated and will be removed from pandas in a future version. Use pandas.concat instead.\n",
      "  df = df.append(data, ignore_index=True)\n",
      "C:\\Users\\PC\\AppData\\Local\\Temp\\ipykernel_15140\\1181795267.py:16: FutureWarning: The frame.append method is deprecated and will be removed from pandas in a future version. Use pandas.concat instead.\n",
      "  df = df.append(data, ignore_index=True)\n",
      "C:\\Users\\PC\\AppData\\Local\\Temp\\ipykernel_15140\\1181795267.py:16: FutureWarning: The frame.append method is deprecated and will be removed from pandas in a future version. Use pandas.concat instead.\n",
      "  df = df.append(data, ignore_index=True)\n",
      "C:\\Users\\PC\\AppData\\Local\\Temp\\ipykernel_15140\\1181795267.py:16: FutureWarning: The frame.append method is deprecated and will be removed from pandas in a future version. Use pandas.concat instead.\n",
      "  df = df.append(data, ignore_index=True)\n",
      "C:\\Users\\PC\\AppData\\Local\\Temp\\ipykernel_15140\\1181795267.py:16: FutureWarning: The frame.append method is deprecated and will be removed from pandas in a future version. Use pandas.concat instead.\n",
      "  df = df.append(data, ignore_index=True)\n",
      "C:\\Users\\PC\\AppData\\Local\\Temp\\ipykernel_15140\\1181795267.py:16: FutureWarning: The frame.append method is deprecated and will be removed from pandas in a future version. Use pandas.concat instead.\n",
      "  df = df.append(data, ignore_index=True)\n",
      "C:\\Users\\PC\\AppData\\Local\\Temp\\ipykernel_15140\\1181795267.py:16: FutureWarning: The frame.append method is deprecated and will be removed from pandas in a future version. Use pandas.concat instead.\n",
      "  df = df.append(data, ignore_index=True)\n",
      "C:\\Users\\PC\\AppData\\Local\\Temp\\ipykernel_15140\\1181795267.py:16: FutureWarning: The frame.append method is deprecated and will be removed from pandas in a future version. Use pandas.concat instead.\n",
      "  df = df.append(data, ignore_index=True)\n",
      "C:\\Users\\PC\\AppData\\Local\\Temp\\ipykernel_15140\\1181795267.py:16: FutureWarning: The frame.append method is deprecated and will be removed from pandas in a future version. Use pandas.concat instead.\n",
      "  df = df.append(data, ignore_index=True)\n",
      "C:\\Users\\PC\\AppData\\Local\\Temp\\ipykernel_15140\\1181795267.py:16: FutureWarning: The frame.append method is deprecated and will be removed from pandas in a future version. Use pandas.concat instead.\n",
      "  df = df.append(data, ignore_index=True)\n",
      "C:\\Users\\PC\\AppData\\Local\\Temp\\ipykernel_15140\\1181795267.py:16: FutureWarning: The frame.append method is deprecated and will be removed from pandas in a future version. Use pandas.concat instead.\n",
      "  df = df.append(data, ignore_index=True)\n",
      "C:\\Users\\PC\\AppData\\Local\\Temp\\ipykernel_15140\\1181795267.py:16: FutureWarning: The frame.append method is deprecated and will be removed from pandas in a future version. Use pandas.concat instead.\n",
      "  df = df.append(data, ignore_index=True)\n",
      "C:\\Users\\PC\\AppData\\Local\\Temp\\ipykernel_15140\\1181795267.py:16: FutureWarning: The frame.append method is deprecated and will be removed from pandas in a future version. Use pandas.concat instead.\n",
      "  df = df.append(data, ignore_index=True)\n",
      "C:\\Users\\PC\\AppData\\Local\\Temp\\ipykernel_15140\\1181795267.py:16: FutureWarning: The frame.append method is deprecated and will be removed from pandas in a future version. Use pandas.concat instead.\n",
      "  df = df.append(data, ignore_index=True)\n",
      "C:\\Users\\PC\\AppData\\Local\\Temp\\ipykernel_15140\\1181795267.py:16: FutureWarning: The frame.append method is deprecated and will be removed from pandas in a future version. Use pandas.concat instead.\n",
      "  df = df.append(data, ignore_index=True)\n",
      "C:\\Users\\PC\\AppData\\Local\\Temp\\ipykernel_15140\\1181795267.py:16: FutureWarning: The frame.append method is deprecated and will be removed from pandas in a future version. Use pandas.concat instead.\n",
      "  df = df.append(data, ignore_index=True)\n",
      "C:\\Users\\PC\\AppData\\Local\\Temp\\ipykernel_15140\\1181795267.py:16: FutureWarning: The frame.append method is deprecated and will be removed from pandas in a future version. Use pandas.concat instead.\n",
      "  df = df.append(data, ignore_index=True)\n",
      "C:\\Users\\PC\\AppData\\Local\\Temp\\ipykernel_15140\\1181795267.py:16: FutureWarning: The frame.append method is deprecated and will be removed from pandas in a future version. Use pandas.concat instead.\n",
      "  df = df.append(data, ignore_index=True)\n",
      "C:\\Users\\PC\\AppData\\Local\\Temp\\ipykernel_15140\\1181795267.py:16: FutureWarning: The frame.append method is deprecated and will be removed from pandas in a future version. Use pandas.concat instead.\n",
      "  df = df.append(data, ignore_index=True)\n",
      "C:\\Users\\PC\\AppData\\Local\\Temp\\ipykernel_15140\\1181795267.py:16: FutureWarning: The frame.append method is deprecated and will be removed from pandas in a future version. Use pandas.concat instead.\n",
      "  df = df.append(data, ignore_index=True)\n",
      "C:\\Users\\PC\\AppData\\Local\\Temp\\ipykernel_15140\\1181795267.py:16: FutureWarning: The frame.append method is deprecated and will be removed from pandas in a future version. Use pandas.concat instead.\n",
      "  df = df.append(data, ignore_index=True)\n",
      "C:\\Users\\PC\\AppData\\Local\\Temp\\ipykernel_15140\\1181795267.py:16: FutureWarning: The frame.append method is deprecated and will be removed from pandas in a future version. Use pandas.concat instead.\n",
      "  df = df.append(data, ignore_index=True)\n"
     ]
    },
    {
     "name": "stderr",
     "output_type": "stream",
     "text": [
      "C:\\Users\\PC\\AppData\\Local\\Temp\\ipykernel_15140\\1181795267.py:16: FutureWarning: The frame.append method is deprecated and will be removed from pandas in a future version. Use pandas.concat instead.\n",
      "  df = df.append(data, ignore_index=True)\n",
      "C:\\Users\\PC\\AppData\\Local\\Temp\\ipykernel_15140\\1181795267.py:16: FutureWarning: The frame.append method is deprecated and will be removed from pandas in a future version. Use pandas.concat instead.\n",
      "  df = df.append(data, ignore_index=True)\n",
      "C:\\Users\\PC\\AppData\\Local\\Temp\\ipykernel_15140\\1181795267.py:16: FutureWarning: The frame.append method is deprecated and will be removed from pandas in a future version. Use pandas.concat instead.\n",
      "  df = df.append(data, ignore_index=True)\n",
      "C:\\Users\\PC\\AppData\\Local\\Temp\\ipykernel_15140\\1181795267.py:16: FutureWarning: The frame.append method is deprecated and will be removed from pandas in a future version. Use pandas.concat instead.\n",
      "  df = df.append(data, ignore_index=True)\n",
      "C:\\Users\\PC\\AppData\\Local\\Temp\\ipykernel_15140\\1181795267.py:16: FutureWarning: The frame.append method is deprecated and will be removed from pandas in a future version. Use pandas.concat instead.\n",
      "  df = df.append(data, ignore_index=True)\n",
      "C:\\Users\\PC\\AppData\\Local\\Temp\\ipykernel_15140\\1181795267.py:16: FutureWarning: The frame.append method is deprecated and will be removed from pandas in a future version. Use pandas.concat instead.\n",
      "  df = df.append(data, ignore_index=True)\n",
      "C:\\Users\\PC\\AppData\\Local\\Temp\\ipykernel_15140\\1181795267.py:16: FutureWarning: The frame.append method is deprecated and will be removed from pandas in a future version. Use pandas.concat instead.\n",
      "  df = df.append(data, ignore_index=True)\n",
      "C:\\Users\\PC\\AppData\\Local\\Temp\\ipykernel_15140\\1181795267.py:16: FutureWarning: The frame.append method is deprecated and will be removed from pandas in a future version. Use pandas.concat instead.\n",
      "  df = df.append(data, ignore_index=True)\n",
      "C:\\Users\\PC\\AppData\\Local\\Temp\\ipykernel_15140\\1181795267.py:16: FutureWarning: The frame.append method is deprecated and will be removed from pandas in a future version. Use pandas.concat instead.\n",
      "  df = df.append(data, ignore_index=True)\n",
      "C:\\Users\\PC\\AppData\\Local\\Temp\\ipykernel_15140\\1181795267.py:16: FutureWarning: The frame.append method is deprecated and will be removed from pandas in a future version. Use pandas.concat instead.\n",
      "  df = df.append(data, ignore_index=True)\n",
      "C:\\Users\\PC\\AppData\\Local\\Temp\\ipykernel_15140\\1181795267.py:16: FutureWarning: The frame.append method is deprecated and will be removed from pandas in a future version. Use pandas.concat instead.\n",
      "  df = df.append(data, ignore_index=True)\n",
      "C:\\Users\\PC\\AppData\\Local\\Temp\\ipykernel_15140\\1181795267.py:16: FutureWarning: The frame.append method is deprecated and will be removed from pandas in a future version. Use pandas.concat instead.\n",
      "  df = df.append(data, ignore_index=True)\n",
      "C:\\Users\\PC\\AppData\\Local\\Temp\\ipykernel_15140\\1181795267.py:16: FutureWarning: The frame.append method is deprecated and will be removed from pandas in a future version. Use pandas.concat instead.\n",
      "  df = df.append(data, ignore_index=True)\n",
      "C:\\Users\\PC\\AppData\\Local\\Temp\\ipykernel_15140\\1181795267.py:16: FutureWarning: The frame.append method is deprecated and will be removed from pandas in a future version. Use pandas.concat instead.\n",
      "  df = df.append(data, ignore_index=True)\n",
      "C:\\Users\\PC\\AppData\\Local\\Temp\\ipykernel_15140\\1181795267.py:16: FutureWarning: The frame.append method is deprecated and will be removed from pandas in a future version. Use pandas.concat instead.\n",
      "  df = df.append(data, ignore_index=True)\n",
      "C:\\Users\\PC\\AppData\\Local\\Temp\\ipykernel_15140\\1181795267.py:16: FutureWarning: The frame.append method is deprecated and will be removed from pandas in a future version. Use pandas.concat instead.\n",
      "  df = df.append(data, ignore_index=True)\n",
      "C:\\Users\\PC\\AppData\\Local\\Temp\\ipykernel_15140\\1181795267.py:16: FutureWarning: The frame.append method is deprecated and will be removed from pandas in a future version. Use pandas.concat instead.\n",
      "  df = df.append(data, ignore_index=True)\n",
      "C:\\Users\\PC\\AppData\\Local\\Temp\\ipykernel_15140\\1181795267.py:16: FutureWarning: The frame.append method is deprecated and will be removed from pandas in a future version. Use pandas.concat instead.\n",
      "  df = df.append(data, ignore_index=True)\n",
      "C:\\Users\\PC\\AppData\\Local\\Temp\\ipykernel_15140\\1181795267.py:16: FutureWarning: The frame.append method is deprecated and will be removed from pandas in a future version. Use pandas.concat instead.\n",
      "  df = df.append(data, ignore_index=True)\n",
      "C:\\Users\\PC\\AppData\\Local\\Temp\\ipykernel_15140\\1181795267.py:16: FutureWarning: The frame.append method is deprecated and will be removed from pandas in a future version. Use pandas.concat instead.\n",
      "  df = df.append(data, ignore_index=True)\n",
      "C:\\Users\\PC\\AppData\\Local\\Temp\\ipykernel_15140\\1181795267.py:16: FutureWarning: The frame.append method is deprecated and will be removed from pandas in a future version. Use pandas.concat instead.\n",
      "  df = df.append(data, ignore_index=True)\n",
      "C:\\Users\\PC\\AppData\\Local\\Temp\\ipykernel_15140\\1181795267.py:16: FutureWarning: The frame.append method is deprecated and will be removed from pandas in a future version. Use pandas.concat instead.\n",
      "  df = df.append(data, ignore_index=True)\n",
      "C:\\Users\\PC\\AppData\\Local\\Temp\\ipykernel_15140\\1181795267.py:16: FutureWarning: The frame.append method is deprecated and will be removed from pandas in a future version. Use pandas.concat instead.\n",
      "  df = df.append(data, ignore_index=True)\n",
      "C:\\Users\\PC\\AppData\\Local\\Temp\\ipykernel_15140\\1181795267.py:16: FutureWarning: The frame.append method is deprecated and will be removed from pandas in a future version. Use pandas.concat instead.\n",
      "  df = df.append(data, ignore_index=True)\n",
      "C:\\Users\\PC\\AppData\\Local\\Temp\\ipykernel_15140\\1181795267.py:16: FutureWarning: The frame.append method is deprecated and will be removed from pandas in a future version. Use pandas.concat instead.\n",
      "  df = df.append(data, ignore_index=True)\n",
      "C:\\Users\\PC\\AppData\\Local\\Temp\\ipykernel_15140\\1181795267.py:16: FutureWarning: The frame.append method is deprecated and will be removed from pandas in a future version. Use pandas.concat instead.\n",
      "  df = df.append(data, ignore_index=True)\n",
      "C:\\Users\\PC\\AppData\\Local\\Temp\\ipykernel_15140\\1181795267.py:16: FutureWarning: The frame.append method is deprecated and will be removed from pandas in a future version. Use pandas.concat instead.\n",
      "  df = df.append(data, ignore_index=True)\n",
      "C:\\Users\\PC\\AppData\\Local\\Temp\\ipykernel_15140\\1181795267.py:16: FutureWarning: The frame.append method is deprecated and will be removed from pandas in a future version. Use pandas.concat instead.\n",
      "  df = df.append(data, ignore_index=True)\n",
      "C:\\Users\\PC\\AppData\\Local\\Temp\\ipykernel_15140\\1181795267.py:16: FutureWarning: The frame.append method is deprecated and will be removed from pandas in a future version. Use pandas.concat instead.\n",
      "  df = df.append(data, ignore_index=True)\n",
      "C:\\Users\\PC\\AppData\\Local\\Temp\\ipykernel_15140\\1181795267.py:16: FutureWarning: The frame.append method is deprecated and will be removed from pandas in a future version. Use pandas.concat instead.\n",
      "  df = df.append(data, ignore_index=True)\n",
      "C:\\Users\\PC\\AppData\\Local\\Temp\\ipykernel_15140\\1181795267.py:16: FutureWarning: The frame.append method is deprecated and will be removed from pandas in a future version. Use pandas.concat instead.\n",
      "  df = df.append(data, ignore_index=True)\n",
      "C:\\Users\\PC\\AppData\\Local\\Temp\\ipykernel_15140\\1181795267.py:16: FutureWarning: The frame.append method is deprecated and will be removed from pandas in a future version. Use pandas.concat instead.\n",
      "  df = df.append(data, ignore_index=True)\n",
      "C:\\Users\\PC\\AppData\\Local\\Temp\\ipykernel_15140\\1181795267.py:16: FutureWarning: The frame.append method is deprecated and will be removed from pandas in a future version. Use pandas.concat instead.\n",
      "  df = df.append(data, ignore_index=True)\n",
      "C:\\Users\\PC\\AppData\\Local\\Temp\\ipykernel_15140\\1181795267.py:16: FutureWarning: The frame.append method is deprecated and will be removed from pandas in a future version. Use pandas.concat instead.\n",
      "  df = df.append(data, ignore_index=True)\n",
      "C:\\Users\\PC\\AppData\\Local\\Temp\\ipykernel_15140\\1181795267.py:16: FutureWarning: The frame.append method is deprecated and will be removed from pandas in a future version. Use pandas.concat instead.\n",
      "  df = df.append(data, ignore_index=True)\n"
     ]
    },
    {
     "name": "stderr",
     "output_type": "stream",
     "text": [
      "C:\\Users\\PC\\AppData\\Local\\Temp\\ipykernel_15140\\1181795267.py:16: FutureWarning: The frame.append method is deprecated and will be removed from pandas in a future version. Use pandas.concat instead.\n",
      "  df = df.append(data, ignore_index=True)\n",
      "C:\\Users\\PC\\AppData\\Local\\Temp\\ipykernel_15140\\1181795267.py:16: FutureWarning: The frame.append method is deprecated and will be removed from pandas in a future version. Use pandas.concat instead.\n",
      "  df = df.append(data, ignore_index=True)\n",
      "C:\\Users\\PC\\AppData\\Local\\Temp\\ipykernel_15140\\1181795267.py:16: FutureWarning: The frame.append method is deprecated and will be removed from pandas in a future version. Use pandas.concat instead.\n",
      "  df = df.append(data, ignore_index=True)\n",
      "C:\\Users\\PC\\AppData\\Local\\Temp\\ipykernel_15140\\1181795267.py:16: FutureWarning: The frame.append method is deprecated and will be removed from pandas in a future version. Use pandas.concat instead.\n",
      "  df = df.append(data, ignore_index=True)\n",
      "C:\\Users\\PC\\AppData\\Local\\Temp\\ipykernel_15140\\1181795267.py:16: FutureWarning: The frame.append method is deprecated and will be removed from pandas in a future version. Use pandas.concat instead.\n",
      "  df = df.append(data, ignore_index=True)\n",
      "C:\\Users\\PC\\AppData\\Local\\Temp\\ipykernel_15140\\1181795267.py:16: FutureWarning: The frame.append method is deprecated and will be removed from pandas in a future version. Use pandas.concat instead.\n",
      "  df = df.append(data, ignore_index=True)\n",
      "C:\\Users\\PC\\AppData\\Local\\Temp\\ipykernel_15140\\1181795267.py:16: FutureWarning: The frame.append method is deprecated and will be removed from pandas in a future version. Use pandas.concat instead.\n",
      "  df = df.append(data, ignore_index=True)\n",
      "C:\\Users\\PC\\AppData\\Local\\Temp\\ipykernel_15140\\1181795267.py:16: FutureWarning: The frame.append method is deprecated and will be removed from pandas in a future version. Use pandas.concat instead.\n",
      "  df = df.append(data, ignore_index=True)\n",
      "C:\\Users\\PC\\AppData\\Local\\Temp\\ipykernel_15140\\1181795267.py:16: FutureWarning: The frame.append method is deprecated and will be removed from pandas in a future version. Use pandas.concat instead.\n",
      "  df = df.append(data, ignore_index=True)\n",
      "C:\\Users\\PC\\AppData\\Local\\Temp\\ipykernel_15140\\1181795267.py:16: FutureWarning: The frame.append method is deprecated and will be removed from pandas in a future version. Use pandas.concat instead.\n",
      "  df = df.append(data, ignore_index=True)\n",
      "C:\\Users\\PC\\AppData\\Local\\Temp\\ipykernel_15140\\1181795267.py:16: FutureWarning: The frame.append method is deprecated and will be removed from pandas in a future version. Use pandas.concat instead.\n",
      "  df = df.append(data, ignore_index=True)\n",
      "C:\\Users\\PC\\AppData\\Local\\Temp\\ipykernel_15140\\1181795267.py:16: FutureWarning: The frame.append method is deprecated and will be removed from pandas in a future version. Use pandas.concat instead.\n",
      "  df = df.append(data, ignore_index=True)\n",
      "C:\\Users\\PC\\AppData\\Local\\Temp\\ipykernel_15140\\1181795267.py:16: FutureWarning: The frame.append method is deprecated and will be removed from pandas in a future version. Use pandas.concat instead.\n",
      "  df = df.append(data, ignore_index=True)\n",
      "C:\\Users\\PC\\AppData\\Local\\Temp\\ipykernel_15140\\1181795267.py:16: FutureWarning: The frame.append method is deprecated and will be removed from pandas in a future version. Use pandas.concat instead.\n",
      "  df = df.append(data, ignore_index=True)\n",
      "C:\\Users\\PC\\AppData\\Local\\Temp\\ipykernel_15140\\1181795267.py:16: FutureWarning: The frame.append method is deprecated and will be removed from pandas in a future version. Use pandas.concat instead.\n",
      "  df = df.append(data, ignore_index=True)\n",
      "C:\\Users\\PC\\AppData\\Local\\Temp\\ipykernel_15140\\1181795267.py:16: FutureWarning: The frame.append method is deprecated and will be removed from pandas in a future version. Use pandas.concat instead.\n",
      "  df = df.append(data, ignore_index=True)\n",
      "C:\\Users\\PC\\AppData\\Local\\Temp\\ipykernel_15140\\1181795267.py:16: FutureWarning: The frame.append method is deprecated and will be removed from pandas in a future version. Use pandas.concat instead.\n",
      "  df = df.append(data, ignore_index=True)\n",
      "C:\\Users\\PC\\AppData\\Local\\Temp\\ipykernel_15140\\1181795267.py:16: FutureWarning: The frame.append method is deprecated and will be removed from pandas in a future version. Use pandas.concat instead.\n",
      "  df = df.append(data, ignore_index=True)\n",
      "C:\\Users\\PC\\AppData\\Local\\Temp\\ipykernel_15140\\1181795267.py:16: FutureWarning: The frame.append method is deprecated and will be removed from pandas in a future version. Use pandas.concat instead.\n",
      "  df = df.append(data, ignore_index=True)\n",
      "C:\\Users\\PC\\AppData\\Local\\Temp\\ipykernel_15140\\1181795267.py:16: FutureWarning: The frame.append method is deprecated and will be removed from pandas in a future version. Use pandas.concat instead.\n",
      "  df = df.append(data, ignore_index=True)\n",
      "C:\\Users\\PC\\AppData\\Local\\Temp\\ipykernel_15140\\1181795267.py:16: FutureWarning: The frame.append method is deprecated and will be removed from pandas in a future version. Use pandas.concat instead.\n",
      "  df = df.append(data, ignore_index=True)\n",
      "C:\\Users\\PC\\AppData\\Local\\Temp\\ipykernel_15140\\1181795267.py:16: FutureWarning: The frame.append method is deprecated and will be removed from pandas in a future version. Use pandas.concat instead.\n",
      "  df = df.append(data, ignore_index=True)\n",
      "C:\\Users\\PC\\AppData\\Local\\Temp\\ipykernel_15140\\1181795267.py:16: FutureWarning: The frame.append method is deprecated and will be removed from pandas in a future version. Use pandas.concat instead.\n",
      "  df = df.append(data, ignore_index=True)\n",
      "C:\\Users\\PC\\AppData\\Local\\Temp\\ipykernel_15140\\1181795267.py:16: FutureWarning: The frame.append method is deprecated and will be removed from pandas in a future version. Use pandas.concat instead.\n",
      "  df = df.append(data, ignore_index=True)\n",
      "C:\\Users\\PC\\AppData\\Local\\Temp\\ipykernel_15140\\1181795267.py:16: FutureWarning: The frame.append method is deprecated and will be removed from pandas in a future version. Use pandas.concat instead.\n",
      "  df = df.append(data, ignore_index=True)\n",
      "C:\\Users\\PC\\AppData\\Local\\Temp\\ipykernel_15140\\1181795267.py:16: FutureWarning: The frame.append method is deprecated and will be removed from pandas in a future version. Use pandas.concat instead.\n",
      "  df = df.append(data, ignore_index=True)\n",
      "C:\\Users\\PC\\AppData\\Local\\Temp\\ipykernel_15140\\1181795267.py:16: FutureWarning: The frame.append method is deprecated and will be removed from pandas in a future version. Use pandas.concat instead.\n",
      "  df = df.append(data, ignore_index=True)\n",
      "C:\\Users\\PC\\AppData\\Local\\Temp\\ipykernel_15140\\1181795267.py:16: FutureWarning: The frame.append method is deprecated and will be removed from pandas in a future version. Use pandas.concat instead.\n",
      "  df = df.append(data, ignore_index=True)\n",
      "C:\\Users\\PC\\AppData\\Local\\Temp\\ipykernel_15140\\1181795267.py:16: FutureWarning: The frame.append method is deprecated and will be removed from pandas in a future version. Use pandas.concat instead.\n",
      "  df = df.append(data, ignore_index=True)\n",
      "C:\\Users\\PC\\AppData\\Local\\Temp\\ipykernel_15140\\1181795267.py:16: FutureWarning: The frame.append method is deprecated and will be removed from pandas in a future version. Use pandas.concat instead.\n",
      "  df = df.append(data, ignore_index=True)\n",
      "C:\\Users\\PC\\AppData\\Local\\Temp\\ipykernel_15140\\1181795267.py:16: FutureWarning: The frame.append method is deprecated and will be removed from pandas in a future version. Use pandas.concat instead.\n",
      "  df = df.append(data, ignore_index=True)\n",
      "C:\\Users\\PC\\AppData\\Local\\Temp\\ipykernel_15140\\1181795267.py:16: FutureWarning: The frame.append method is deprecated and will be removed from pandas in a future version. Use pandas.concat instead.\n",
      "  df = df.append(data, ignore_index=True)\n",
      "C:\\Users\\PC\\AppData\\Local\\Temp\\ipykernel_15140\\1181795267.py:16: FutureWarning: The frame.append method is deprecated and will be removed from pandas in a future version. Use pandas.concat instead.\n",
      "  df = df.append(data, ignore_index=True)\n",
      "C:\\Users\\PC\\AppData\\Local\\Temp\\ipykernel_15140\\1181795267.py:16: FutureWarning: The frame.append method is deprecated and will be removed from pandas in a future version. Use pandas.concat instead.\n",
      "  df = df.append(data, ignore_index=True)\n",
      "C:\\Users\\PC\\AppData\\Local\\Temp\\ipykernel_15140\\1181795267.py:16: FutureWarning: The frame.append method is deprecated and will be removed from pandas in a future version. Use pandas.concat instead.\n",
      "  df = df.append(data, ignore_index=True)\n"
     ]
    },
    {
     "name": "stderr",
     "output_type": "stream",
     "text": [
      "C:\\Users\\PC\\AppData\\Local\\Temp\\ipykernel_15140\\1181795267.py:16: FutureWarning: The frame.append method is deprecated and will be removed from pandas in a future version. Use pandas.concat instead.\n",
      "  df = df.append(data, ignore_index=True)\n",
      "C:\\Users\\PC\\AppData\\Local\\Temp\\ipykernel_15140\\1181795267.py:16: FutureWarning: The frame.append method is deprecated and will be removed from pandas in a future version. Use pandas.concat instead.\n",
      "  df = df.append(data, ignore_index=True)\n",
      "C:\\Users\\PC\\AppData\\Local\\Temp\\ipykernel_15140\\1181795267.py:16: FutureWarning: The frame.append method is deprecated and will be removed from pandas in a future version. Use pandas.concat instead.\n",
      "  df = df.append(data, ignore_index=True)\n",
      "C:\\Users\\PC\\AppData\\Local\\Temp\\ipykernel_15140\\1181795267.py:16: FutureWarning: The frame.append method is deprecated and will be removed from pandas in a future version. Use pandas.concat instead.\n",
      "  df = df.append(data, ignore_index=True)\n",
      "C:\\Users\\PC\\AppData\\Local\\Temp\\ipykernel_15140\\1181795267.py:16: FutureWarning: The frame.append method is deprecated and will be removed from pandas in a future version. Use pandas.concat instead.\n",
      "  df = df.append(data, ignore_index=True)\n",
      "C:\\Users\\PC\\AppData\\Local\\Temp\\ipykernel_15140\\1181795267.py:16: FutureWarning: The frame.append method is deprecated and will be removed from pandas in a future version. Use pandas.concat instead.\n",
      "  df = df.append(data, ignore_index=True)\n",
      "C:\\Users\\PC\\AppData\\Local\\Temp\\ipykernel_15140\\1181795267.py:16: FutureWarning: The frame.append method is deprecated and will be removed from pandas in a future version. Use pandas.concat instead.\n",
      "  df = df.append(data, ignore_index=True)\n",
      "C:\\Users\\PC\\AppData\\Local\\Temp\\ipykernel_15140\\1181795267.py:16: FutureWarning: The frame.append method is deprecated and will be removed from pandas in a future version. Use pandas.concat instead.\n",
      "  df = df.append(data, ignore_index=True)\n",
      "C:\\Users\\PC\\AppData\\Local\\Temp\\ipykernel_15140\\1181795267.py:16: FutureWarning: The frame.append method is deprecated and will be removed from pandas in a future version. Use pandas.concat instead.\n",
      "  df = df.append(data, ignore_index=True)\n",
      "C:\\Users\\PC\\AppData\\Local\\Temp\\ipykernel_15140\\1181795267.py:16: FutureWarning: The frame.append method is deprecated and will be removed from pandas in a future version. Use pandas.concat instead.\n",
      "  df = df.append(data, ignore_index=True)\n",
      "C:\\Users\\PC\\AppData\\Local\\Temp\\ipykernel_15140\\1181795267.py:16: FutureWarning: The frame.append method is deprecated and will be removed from pandas in a future version. Use pandas.concat instead.\n",
      "  df = df.append(data, ignore_index=True)\n",
      "C:\\Users\\PC\\AppData\\Local\\Temp\\ipykernel_15140\\1181795267.py:16: FutureWarning: The frame.append method is deprecated and will be removed from pandas in a future version. Use pandas.concat instead.\n",
      "  df = df.append(data, ignore_index=True)\n",
      "C:\\Users\\PC\\AppData\\Local\\Temp\\ipykernel_15140\\1181795267.py:16: FutureWarning: The frame.append method is deprecated and will be removed from pandas in a future version. Use pandas.concat instead.\n",
      "  df = df.append(data, ignore_index=True)\n",
      "C:\\Users\\PC\\AppData\\Local\\Temp\\ipykernel_15140\\1181795267.py:16: FutureWarning: The frame.append method is deprecated and will be removed from pandas in a future version. Use pandas.concat instead.\n",
      "  df = df.append(data, ignore_index=True)\n",
      "C:\\Users\\PC\\AppData\\Local\\Temp\\ipykernel_15140\\1181795267.py:16: FutureWarning: The frame.append method is deprecated and will be removed from pandas in a future version. Use pandas.concat instead.\n",
      "  df = df.append(data, ignore_index=True)\n",
      "C:\\Users\\PC\\AppData\\Local\\Temp\\ipykernel_15140\\1181795267.py:16: FutureWarning: The frame.append method is deprecated and will be removed from pandas in a future version. Use pandas.concat instead.\n",
      "  df = df.append(data, ignore_index=True)\n",
      "C:\\Users\\PC\\AppData\\Local\\Temp\\ipykernel_15140\\1181795267.py:16: FutureWarning: The frame.append method is deprecated and will be removed from pandas in a future version. Use pandas.concat instead.\n",
      "  df = df.append(data, ignore_index=True)\n",
      "C:\\Users\\PC\\AppData\\Local\\Temp\\ipykernel_15140\\1181795267.py:16: FutureWarning: The frame.append method is deprecated and will be removed from pandas in a future version. Use pandas.concat instead.\n",
      "  df = df.append(data, ignore_index=True)\n",
      "C:\\Users\\PC\\AppData\\Local\\Temp\\ipykernel_15140\\1181795267.py:16: FutureWarning: The frame.append method is deprecated and will be removed from pandas in a future version. Use pandas.concat instead.\n",
      "  df = df.append(data, ignore_index=True)\n",
      "C:\\Users\\PC\\AppData\\Local\\Temp\\ipykernel_15140\\1181795267.py:16: FutureWarning: The frame.append method is deprecated and will be removed from pandas in a future version. Use pandas.concat instead.\n",
      "  df = df.append(data, ignore_index=True)\n",
      "C:\\Users\\PC\\AppData\\Local\\Temp\\ipykernel_15140\\1181795267.py:16: FutureWarning: The frame.append method is deprecated and will be removed from pandas in a future version. Use pandas.concat instead.\n",
      "  df = df.append(data, ignore_index=True)\n",
      "C:\\Users\\PC\\AppData\\Local\\Temp\\ipykernel_15140\\1181795267.py:16: FutureWarning: The frame.append method is deprecated and will be removed from pandas in a future version. Use pandas.concat instead.\n",
      "  df = df.append(data, ignore_index=True)\n",
      "C:\\Users\\PC\\AppData\\Local\\Temp\\ipykernel_15140\\1181795267.py:16: FutureWarning: The frame.append method is deprecated and will be removed from pandas in a future version. Use pandas.concat instead.\n",
      "  df = df.append(data, ignore_index=True)\n",
      "C:\\Users\\PC\\AppData\\Local\\Temp\\ipykernel_15140\\1181795267.py:16: FutureWarning: The frame.append method is deprecated and will be removed from pandas in a future version. Use pandas.concat instead.\n",
      "  df = df.append(data, ignore_index=True)\n",
      "C:\\Users\\PC\\AppData\\Local\\Temp\\ipykernel_15140\\1181795267.py:16: FutureWarning: The frame.append method is deprecated and will be removed from pandas in a future version. Use pandas.concat instead.\n",
      "  df = df.append(data, ignore_index=True)\n",
      "C:\\Users\\PC\\AppData\\Local\\Temp\\ipykernel_15140\\1181795267.py:16: FutureWarning: The frame.append method is deprecated and will be removed from pandas in a future version. Use pandas.concat instead.\n",
      "  df = df.append(data, ignore_index=True)\n",
      "C:\\Users\\PC\\AppData\\Local\\Temp\\ipykernel_15140\\1181795267.py:16: FutureWarning: The frame.append method is deprecated and will be removed from pandas in a future version. Use pandas.concat instead.\n",
      "  df = df.append(data, ignore_index=True)\n",
      "C:\\Users\\PC\\AppData\\Local\\Temp\\ipykernel_15140\\1181795267.py:16: FutureWarning: The frame.append method is deprecated and will be removed from pandas in a future version. Use pandas.concat instead.\n",
      "  df = df.append(data, ignore_index=True)\n",
      "C:\\Users\\PC\\AppData\\Local\\Temp\\ipykernel_15140\\1181795267.py:16: FutureWarning: The frame.append method is deprecated and will be removed from pandas in a future version. Use pandas.concat instead.\n",
      "  df = df.append(data, ignore_index=True)\n",
      "C:\\Users\\PC\\AppData\\Local\\Temp\\ipykernel_15140\\1181795267.py:16: FutureWarning: The frame.append method is deprecated and will be removed from pandas in a future version. Use pandas.concat instead.\n",
      "  df = df.append(data, ignore_index=True)\n",
      "C:\\Users\\PC\\AppData\\Local\\Temp\\ipykernel_15140\\1181795267.py:16: FutureWarning: The frame.append method is deprecated and will be removed from pandas in a future version. Use pandas.concat instead.\n",
      "  df = df.append(data, ignore_index=True)\n",
      "C:\\Users\\PC\\AppData\\Local\\Temp\\ipykernel_15140\\1181795267.py:16: FutureWarning: The frame.append method is deprecated and will be removed from pandas in a future version. Use pandas.concat instead.\n",
      "  df = df.append(data, ignore_index=True)\n",
      "C:\\Users\\PC\\AppData\\Local\\Temp\\ipykernel_15140\\1181795267.py:16: FutureWarning: The frame.append method is deprecated and will be removed from pandas in a future version. Use pandas.concat instead.\n",
      "  df = df.append(data, ignore_index=True)\n",
      "C:\\Users\\PC\\AppData\\Local\\Temp\\ipykernel_15140\\1181795267.py:16: FutureWarning: The frame.append method is deprecated and will be removed from pandas in a future version. Use pandas.concat instead.\n",
      "  df = df.append(data, ignore_index=True)\n",
      "C:\\Users\\PC\\AppData\\Local\\Temp\\ipykernel_15140\\1181795267.py:16: FutureWarning: The frame.append method is deprecated and will be removed from pandas in a future version. Use pandas.concat instead.\n",
      "  df = df.append(data, ignore_index=True)\n"
     ]
    },
    {
     "name": "stderr",
     "output_type": "stream",
     "text": [
      "C:\\Users\\PC\\AppData\\Local\\Temp\\ipykernel_15140\\1181795267.py:16: FutureWarning: The frame.append method is deprecated and will be removed from pandas in a future version. Use pandas.concat instead.\n",
      "  df = df.append(data, ignore_index=True)\n",
      "C:\\Users\\PC\\AppData\\Local\\Temp\\ipykernel_15140\\1181795267.py:16: FutureWarning: The frame.append method is deprecated and will be removed from pandas in a future version. Use pandas.concat instead.\n",
      "  df = df.append(data, ignore_index=True)\n",
      "C:\\Users\\PC\\AppData\\Local\\Temp\\ipykernel_15140\\1181795267.py:16: FutureWarning: The frame.append method is deprecated and will be removed from pandas in a future version. Use pandas.concat instead.\n",
      "  df = df.append(data, ignore_index=True)\n",
      "C:\\Users\\PC\\AppData\\Local\\Temp\\ipykernel_15140\\1181795267.py:16: FutureWarning: The frame.append method is deprecated and will be removed from pandas in a future version. Use pandas.concat instead.\n",
      "  df = df.append(data, ignore_index=True)\n",
      "C:\\Users\\PC\\AppData\\Local\\Temp\\ipykernel_15140\\1181795267.py:16: FutureWarning: The frame.append method is deprecated and will be removed from pandas in a future version. Use pandas.concat instead.\n",
      "  df = df.append(data, ignore_index=True)\n",
      "C:\\Users\\PC\\AppData\\Local\\Temp\\ipykernel_15140\\1181795267.py:16: FutureWarning: The frame.append method is deprecated and will be removed from pandas in a future version. Use pandas.concat instead.\n",
      "  df = df.append(data, ignore_index=True)\n",
      "C:\\Users\\PC\\AppData\\Local\\Temp\\ipykernel_15140\\1181795267.py:16: FutureWarning: The frame.append method is deprecated and will be removed from pandas in a future version. Use pandas.concat instead.\n",
      "  df = df.append(data, ignore_index=True)\n",
      "C:\\Users\\PC\\AppData\\Local\\Temp\\ipykernel_15140\\1181795267.py:16: FutureWarning: The frame.append method is deprecated and will be removed from pandas in a future version. Use pandas.concat instead.\n",
      "  df = df.append(data, ignore_index=True)\n",
      "C:\\Users\\PC\\AppData\\Local\\Temp\\ipykernel_15140\\1181795267.py:16: FutureWarning: The frame.append method is deprecated and will be removed from pandas in a future version. Use pandas.concat instead.\n",
      "  df = df.append(data, ignore_index=True)\n",
      "C:\\Users\\PC\\AppData\\Local\\Temp\\ipykernel_15140\\1181795267.py:16: FutureWarning: The frame.append method is deprecated and will be removed from pandas in a future version. Use pandas.concat instead.\n",
      "  df = df.append(data, ignore_index=True)\n",
      "C:\\Users\\PC\\AppData\\Local\\Temp\\ipykernel_15140\\1181795267.py:16: FutureWarning: The frame.append method is deprecated and will be removed from pandas in a future version. Use pandas.concat instead.\n",
      "  df = df.append(data, ignore_index=True)\n",
      "C:\\Users\\PC\\AppData\\Local\\Temp\\ipykernel_15140\\1181795267.py:16: FutureWarning: The frame.append method is deprecated and will be removed from pandas in a future version. Use pandas.concat instead.\n",
      "  df = df.append(data, ignore_index=True)\n",
      "C:\\Users\\PC\\AppData\\Local\\Temp\\ipykernel_15140\\1181795267.py:16: FutureWarning: The frame.append method is deprecated and will be removed from pandas in a future version. Use pandas.concat instead.\n",
      "  df = df.append(data, ignore_index=True)\n",
      "C:\\Users\\PC\\AppData\\Local\\Temp\\ipykernel_15140\\1181795267.py:16: FutureWarning: The frame.append method is deprecated and will be removed from pandas in a future version. Use pandas.concat instead.\n",
      "  df = df.append(data, ignore_index=True)\n",
      "C:\\Users\\PC\\AppData\\Local\\Temp\\ipykernel_15140\\1181795267.py:16: FutureWarning: The frame.append method is deprecated and will be removed from pandas in a future version. Use pandas.concat instead.\n",
      "  df = df.append(data, ignore_index=True)\n",
      "C:\\Users\\PC\\AppData\\Local\\Temp\\ipykernel_15140\\1181795267.py:16: FutureWarning: The frame.append method is deprecated and will be removed from pandas in a future version. Use pandas.concat instead.\n",
      "  df = df.append(data, ignore_index=True)\n",
      "C:\\Users\\PC\\AppData\\Local\\Temp\\ipykernel_15140\\1181795267.py:16: FutureWarning: The frame.append method is deprecated and will be removed from pandas in a future version. Use pandas.concat instead.\n",
      "  df = df.append(data, ignore_index=True)\n",
      "C:\\Users\\PC\\AppData\\Local\\Temp\\ipykernel_15140\\1181795267.py:16: FutureWarning: The frame.append method is deprecated and will be removed from pandas in a future version. Use pandas.concat instead.\n",
      "  df = df.append(data, ignore_index=True)\n",
      "C:\\Users\\PC\\AppData\\Local\\Temp\\ipykernel_15140\\1181795267.py:16: FutureWarning: The frame.append method is deprecated and will be removed from pandas in a future version. Use pandas.concat instead.\n",
      "  df = df.append(data, ignore_index=True)\n",
      "C:\\Users\\PC\\AppData\\Local\\Temp\\ipykernel_15140\\1181795267.py:16: FutureWarning: The frame.append method is deprecated and will be removed from pandas in a future version. Use pandas.concat instead.\n",
      "  df = df.append(data, ignore_index=True)\n",
      "C:\\Users\\PC\\AppData\\Local\\Temp\\ipykernel_15140\\1181795267.py:16: FutureWarning: The frame.append method is deprecated and will be removed from pandas in a future version. Use pandas.concat instead.\n",
      "  df = df.append(data, ignore_index=True)\n",
      "C:\\Users\\PC\\AppData\\Local\\Temp\\ipykernel_15140\\1181795267.py:16: FutureWarning: The frame.append method is deprecated and will be removed from pandas in a future version. Use pandas.concat instead.\n",
      "  df = df.append(data, ignore_index=True)\n",
      "C:\\Users\\PC\\AppData\\Local\\Temp\\ipykernel_15140\\1181795267.py:16: FutureWarning: The frame.append method is deprecated and will be removed from pandas in a future version. Use pandas.concat instead.\n",
      "  df = df.append(data, ignore_index=True)\n",
      "C:\\Users\\PC\\AppData\\Local\\Temp\\ipykernel_15140\\1181795267.py:16: FutureWarning: The frame.append method is deprecated and will be removed from pandas in a future version. Use pandas.concat instead.\n",
      "  df = df.append(data, ignore_index=True)\n",
      "C:\\Users\\PC\\AppData\\Local\\Temp\\ipykernel_15140\\1181795267.py:16: FutureWarning: The frame.append method is deprecated and will be removed from pandas in a future version. Use pandas.concat instead.\n",
      "  df = df.append(data, ignore_index=True)\n",
      "C:\\Users\\PC\\AppData\\Local\\Temp\\ipykernel_15140\\1181795267.py:16: FutureWarning: The frame.append method is deprecated and will be removed from pandas in a future version. Use pandas.concat instead.\n",
      "  df = df.append(data, ignore_index=True)\n",
      "C:\\Users\\PC\\AppData\\Local\\Temp\\ipykernel_15140\\1181795267.py:16: FutureWarning: The frame.append method is deprecated and will be removed from pandas in a future version. Use pandas.concat instead.\n",
      "  df = df.append(data, ignore_index=True)\n",
      "C:\\Users\\PC\\AppData\\Local\\Temp\\ipykernel_15140\\1181795267.py:16: FutureWarning: The frame.append method is deprecated and will be removed from pandas in a future version. Use pandas.concat instead.\n",
      "  df = df.append(data, ignore_index=True)\n",
      "C:\\Users\\PC\\AppData\\Local\\Temp\\ipykernel_15140\\1181795267.py:16: FutureWarning: The frame.append method is deprecated and will be removed from pandas in a future version. Use pandas.concat instead.\n",
      "  df = df.append(data, ignore_index=True)\n",
      "C:\\Users\\PC\\AppData\\Local\\Temp\\ipykernel_15140\\1181795267.py:16: FutureWarning: The frame.append method is deprecated and will be removed from pandas in a future version. Use pandas.concat instead.\n",
      "  df = df.append(data, ignore_index=True)\n",
      "C:\\Users\\PC\\AppData\\Local\\Temp\\ipykernel_15140\\1181795267.py:16: FutureWarning: The frame.append method is deprecated and will be removed from pandas in a future version. Use pandas.concat instead.\n",
      "  df = df.append(data, ignore_index=True)\n",
      "C:\\Users\\PC\\AppData\\Local\\Temp\\ipykernel_15140\\1181795267.py:16: FutureWarning: The frame.append method is deprecated and will be removed from pandas in a future version. Use pandas.concat instead.\n",
      "  df = df.append(data, ignore_index=True)\n",
      "C:\\Users\\PC\\AppData\\Local\\Temp\\ipykernel_15140\\1181795267.py:16: FutureWarning: The frame.append method is deprecated and will be removed from pandas in a future version. Use pandas.concat instead.\n",
      "  df = df.append(data, ignore_index=True)\n",
      "C:\\Users\\PC\\AppData\\Local\\Temp\\ipykernel_15140\\1181795267.py:16: FutureWarning: The frame.append method is deprecated and will be removed from pandas in a future version. Use pandas.concat instead.\n",
      "  df = df.append(data, ignore_index=True)\n",
      "C:\\Users\\PC\\AppData\\Local\\Temp\\ipykernel_15140\\1181795267.py:16: FutureWarning: The frame.append method is deprecated and will be removed from pandas in a future version. Use pandas.concat instead.\n",
      "  df = df.append(data, ignore_index=True)\n"
     ]
    },
    {
     "name": "stderr",
     "output_type": "stream",
     "text": [
      "C:\\Users\\PC\\AppData\\Local\\Temp\\ipykernel_15140\\1181795267.py:16: FutureWarning: The frame.append method is deprecated and will be removed from pandas in a future version. Use pandas.concat instead.\n",
      "  df = df.append(data, ignore_index=True)\n",
      "C:\\Users\\PC\\AppData\\Local\\Temp\\ipykernel_15140\\1181795267.py:16: FutureWarning: The frame.append method is deprecated and will be removed from pandas in a future version. Use pandas.concat instead.\n",
      "  df = df.append(data, ignore_index=True)\n",
      "C:\\Users\\PC\\AppData\\Local\\Temp\\ipykernel_15140\\1181795267.py:16: FutureWarning: The frame.append method is deprecated and will be removed from pandas in a future version. Use pandas.concat instead.\n",
      "  df = df.append(data, ignore_index=True)\n",
      "C:\\Users\\PC\\AppData\\Local\\Temp\\ipykernel_15140\\1181795267.py:16: FutureWarning: The frame.append method is deprecated and will be removed from pandas in a future version. Use pandas.concat instead.\n",
      "  df = df.append(data, ignore_index=True)\n",
      "C:\\Users\\PC\\AppData\\Local\\Temp\\ipykernel_15140\\1181795267.py:16: FutureWarning: The frame.append method is deprecated and will be removed from pandas in a future version. Use pandas.concat instead.\n",
      "  df = df.append(data, ignore_index=True)\n",
      "C:\\Users\\PC\\AppData\\Local\\Temp\\ipykernel_15140\\1181795267.py:16: FutureWarning: The frame.append method is deprecated and will be removed from pandas in a future version. Use pandas.concat instead.\n",
      "  df = df.append(data, ignore_index=True)\n",
      "C:\\Users\\PC\\AppData\\Local\\Temp\\ipykernel_15140\\1181795267.py:16: FutureWarning: The frame.append method is deprecated and will be removed from pandas in a future version. Use pandas.concat instead.\n",
      "  df = df.append(data, ignore_index=True)\n",
      "C:\\Users\\PC\\AppData\\Local\\Temp\\ipykernel_15140\\1181795267.py:16: FutureWarning: The frame.append method is deprecated and will be removed from pandas in a future version. Use pandas.concat instead.\n",
      "  df = df.append(data, ignore_index=True)\n",
      "C:\\Users\\PC\\AppData\\Local\\Temp\\ipykernel_15140\\1181795267.py:16: FutureWarning: The frame.append method is deprecated and will be removed from pandas in a future version. Use pandas.concat instead.\n",
      "  df = df.append(data, ignore_index=True)\n",
      "C:\\Users\\PC\\AppData\\Local\\Temp\\ipykernel_15140\\1181795267.py:16: FutureWarning: The frame.append method is deprecated and will be removed from pandas in a future version. Use pandas.concat instead.\n",
      "  df = df.append(data, ignore_index=True)\n",
      "C:\\Users\\PC\\AppData\\Local\\Temp\\ipykernel_15140\\1181795267.py:16: FutureWarning: The frame.append method is deprecated and will be removed from pandas in a future version. Use pandas.concat instead.\n",
      "  df = df.append(data, ignore_index=True)\n",
      "C:\\Users\\PC\\AppData\\Local\\Temp\\ipykernel_15140\\1181795267.py:16: FutureWarning: The frame.append method is deprecated and will be removed from pandas in a future version. Use pandas.concat instead.\n",
      "  df = df.append(data, ignore_index=True)\n",
      "C:\\Users\\PC\\AppData\\Local\\Temp\\ipykernel_15140\\1181795267.py:16: FutureWarning: The frame.append method is deprecated and will be removed from pandas in a future version. Use pandas.concat instead.\n",
      "  df = df.append(data, ignore_index=True)\n",
      "C:\\Users\\PC\\AppData\\Local\\Temp\\ipykernel_15140\\1181795267.py:16: FutureWarning: The frame.append method is deprecated and will be removed from pandas in a future version. Use pandas.concat instead.\n",
      "  df = df.append(data, ignore_index=True)\n",
      "C:\\Users\\PC\\AppData\\Local\\Temp\\ipykernel_15140\\1181795267.py:16: FutureWarning: The frame.append method is deprecated and will be removed from pandas in a future version. Use pandas.concat instead.\n",
      "  df = df.append(data, ignore_index=True)\n",
      "C:\\Users\\PC\\AppData\\Local\\Temp\\ipykernel_15140\\1181795267.py:16: FutureWarning: The frame.append method is deprecated and will be removed from pandas in a future version. Use pandas.concat instead.\n",
      "  df = df.append(data, ignore_index=True)\n",
      "C:\\Users\\PC\\AppData\\Local\\Temp\\ipykernel_15140\\1181795267.py:16: FutureWarning: The frame.append method is deprecated and will be removed from pandas in a future version. Use pandas.concat instead.\n",
      "  df = df.append(data, ignore_index=True)\n",
      "C:\\Users\\PC\\AppData\\Local\\Temp\\ipykernel_15140\\1181795267.py:16: FutureWarning: The frame.append method is deprecated and will be removed from pandas in a future version. Use pandas.concat instead.\n",
      "  df = df.append(data, ignore_index=True)\n",
      "C:\\Users\\PC\\AppData\\Local\\Temp\\ipykernel_15140\\1181795267.py:16: FutureWarning: The frame.append method is deprecated and will be removed from pandas in a future version. Use pandas.concat instead.\n",
      "  df = df.append(data, ignore_index=True)\n",
      "C:\\Users\\PC\\AppData\\Local\\Temp\\ipykernel_15140\\1181795267.py:16: FutureWarning: The frame.append method is deprecated and will be removed from pandas in a future version. Use pandas.concat instead.\n",
      "  df = df.append(data, ignore_index=True)\n",
      "C:\\Users\\PC\\AppData\\Local\\Temp\\ipykernel_15140\\1181795267.py:16: FutureWarning: The frame.append method is deprecated and will be removed from pandas in a future version. Use pandas.concat instead.\n",
      "  df = df.append(data, ignore_index=True)\n",
      "C:\\Users\\PC\\AppData\\Local\\Temp\\ipykernel_15140\\1181795267.py:16: FutureWarning: The frame.append method is deprecated and will be removed from pandas in a future version. Use pandas.concat instead.\n",
      "  df = df.append(data, ignore_index=True)\n",
      "C:\\Users\\PC\\AppData\\Local\\Temp\\ipykernel_15140\\1181795267.py:16: FutureWarning: The frame.append method is deprecated and will be removed from pandas in a future version. Use pandas.concat instead.\n",
      "  df = df.append(data, ignore_index=True)\n",
      "C:\\Users\\PC\\AppData\\Local\\Temp\\ipykernel_15140\\1181795267.py:16: FutureWarning: The frame.append method is deprecated and will be removed from pandas in a future version. Use pandas.concat instead.\n",
      "  df = df.append(data, ignore_index=True)\n",
      "C:\\Users\\PC\\AppData\\Local\\Temp\\ipykernel_15140\\1181795267.py:16: FutureWarning: The frame.append method is deprecated and will be removed from pandas in a future version. Use pandas.concat instead.\n",
      "  df = df.append(data, ignore_index=True)\n",
      "C:\\Users\\PC\\AppData\\Local\\Temp\\ipykernel_15140\\1181795267.py:16: FutureWarning: The frame.append method is deprecated and will be removed from pandas in a future version. Use pandas.concat instead.\n",
      "  df = df.append(data, ignore_index=True)\n",
      "C:\\Users\\PC\\AppData\\Local\\Temp\\ipykernel_15140\\1181795267.py:16: FutureWarning: The frame.append method is deprecated and will be removed from pandas in a future version. Use pandas.concat instead.\n",
      "  df = df.append(data, ignore_index=True)\n",
      "C:\\Users\\PC\\AppData\\Local\\Temp\\ipykernel_15140\\1181795267.py:16: FutureWarning: The frame.append method is deprecated and will be removed from pandas in a future version. Use pandas.concat instead.\n",
      "  df = df.append(data, ignore_index=True)\n",
      "C:\\Users\\PC\\AppData\\Local\\Temp\\ipykernel_15140\\1181795267.py:16: FutureWarning: The frame.append method is deprecated and will be removed from pandas in a future version. Use pandas.concat instead.\n",
      "  df = df.append(data, ignore_index=True)\n",
      "C:\\Users\\PC\\AppData\\Local\\Temp\\ipykernel_15140\\1181795267.py:16: FutureWarning: The frame.append method is deprecated and will be removed from pandas in a future version. Use pandas.concat instead.\n",
      "  df = df.append(data, ignore_index=True)\n",
      "C:\\Users\\PC\\AppData\\Local\\Temp\\ipykernel_15140\\1181795267.py:16: FutureWarning: The frame.append method is deprecated and will be removed from pandas in a future version. Use pandas.concat instead.\n",
      "  df = df.append(data, ignore_index=True)\n",
      "C:\\Users\\PC\\AppData\\Local\\Temp\\ipykernel_15140\\1181795267.py:16: FutureWarning: The frame.append method is deprecated and will be removed from pandas in a future version. Use pandas.concat instead.\n",
      "  df = df.append(data, ignore_index=True)\n",
      "C:\\Users\\PC\\AppData\\Local\\Temp\\ipykernel_15140\\1181795267.py:16: FutureWarning: The frame.append method is deprecated and will be removed from pandas in a future version. Use pandas.concat instead.\n",
      "  df = df.append(data, ignore_index=True)\n",
      "C:\\Users\\PC\\AppData\\Local\\Temp\\ipykernel_15140\\1181795267.py:16: FutureWarning: The frame.append method is deprecated and will be removed from pandas in a future version. Use pandas.concat instead.\n",
      "  df = df.append(data, ignore_index=True)\n",
      "C:\\Users\\PC\\AppData\\Local\\Temp\\ipykernel_15140\\1181795267.py:16: FutureWarning: The frame.append method is deprecated and will be removed from pandas in a future version. Use pandas.concat instead.\n",
      "  df = df.append(data, ignore_index=True)\n"
     ]
    },
    {
     "name": "stderr",
     "output_type": "stream",
     "text": [
      "C:\\Users\\PC\\AppData\\Local\\Temp\\ipykernel_15140\\1181795267.py:16: FutureWarning: The frame.append method is deprecated and will be removed from pandas in a future version. Use pandas.concat instead.\n",
      "  df = df.append(data, ignore_index=True)\n",
      "C:\\Users\\PC\\AppData\\Local\\Temp\\ipykernel_15140\\1181795267.py:16: FutureWarning: The frame.append method is deprecated and will be removed from pandas in a future version. Use pandas.concat instead.\n",
      "  df = df.append(data, ignore_index=True)\n",
      "C:\\Users\\PC\\AppData\\Local\\Temp\\ipykernel_15140\\1181795267.py:16: FutureWarning: The frame.append method is deprecated and will be removed from pandas in a future version. Use pandas.concat instead.\n",
      "  df = df.append(data, ignore_index=True)\n",
      "C:\\Users\\PC\\AppData\\Local\\Temp\\ipykernel_15140\\1181795267.py:16: FutureWarning: The frame.append method is deprecated and will be removed from pandas in a future version. Use pandas.concat instead.\n",
      "  df = df.append(data, ignore_index=True)\n",
      "C:\\Users\\PC\\AppData\\Local\\Temp\\ipykernel_15140\\1181795267.py:16: FutureWarning: The frame.append method is deprecated and will be removed from pandas in a future version. Use pandas.concat instead.\n",
      "  df = df.append(data, ignore_index=True)\n",
      "C:\\Users\\PC\\AppData\\Local\\Temp\\ipykernel_15140\\1181795267.py:16: FutureWarning: The frame.append method is deprecated and will be removed from pandas in a future version. Use pandas.concat instead.\n",
      "  df = df.append(data, ignore_index=True)\n",
      "C:\\Users\\PC\\AppData\\Local\\Temp\\ipykernel_15140\\1181795267.py:16: FutureWarning: The frame.append method is deprecated and will be removed from pandas in a future version. Use pandas.concat instead.\n",
      "  df = df.append(data, ignore_index=True)\n",
      "C:\\Users\\PC\\AppData\\Local\\Temp\\ipykernel_15140\\1181795267.py:16: FutureWarning: The frame.append method is deprecated and will be removed from pandas in a future version. Use pandas.concat instead.\n",
      "  df = df.append(data, ignore_index=True)\n",
      "C:\\Users\\PC\\AppData\\Local\\Temp\\ipykernel_15140\\1181795267.py:16: FutureWarning: The frame.append method is deprecated and will be removed from pandas in a future version. Use pandas.concat instead.\n",
      "  df = df.append(data, ignore_index=True)\n",
      "C:\\Users\\PC\\AppData\\Local\\Temp\\ipykernel_15140\\1181795267.py:16: FutureWarning: The frame.append method is deprecated and will be removed from pandas in a future version. Use pandas.concat instead.\n",
      "  df = df.append(data, ignore_index=True)\n",
      "C:\\Users\\PC\\AppData\\Local\\Temp\\ipykernel_15140\\1181795267.py:16: FutureWarning: The frame.append method is deprecated and will be removed from pandas in a future version. Use pandas.concat instead.\n",
      "  df = df.append(data, ignore_index=True)\n",
      "C:\\Users\\PC\\AppData\\Local\\Temp\\ipykernel_15140\\1181795267.py:16: FutureWarning: The frame.append method is deprecated and will be removed from pandas in a future version. Use pandas.concat instead.\n",
      "  df = df.append(data, ignore_index=True)\n",
      "C:\\Users\\PC\\AppData\\Local\\Temp\\ipykernel_15140\\1181795267.py:16: FutureWarning: The frame.append method is deprecated and will be removed from pandas in a future version. Use pandas.concat instead.\n",
      "  df = df.append(data, ignore_index=True)\n",
      "C:\\Users\\PC\\AppData\\Local\\Temp\\ipykernel_15140\\1181795267.py:16: FutureWarning: The frame.append method is deprecated and will be removed from pandas in a future version. Use pandas.concat instead.\n",
      "  df = df.append(data, ignore_index=True)\n",
      "C:\\Users\\PC\\AppData\\Local\\Temp\\ipykernel_15140\\1181795267.py:16: FutureWarning: The frame.append method is deprecated and will be removed from pandas in a future version. Use pandas.concat instead.\n",
      "  df = df.append(data, ignore_index=True)\n",
      "C:\\Users\\PC\\AppData\\Local\\Temp\\ipykernel_15140\\1181795267.py:16: FutureWarning: The frame.append method is deprecated and will be removed from pandas in a future version. Use pandas.concat instead.\n",
      "  df = df.append(data, ignore_index=True)\n",
      "C:\\Users\\PC\\AppData\\Local\\Temp\\ipykernel_15140\\1181795267.py:16: FutureWarning: The frame.append method is deprecated and will be removed from pandas in a future version. Use pandas.concat instead.\n",
      "  df = df.append(data, ignore_index=True)\n",
      "C:\\Users\\PC\\AppData\\Local\\Temp\\ipykernel_15140\\1181795267.py:16: FutureWarning: The frame.append method is deprecated and will be removed from pandas in a future version. Use pandas.concat instead.\n",
      "  df = df.append(data, ignore_index=True)\n",
      "C:\\Users\\PC\\AppData\\Local\\Temp\\ipykernel_15140\\1181795267.py:16: FutureWarning: The frame.append method is deprecated and will be removed from pandas in a future version. Use pandas.concat instead.\n",
      "  df = df.append(data, ignore_index=True)\n",
      "C:\\Users\\PC\\AppData\\Local\\Temp\\ipykernel_15140\\1181795267.py:16: FutureWarning: The frame.append method is deprecated and will be removed from pandas in a future version. Use pandas.concat instead.\n",
      "  df = df.append(data, ignore_index=True)\n",
      "C:\\Users\\PC\\AppData\\Local\\Temp\\ipykernel_15140\\1181795267.py:16: FutureWarning: The frame.append method is deprecated and will be removed from pandas in a future version. Use pandas.concat instead.\n",
      "  df = df.append(data, ignore_index=True)\n",
      "C:\\Users\\PC\\AppData\\Local\\Temp\\ipykernel_15140\\1181795267.py:16: FutureWarning: The frame.append method is deprecated and will be removed from pandas in a future version. Use pandas.concat instead.\n",
      "  df = df.append(data, ignore_index=True)\n",
      "C:\\Users\\PC\\AppData\\Local\\Temp\\ipykernel_15140\\1181795267.py:16: FutureWarning: The frame.append method is deprecated and will be removed from pandas in a future version. Use pandas.concat instead.\n",
      "  df = df.append(data, ignore_index=True)\n",
      "C:\\Users\\PC\\AppData\\Local\\Temp\\ipykernel_15140\\1181795267.py:16: FutureWarning: The frame.append method is deprecated and will be removed from pandas in a future version. Use pandas.concat instead.\n",
      "  df = df.append(data, ignore_index=True)\n",
      "C:\\Users\\PC\\AppData\\Local\\Temp\\ipykernel_15140\\1181795267.py:16: FutureWarning: The frame.append method is deprecated and will be removed from pandas in a future version. Use pandas.concat instead.\n",
      "  df = df.append(data, ignore_index=True)\n",
      "C:\\Users\\PC\\AppData\\Local\\Temp\\ipykernel_15140\\1181795267.py:16: FutureWarning: The frame.append method is deprecated and will be removed from pandas in a future version. Use pandas.concat instead.\n",
      "  df = df.append(data, ignore_index=True)\n",
      "C:\\Users\\PC\\AppData\\Local\\Temp\\ipykernel_15140\\1181795267.py:16: FutureWarning: The frame.append method is deprecated and will be removed from pandas in a future version. Use pandas.concat instead.\n",
      "  df = df.append(data, ignore_index=True)\n",
      "C:\\Users\\PC\\AppData\\Local\\Temp\\ipykernel_15140\\1181795267.py:16: FutureWarning: The frame.append method is deprecated and will be removed from pandas in a future version. Use pandas.concat instead.\n",
      "  df = df.append(data, ignore_index=True)\n",
      "C:\\Users\\PC\\AppData\\Local\\Temp\\ipykernel_15140\\1181795267.py:16: FutureWarning: The frame.append method is deprecated and will be removed from pandas in a future version. Use pandas.concat instead.\n",
      "  df = df.append(data, ignore_index=True)\n",
      "C:\\Users\\PC\\AppData\\Local\\Temp\\ipykernel_15140\\1181795267.py:16: FutureWarning: The frame.append method is deprecated and will be removed from pandas in a future version. Use pandas.concat instead.\n",
      "  df = df.append(data, ignore_index=True)\n",
      "C:\\Users\\PC\\AppData\\Local\\Temp\\ipykernel_15140\\1181795267.py:16: FutureWarning: The frame.append method is deprecated and will be removed from pandas in a future version. Use pandas.concat instead.\n",
      "  df = df.append(data, ignore_index=True)\n",
      "C:\\Users\\PC\\AppData\\Local\\Temp\\ipykernel_15140\\1181795267.py:16: FutureWarning: The frame.append method is deprecated and will be removed from pandas in a future version. Use pandas.concat instead.\n",
      "  df = df.append(data, ignore_index=True)\n",
      "C:\\Users\\PC\\AppData\\Local\\Temp\\ipykernel_15140\\1181795267.py:16: FutureWarning: The frame.append method is deprecated and will be removed from pandas in a future version. Use pandas.concat instead.\n",
      "  df = df.append(data, ignore_index=True)\n",
      "C:\\Users\\PC\\AppData\\Local\\Temp\\ipykernel_15140\\1181795267.py:16: FutureWarning: The frame.append method is deprecated and will be removed from pandas in a future version. Use pandas.concat instead.\n",
      "  df = df.append(data, ignore_index=True)\n",
      "C:\\Users\\PC\\AppData\\Local\\Temp\\ipykernel_15140\\1181795267.py:16: FutureWarning: The frame.append method is deprecated and will be removed from pandas in a future version. Use pandas.concat instead.\n",
      "  df = df.append(data, ignore_index=True)\n"
     ]
    },
    {
     "name": "stderr",
     "output_type": "stream",
     "text": [
      "C:\\Users\\PC\\AppData\\Local\\Temp\\ipykernel_15140\\1181795267.py:16: FutureWarning: The frame.append method is deprecated and will be removed from pandas in a future version. Use pandas.concat instead.\n",
      "  df = df.append(data, ignore_index=True)\n",
      "C:\\Users\\PC\\AppData\\Local\\Temp\\ipykernel_15140\\1181795267.py:16: FutureWarning: The frame.append method is deprecated and will be removed from pandas in a future version. Use pandas.concat instead.\n",
      "  df = df.append(data, ignore_index=True)\n",
      "C:\\Users\\PC\\AppData\\Local\\Temp\\ipykernel_15140\\1181795267.py:16: FutureWarning: The frame.append method is deprecated and will be removed from pandas in a future version. Use pandas.concat instead.\n",
      "  df = df.append(data, ignore_index=True)\n",
      "C:\\Users\\PC\\AppData\\Local\\Temp\\ipykernel_15140\\1181795267.py:16: FutureWarning: The frame.append method is deprecated and will be removed from pandas in a future version. Use pandas.concat instead.\n",
      "  df = df.append(data, ignore_index=True)\n",
      "C:\\Users\\PC\\AppData\\Local\\Temp\\ipykernel_15140\\1181795267.py:16: FutureWarning: The frame.append method is deprecated and will be removed from pandas in a future version. Use pandas.concat instead.\n",
      "  df = df.append(data, ignore_index=True)\n",
      "C:\\Users\\PC\\AppData\\Local\\Temp\\ipykernel_15140\\1181795267.py:16: FutureWarning: The frame.append method is deprecated and will be removed from pandas in a future version. Use pandas.concat instead.\n",
      "  df = df.append(data, ignore_index=True)\n",
      "C:\\Users\\PC\\AppData\\Local\\Temp\\ipykernel_15140\\1181795267.py:16: FutureWarning: The frame.append method is deprecated and will be removed from pandas in a future version. Use pandas.concat instead.\n",
      "  df = df.append(data, ignore_index=True)\n",
      "C:\\Users\\PC\\AppData\\Local\\Temp\\ipykernel_15140\\1181795267.py:16: FutureWarning: The frame.append method is deprecated and will be removed from pandas in a future version. Use pandas.concat instead.\n",
      "  df = df.append(data, ignore_index=True)\n",
      "C:\\Users\\PC\\AppData\\Local\\Temp\\ipykernel_15140\\1181795267.py:16: FutureWarning: The frame.append method is deprecated and will be removed from pandas in a future version. Use pandas.concat instead.\n",
      "  df = df.append(data, ignore_index=True)\n",
      "C:\\Users\\PC\\AppData\\Local\\Temp\\ipykernel_15140\\1181795267.py:16: FutureWarning: The frame.append method is deprecated and will be removed from pandas in a future version. Use pandas.concat instead.\n",
      "  df = df.append(data, ignore_index=True)\n",
      "C:\\Users\\PC\\AppData\\Local\\Temp\\ipykernel_15140\\1181795267.py:16: FutureWarning: The frame.append method is deprecated and will be removed from pandas in a future version. Use pandas.concat instead.\n",
      "  df = df.append(data, ignore_index=True)\n",
      "C:\\Users\\PC\\AppData\\Local\\Temp\\ipykernel_15140\\1181795267.py:16: FutureWarning: The frame.append method is deprecated and will be removed from pandas in a future version. Use pandas.concat instead.\n",
      "  df = df.append(data, ignore_index=True)\n",
      "C:\\Users\\PC\\AppData\\Local\\Temp\\ipykernel_15140\\1181795267.py:16: FutureWarning: The frame.append method is deprecated and will be removed from pandas in a future version. Use pandas.concat instead.\n",
      "  df = df.append(data, ignore_index=True)\n",
      "C:\\Users\\PC\\AppData\\Local\\Temp\\ipykernel_15140\\1181795267.py:16: FutureWarning: The frame.append method is deprecated and will be removed from pandas in a future version. Use pandas.concat instead.\n",
      "  df = df.append(data, ignore_index=True)\n",
      "C:\\Users\\PC\\AppData\\Local\\Temp\\ipykernel_15140\\1181795267.py:16: FutureWarning: The frame.append method is deprecated and will be removed from pandas in a future version. Use pandas.concat instead.\n",
      "  df = df.append(data, ignore_index=True)\n",
      "C:\\Users\\PC\\AppData\\Local\\Temp\\ipykernel_15140\\1181795267.py:16: FutureWarning: The frame.append method is deprecated and will be removed from pandas in a future version. Use pandas.concat instead.\n",
      "  df = df.append(data, ignore_index=True)\n",
      "C:\\Users\\PC\\AppData\\Local\\Temp\\ipykernel_15140\\1181795267.py:16: FutureWarning: The frame.append method is deprecated and will be removed from pandas in a future version. Use pandas.concat instead.\n",
      "  df = df.append(data, ignore_index=True)\n",
      "C:\\Users\\PC\\AppData\\Local\\Temp\\ipykernel_15140\\1181795267.py:16: FutureWarning: The frame.append method is deprecated and will be removed from pandas in a future version. Use pandas.concat instead.\n",
      "  df = df.append(data, ignore_index=True)\n",
      "C:\\Users\\PC\\AppData\\Local\\Temp\\ipykernel_15140\\1181795267.py:16: FutureWarning: The frame.append method is deprecated and will be removed from pandas in a future version. Use pandas.concat instead.\n",
      "  df = df.append(data, ignore_index=True)\n",
      "C:\\Users\\PC\\AppData\\Local\\Temp\\ipykernel_15140\\1181795267.py:16: FutureWarning: The frame.append method is deprecated and will be removed from pandas in a future version. Use pandas.concat instead.\n",
      "  df = df.append(data, ignore_index=True)\n",
      "C:\\Users\\PC\\AppData\\Local\\Temp\\ipykernel_15140\\1181795267.py:16: FutureWarning: The frame.append method is deprecated and will be removed from pandas in a future version. Use pandas.concat instead.\n",
      "  df = df.append(data, ignore_index=True)\n",
      "C:\\Users\\PC\\AppData\\Local\\Temp\\ipykernel_15140\\1181795267.py:16: FutureWarning: The frame.append method is deprecated and will be removed from pandas in a future version. Use pandas.concat instead.\n",
      "  df = df.append(data, ignore_index=True)\n"
     ]
    },
    {
     "name": "stdout",
     "output_type": "stream",
     "text": [
      "Error: 401 - {\n",
      "  \"error\": {\n",
      "    \"status\": 401,\n",
      "    \"message\": \"The access token expired\"\n",
      "  }\n",
      "}\n"
     ]
    },
    {
     "name": "stderr",
     "output_type": "stream",
     "text": [
      "C:\\Users\\PC\\AppData\\Local\\Temp\\ipykernel_15140\\1181795267.py:16: FutureWarning: The frame.append method is deprecated and will be removed from pandas in a future version. Use pandas.concat instead.\n",
      "  df = df.append(data, ignore_index=True)\n"
     ]
    },
    {
     "name": "stdout",
     "output_type": "stream",
     "text": [
      "Error: 401 - {\n",
      "  \"error\": {\n",
      "    \"status\": 401,\n",
      "    \"message\": \"The access token expired\"\n",
      "  }\n",
      "}\n"
     ]
    },
    {
     "name": "stderr",
     "output_type": "stream",
     "text": [
      "C:\\Users\\PC\\AppData\\Local\\Temp\\ipykernel_15140\\1181795267.py:16: FutureWarning: The frame.append method is deprecated and will be removed from pandas in a future version. Use pandas.concat instead.\n",
      "  df = df.append(data, ignore_index=True)\n"
     ]
    },
    {
     "name": "stdout",
     "output_type": "stream",
     "text": [
      "Error: 401 - {\n",
      "  \"error\": {\n",
      "    \"status\": 401,\n",
      "    \"message\": \"The access token expired\"\n",
      "  }\n",
      "}\n"
     ]
    },
    {
     "name": "stderr",
     "output_type": "stream",
     "text": [
      "C:\\Users\\PC\\AppData\\Local\\Temp\\ipykernel_15140\\1181795267.py:16: FutureWarning: The frame.append method is deprecated and will be removed from pandas in a future version. Use pandas.concat instead.\n",
      "  df = df.append(data, ignore_index=True)\n"
     ]
    },
    {
     "name": "stdout",
     "output_type": "stream",
     "text": [
      "Error: 401 - {\n",
      "  \"error\": {\n",
      "    \"status\": 401,\n",
      "    \"message\": \"The access token expired\"\n",
      "  }\n",
      "}\n"
     ]
    },
    {
     "name": "stderr",
     "output_type": "stream",
     "text": [
      "C:\\Users\\PC\\AppData\\Local\\Temp\\ipykernel_15140\\1181795267.py:16: FutureWarning: The frame.append method is deprecated and will be removed from pandas in a future version. Use pandas.concat instead.\n",
      "  df = df.append(data, ignore_index=True)\n"
     ]
    },
    {
     "name": "stdout",
     "output_type": "stream",
     "text": [
      "Error: 401 - {\n",
      "  \"error\": {\n",
      "    \"status\": 401,\n",
      "    \"message\": \"The access token expired\"\n",
      "  }\n",
      "}\n"
     ]
    },
    {
     "name": "stderr",
     "output_type": "stream",
     "text": [
      "C:\\Users\\PC\\AppData\\Local\\Temp\\ipykernel_15140\\1181795267.py:16: FutureWarning: The frame.append method is deprecated and will be removed from pandas in a future version. Use pandas.concat instead.\n",
      "  df = df.append(data, ignore_index=True)\n"
     ]
    },
    {
     "name": "stdout",
     "output_type": "stream",
     "text": [
      "Error: 401 - {\n",
      "  \"error\": {\n",
      "    \"status\": 401,\n",
      "    \"message\": \"The access token expired\"\n",
      "  }\n",
      "}\n"
     ]
    },
    {
     "name": "stderr",
     "output_type": "stream",
     "text": [
      "C:\\Users\\PC\\AppData\\Local\\Temp\\ipykernel_15140\\1181795267.py:16: FutureWarning: The frame.append method is deprecated and will be removed from pandas in a future version. Use pandas.concat instead.\n",
      "  df = df.append(data, ignore_index=True)\n"
     ]
    },
    {
     "name": "stdout",
     "output_type": "stream",
     "text": [
      "Error: 401 - {\n",
      "  \"error\": {\n",
      "    \"status\": 401,\n",
      "    \"message\": \"The access token expired\"\n",
      "  }\n",
      "}\n"
     ]
    },
    {
     "name": "stderr",
     "output_type": "stream",
     "text": [
      "C:\\Users\\PC\\AppData\\Local\\Temp\\ipykernel_15140\\1181795267.py:16: FutureWarning: The frame.append method is deprecated and will be removed from pandas in a future version. Use pandas.concat instead.\n",
      "  df = df.append(data, ignore_index=True)\n"
     ]
    },
    {
     "name": "stdout",
     "output_type": "stream",
     "text": [
      "Error: 401 - {\n",
      "  \"error\": {\n",
      "    \"status\": 401,\n",
      "    \"message\": \"The access token expired\"\n",
      "  }\n",
      "}\n"
     ]
    },
    {
     "name": "stderr",
     "output_type": "stream",
     "text": [
      "C:\\Users\\PC\\AppData\\Local\\Temp\\ipykernel_15140\\1181795267.py:16: FutureWarning: The frame.append method is deprecated and will be removed from pandas in a future version. Use pandas.concat instead.\n",
      "  df = df.append(data, ignore_index=True)\n"
     ]
    },
    {
     "name": "stdout",
     "output_type": "stream",
     "text": [
      "Error: 401 - {\n",
      "  \"error\": {\n",
      "    \"status\": 401,\n",
      "    \"message\": \"The access token expired\"\n",
      "  }\n",
      "}\n"
     ]
    },
    {
     "name": "stderr",
     "output_type": "stream",
     "text": [
      "C:\\Users\\PC\\AppData\\Local\\Temp\\ipykernel_15140\\1181795267.py:16: FutureWarning: The frame.append method is deprecated and will be removed from pandas in a future version. Use pandas.concat instead.\n",
      "  df = df.append(data, ignore_index=True)\n"
     ]
    },
    {
     "name": "stdout",
     "output_type": "stream",
     "text": [
      "Error: 401 - {\n",
      "  \"error\": {\n",
      "    \"status\": 401,\n",
      "    \"message\": \"The access token expired\"\n",
      "  }\n",
      "}\n"
     ]
    },
    {
     "name": "stderr",
     "output_type": "stream",
     "text": [
      "C:\\Users\\PC\\AppData\\Local\\Temp\\ipykernel_15140\\1181795267.py:16: FutureWarning: The frame.append method is deprecated and will be removed from pandas in a future version. Use pandas.concat instead.\n",
      "  df = df.append(data, ignore_index=True)\n"
     ]
    },
    {
     "name": "stdout",
     "output_type": "stream",
     "text": [
      "Error: 401 - {\n",
      "  \"error\": {\n",
      "    \"status\": 401,\n",
      "    \"message\": \"The access token expired\"\n",
      "  }\n",
      "}\n"
     ]
    },
    {
     "name": "stderr",
     "output_type": "stream",
     "text": [
      "C:\\Users\\PC\\AppData\\Local\\Temp\\ipykernel_15140\\1181795267.py:16: FutureWarning: The frame.append method is deprecated and will be removed from pandas in a future version. Use pandas.concat instead.\n",
      "  df = df.append(data, ignore_index=True)\n"
     ]
    },
    {
     "name": "stdout",
     "output_type": "stream",
     "text": [
      "Error: 401 - {\n",
      "  \"error\": {\n",
      "    \"status\": 401,\n",
      "    \"message\": \"The access token expired\"\n",
      "  }\n",
      "}\n"
     ]
    },
    {
     "name": "stderr",
     "output_type": "stream",
     "text": [
      "C:\\Users\\PC\\AppData\\Local\\Temp\\ipykernel_15140\\1181795267.py:16: FutureWarning: The frame.append method is deprecated and will be removed from pandas in a future version. Use pandas.concat instead.\n",
      "  df = df.append(data, ignore_index=True)\n"
     ]
    },
    {
     "name": "stdout",
     "output_type": "stream",
     "text": [
      "Error: 401 - {\n",
      "  \"error\": {\n",
      "    \"status\": 401,\n",
      "    \"message\": \"The access token expired\"\n",
      "  }\n",
      "}\n"
     ]
    },
    {
     "name": "stderr",
     "output_type": "stream",
     "text": [
      "C:\\Users\\PC\\AppData\\Local\\Temp\\ipykernel_15140\\1181795267.py:16: FutureWarning: The frame.append method is deprecated and will be removed from pandas in a future version. Use pandas.concat instead.\n",
      "  df = df.append(data, ignore_index=True)\n"
     ]
    },
    {
     "name": "stdout",
     "output_type": "stream",
     "text": [
      "Error: 401 - {\n",
      "  \"error\": {\n",
      "    \"status\": 401,\n",
      "    \"message\": \"The access token expired\"\n",
      "  }\n",
      "}\n"
     ]
    },
    {
     "name": "stderr",
     "output_type": "stream",
     "text": [
      "C:\\Users\\PC\\AppData\\Local\\Temp\\ipykernel_15140\\1181795267.py:16: FutureWarning: The frame.append method is deprecated and will be removed from pandas in a future version. Use pandas.concat instead.\n",
      "  df = df.append(data, ignore_index=True)\n"
     ]
    },
    {
     "name": "stdout",
     "output_type": "stream",
     "text": [
      "Error: 401 - {\n",
      "  \"error\": {\n",
      "    \"status\": 401,\n",
      "    \"message\": \"The access token expired\"\n",
      "  }\n",
      "}\n"
     ]
    },
    {
     "name": "stderr",
     "output_type": "stream",
     "text": [
      "C:\\Users\\PC\\AppData\\Local\\Temp\\ipykernel_15140\\1181795267.py:16: FutureWarning: The frame.append method is deprecated and will be removed from pandas in a future version. Use pandas.concat instead.\n",
      "  df = df.append(data, ignore_index=True)\n"
     ]
    },
    {
     "name": "stdout",
     "output_type": "stream",
     "text": [
      "Error: 401 - {\n",
      "  \"error\": {\n",
      "    \"status\": 401,\n",
      "    \"message\": \"The access token expired\"\n",
      "  }\n",
      "}\n"
     ]
    },
    {
     "name": "stderr",
     "output_type": "stream",
     "text": [
      "C:\\Users\\PC\\AppData\\Local\\Temp\\ipykernel_15140\\1181795267.py:16: FutureWarning: The frame.append method is deprecated and will be removed from pandas in a future version. Use pandas.concat instead.\n",
      "  df = df.append(data, ignore_index=True)\n"
     ]
    },
    {
     "name": "stdout",
     "output_type": "stream",
     "text": [
      "Error: 401 - {\n",
      "  \"error\": {\n",
      "    \"status\": 401,\n",
      "    \"message\": \"The access token expired\"\n",
      "  }\n",
      "}\n"
     ]
    },
    {
     "name": "stderr",
     "output_type": "stream",
     "text": [
      "C:\\Users\\PC\\AppData\\Local\\Temp\\ipykernel_15140\\1181795267.py:16: FutureWarning: The frame.append method is deprecated and will be removed from pandas in a future version. Use pandas.concat instead.\n",
      "  df = df.append(data, ignore_index=True)\n"
     ]
    },
    {
     "name": "stdout",
     "output_type": "stream",
     "text": [
      "Error: 401 - {\n",
      "  \"error\": {\n",
      "    \"status\": 401,\n",
      "    \"message\": \"The access token expired\"\n",
      "  }\n",
      "}\n"
     ]
    },
    {
     "name": "stderr",
     "output_type": "stream",
     "text": [
      "C:\\Users\\PC\\AppData\\Local\\Temp\\ipykernel_15140\\1181795267.py:16: FutureWarning: The frame.append method is deprecated and will be removed from pandas in a future version. Use pandas.concat instead.\n",
      "  df = df.append(data, ignore_index=True)\n"
     ]
    },
    {
     "name": "stdout",
     "output_type": "stream",
     "text": [
      "Error: 401 - {\n",
      "  \"error\": {\n",
      "    \"status\": 401,\n",
      "    \"message\": \"The access token expired\"\n",
      "  }\n",
      "}\n"
     ]
    },
    {
     "name": "stderr",
     "output_type": "stream",
     "text": [
      "C:\\Users\\PC\\AppData\\Local\\Temp\\ipykernel_15140\\1181795267.py:16: FutureWarning: The frame.append method is deprecated and will be removed from pandas in a future version. Use pandas.concat instead.\n",
      "  df = df.append(data, ignore_index=True)\n"
     ]
    },
    {
     "name": "stdout",
     "output_type": "stream",
     "text": [
      "Error: 401 - {\n",
      "  \"error\": {\n",
      "    \"status\": 401,\n",
      "    \"message\": \"The access token expired\"\n",
      "  }\n",
      "}\n"
     ]
    },
    {
     "name": "stderr",
     "output_type": "stream",
     "text": [
      "C:\\Users\\PC\\AppData\\Local\\Temp\\ipykernel_15140\\1181795267.py:16: FutureWarning: The frame.append method is deprecated and will be removed from pandas in a future version. Use pandas.concat instead.\n",
      "  df = df.append(data, ignore_index=True)\n"
     ]
    },
    {
     "name": "stdout",
     "output_type": "stream",
     "text": [
      "Error: 401 - {\n",
      "  \"error\": {\n",
      "    \"status\": 401,\n",
      "    \"message\": \"The access token expired\"\n",
      "  }\n",
      "}\n"
     ]
    },
    {
     "name": "stderr",
     "output_type": "stream",
     "text": [
      "C:\\Users\\PC\\AppData\\Local\\Temp\\ipykernel_15140\\1181795267.py:16: FutureWarning: The frame.append method is deprecated and will be removed from pandas in a future version. Use pandas.concat instead.\n",
      "  df = df.append(data, ignore_index=True)\n"
     ]
    },
    {
     "name": "stdout",
     "output_type": "stream",
     "text": [
      "Error: 401 - {\n",
      "  \"error\": {\n",
      "    \"status\": 401,\n",
      "    \"message\": \"The access token expired\"\n",
      "  }\n",
      "}\n"
     ]
    },
    {
     "name": "stderr",
     "output_type": "stream",
     "text": [
      "C:\\Users\\PC\\AppData\\Local\\Temp\\ipykernel_15140\\1181795267.py:16: FutureWarning: The frame.append method is deprecated and will be removed from pandas in a future version. Use pandas.concat instead.\n",
      "  df = df.append(data, ignore_index=True)\n"
     ]
    },
    {
     "name": "stdout",
     "output_type": "stream",
     "text": [
      "Error: 401 - {\n",
      "  \"error\": {\n",
      "    \"status\": 401,\n",
      "    \"message\": \"The access token expired\"\n",
      "  }\n",
      "}\n"
     ]
    },
    {
     "name": "stderr",
     "output_type": "stream",
     "text": [
      "C:\\Users\\PC\\AppData\\Local\\Temp\\ipykernel_15140\\1181795267.py:16: FutureWarning: The frame.append method is deprecated and will be removed from pandas in a future version. Use pandas.concat instead.\n",
      "  df = df.append(data, ignore_index=True)\n"
     ]
    },
    {
     "name": "stdout",
     "output_type": "stream",
     "text": [
      "Error: 401 - {\n",
      "  \"error\": {\n",
      "    \"status\": 401,\n",
      "    \"message\": \"The access token expired\"\n",
      "  }\n",
      "}\n"
     ]
    },
    {
     "name": "stderr",
     "output_type": "stream",
     "text": [
      "C:\\Users\\PC\\AppData\\Local\\Temp\\ipykernel_15140\\1181795267.py:16: FutureWarning: The frame.append method is deprecated and will be removed from pandas in a future version. Use pandas.concat instead.\n",
      "  df = df.append(data, ignore_index=True)\n"
     ]
    },
    {
     "name": "stdout",
     "output_type": "stream",
     "text": [
      "Error: 401 - {\n",
      "  \"error\": {\n",
      "    \"status\": 401,\n",
      "    \"message\": \"The access token expired\"\n",
      "  }\n",
      "}\n"
     ]
    },
    {
     "name": "stderr",
     "output_type": "stream",
     "text": [
      "C:\\Users\\PC\\AppData\\Local\\Temp\\ipykernel_15140\\1181795267.py:16: FutureWarning: The frame.append method is deprecated and will be removed from pandas in a future version. Use pandas.concat instead.\n",
      "  df = df.append(data, ignore_index=True)\n"
     ]
    },
    {
     "name": "stdout",
     "output_type": "stream",
     "text": [
      "Error: 401 - {\n",
      "  \"error\": {\n",
      "    \"status\": 401,\n",
      "    \"message\": \"The access token expired\"\n",
      "  }\n",
      "}\n"
     ]
    },
    {
     "name": "stderr",
     "output_type": "stream",
     "text": [
      "C:\\Users\\PC\\AppData\\Local\\Temp\\ipykernel_15140\\1181795267.py:16: FutureWarning: The frame.append method is deprecated and will be removed from pandas in a future version. Use pandas.concat instead.\n",
      "  df = df.append(data, ignore_index=True)\n"
     ]
    },
    {
     "name": "stdout",
     "output_type": "stream",
     "text": [
      "Error: 401 - {\n",
      "  \"error\": {\n",
      "    \"status\": 401,\n",
      "    \"message\": \"The access token expired\"\n",
      "  }\n",
      "}\n"
     ]
    },
    {
     "name": "stderr",
     "output_type": "stream",
     "text": [
      "C:\\Users\\PC\\AppData\\Local\\Temp\\ipykernel_15140\\1181795267.py:16: FutureWarning: The frame.append method is deprecated and will be removed from pandas in a future version. Use pandas.concat instead.\n",
      "  df = df.append(data, ignore_index=True)\n"
     ]
    },
    {
     "name": "stdout",
     "output_type": "stream",
     "text": [
      "Error: 401 - {\n",
      "  \"error\": {\n",
      "    \"status\": 401,\n",
      "    \"message\": \"The access token expired\"\n",
      "  }\n",
      "}\n"
     ]
    },
    {
     "name": "stderr",
     "output_type": "stream",
     "text": [
      "C:\\Users\\PC\\AppData\\Local\\Temp\\ipykernel_15140\\1181795267.py:16: FutureWarning: The frame.append method is deprecated and will be removed from pandas in a future version. Use pandas.concat instead.\n",
      "  df = df.append(data, ignore_index=True)\n"
     ]
    },
    {
     "name": "stdout",
     "output_type": "stream",
     "text": [
      "Error: 401 - {\n",
      "  \"error\": {\n",
      "    \"status\": 401,\n",
      "    \"message\": \"The access token expired\"\n",
      "  }\n",
      "}\n"
     ]
    },
    {
     "name": "stderr",
     "output_type": "stream",
     "text": [
      "C:\\Users\\PC\\AppData\\Local\\Temp\\ipykernel_15140\\1181795267.py:16: FutureWarning: The frame.append method is deprecated and will be removed from pandas in a future version. Use pandas.concat instead.\n",
      "  df = df.append(data, ignore_index=True)\n"
     ]
    },
    {
     "name": "stdout",
     "output_type": "stream",
     "text": [
      "Error: 401 - {\n",
      "  \"error\": {\n",
      "    \"status\": 401,\n",
      "    \"message\": \"The access token expired\"\n",
      "  }\n",
      "}\n"
     ]
    },
    {
     "name": "stderr",
     "output_type": "stream",
     "text": [
      "C:\\Users\\PC\\AppData\\Local\\Temp\\ipykernel_15140\\1181795267.py:16: FutureWarning: The frame.append method is deprecated and will be removed from pandas in a future version. Use pandas.concat instead.\n",
      "  df = df.append(data, ignore_index=True)\n"
     ]
    },
    {
     "name": "stdout",
     "output_type": "stream",
     "text": [
      "Error: 401 - {\n",
      "  \"error\": {\n",
      "    \"status\": 401,\n",
      "    \"message\": \"The access token expired\"\n",
      "  }\n",
      "}\n"
     ]
    },
    {
     "name": "stderr",
     "output_type": "stream",
     "text": [
      "C:\\Users\\PC\\AppData\\Local\\Temp\\ipykernel_15140\\1181795267.py:16: FutureWarning: The frame.append method is deprecated and will be removed from pandas in a future version. Use pandas.concat instead.\n",
      "  df = df.append(data, ignore_index=True)\n"
     ]
    },
    {
     "name": "stdout",
     "output_type": "stream",
     "text": [
      "Error: 401 - {\n",
      "  \"error\": {\n",
      "    \"status\": 401,\n",
      "    \"message\": \"The access token expired\"\n",
      "  }\n",
      "}\n"
     ]
    },
    {
     "name": "stderr",
     "output_type": "stream",
     "text": [
      "C:\\Users\\PC\\AppData\\Local\\Temp\\ipykernel_15140\\1181795267.py:16: FutureWarning: The frame.append method is deprecated and will be removed from pandas in a future version. Use pandas.concat instead.\n",
      "  df = df.append(data, ignore_index=True)\n"
     ]
    },
    {
     "name": "stdout",
     "output_type": "stream",
     "text": [
      "Error: 401 - {\n",
      "  \"error\": {\n",
      "    \"status\": 401,\n",
      "    \"message\": \"The access token expired\"\n",
      "  }\n",
      "}\n"
     ]
    },
    {
     "name": "stderr",
     "output_type": "stream",
     "text": [
      "C:\\Users\\PC\\AppData\\Local\\Temp\\ipykernel_15140\\1181795267.py:16: FutureWarning: The frame.append method is deprecated and will be removed from pandas in a future version. Use pandas.concat instead.\n",
      "  df = df.append(data, ignore_index=True)\n"
     ]
    },
    {
     "name": "stdout",
     "output_type": "stream",
     "text": [
      "Error: 401 - {\n",
      "  \"error\": {\n",
      "    \"status\": 401,\n",
      "    \"message\": \"The access token expired\"\n",
      "  }\n",
      "}\n"
     ]
    },
    {
     "name": "stderr",
     "output_type": "stream",
     "text": [
      "C:\\Users\\PC\\AppData\\Local\\Temp\\ipykernel_15140\\1181795267.py:16: FutureWarning: The frame.append method is deprecated and will be removed from pandas in a future version. Use pandas.concat instead.\n",
      "  df = df.append(data, ignore_index=True)\n"
     ]
    },
    {
     "name": "stdout",
     "output_type": "stream",
     "text": [
      "Error: 401 - {\n",
      "  \"error\": {\n",
      "    \"status\": 401,\n",
      "    \"message\": \"The access token expired\"\n",
      "  }\n",
      "}\n"
     ]
    },
    {
     "name": "stderr",
     "output_type": "stream",
     "text": [
      "C:\\Users\\PC\\AppData\\Local\\Temp\\ipykernel_15140\\1181795267.py:16: FutureWarning: The frame.append method is deprecated and will be removed from pandas in a future version. Use pandas.concat instead.\n",
      "  df = df.append(data, ignore_index=True)\n"
     ]
    },
    {
     "name": "stdout",
     "output_type": "stream",
     "text": [
      "Error: 401 - {\n",
      "  \"error\": {\n",
      "    \"status\": 401,\n",
      "    \"message\": \"The access token expired\"\n",
      "  }\n",
      "}\n"
     ]
    },
    {
     "name": "stderr",
     "output_type": "stream",
     "text": [
      "C:\\Users\\PC\\AppData\\Local\\Temp\\ipykernel_15140\\1181795267.py:16: FutureWarning: The frame.append method is deprecated and will be removed from pandas in a future version. Use pandas.concat instead.\n",
      "  df = df.append(data, ignore_index=True)\n"
     ]
    },
    {
     "name": "stdout",
     "output_type": "stream",
     "text": [
      "Error: 401 - {\n",
      "  \"error\": {\n",
      "    \"status\": 401,\n",
      "    \"message\": \"The access token expired\"\n",
      "  }\n",
      "}\n"
     ]
    },
    {
     "name": "stderr",
     "output_type": "stream",
     "text": [
      "C:\\Users\\PC\\AppData\\Local\\Temp\\ipykernel_15140\\1181795267.py:16: FutureWarning: The frame.append method is deprecated and will be removed from pandas in a future version. Use pandas.concat instead.\n",
      "  df = df.append(data, ignore_index=True)\n"
     ]
    },
    {
     "name": "stdout",
     "output_type": "stream",
     "text": [
      "Error: 401 - {\n",
      "  \"error\": {\n",
      "    \"status\": 401,\n",
      "    \"message\": \"The access token expired\"\n",
      "  }\n",
      "}\n",
      "Error: 401 - {\n",
      "  \"error\": {\n",
      "    \"status\": 401,\n",
      "    \"message\": \"The access token expired\"\n",
      "  }\n",
      "}\n"
     ]
    },
    {
     "name": "stderr",
     "output_type": "stream",
     "text": [
      "C:\\Users\\PC\\AppData\\Local\\Temp\\ipykernel_15140\\1181795267.py:16: FutureWarning: The frame.append method is deprecated and will be removed from pandas in a future version. Use pandas.concat instead.\n",
      "  df = df.append(data, ignore_index=True)\n",
      "C:\\Users\\PC\\AppData\\Local\\Temp\\ipykernel_15140\\1181795267.py:16: FutureWarning: The frame.append method is deprecated and will be removed from pandas in a future version. Use pandas.concat instead.\n",
      "  df = df.append(data, ignore_index=True)\n"
     ]
    },
    {
     "name": "stdout",
     "output_type": "stream",
     "text": [
      "Error: 401 - {\n",
      "  \"error\": {\n",
      "    \"status\": 401,\n",
      "    \"message\": \"The access token expired\"\n",
      "  }\n",
      "}\n"
     ]
    },
    {
     "name": "stderr",
     "output_type": "stream",
     "text": [
      "C:\\Users\\PC\\AppData\\Local\\Temp\\ipykernel_15140\\1181795267.py:16: FutureWarning: The frame.append method is deprecated and will be removed from pandas in a future version. Use pandas.concat instead.\n",
      "  df = df.append(data, ignore_index=True)\n"
     ]
    },
    {
     "name": "stdout",
     "output_type": "stream",
     "text": [
      "Error: 401 - {\n",
      "  \"error\": {\n",
      "    \"status\": 401,\n",
      "    \"message\": \"The access token expired\"\n",
      "  }\n",
      "}\n"
     ]
    },
    {
     "name": "stderr",
     "output_type": "stream",
     "text": [
      "C:\\Users\\PC\\AppData\\Local\\Temp\\ipykernel_15140\\1181795267.py:16: FutureWarning: The frame.append method is deprecated and will be removed from pandas in a future version. Use pandas.concat instead.\n",
      "  df = df.append(data, ignore_index=True)\n"
     ]
    },
    {
     "name": "stdout",
     "output_type": "stream",
     "text": [
      "Error: 401 - {\n",
      "  \"error\": {\n",
      "    \"status\": 401,\n",
      "    \"message\": \"The access token expired\"\n",
      "  }\n",
      "}\n"
     ]
    },
    {
     "name": "stderr",
     "output_type": "stream",
     "text": [
      "C:\\Users\\PC\\AppData\\Local\\Temp\\ipykernel_15140\\1181795267.py:16: FutureWarning: The frame.append method is deprecated and will be removed from pandas in a future version. Use pandas.concat instead.\n",
      "  df = df.append(data, ignore_index=True)\n"
     ]
    },
    {
     "name": "stdout",
     "output_type": "stream",
     "text": [
      "Error: 401 - {\n",
      "  \"error\": {\n",
      "    \"status\": 401,\n",
      "    \"message\": \"The access token expired\"\n",
      "  }\n",
      "}\n"
     ]
    },
    {
     "name": "stderr",
     "output_type": "stream",
     "text": [
      "C:\\Users\\PC\\AppData\\Local\\Temp\\ipykernel_15140\\1181795267.py:16: FutureWarning: The frame.append method is deprecated and will be removed from pandas in a future version. Use pandas.concat instead.\n",
      "  df = df.append(data, ignore_index=True)\n"
     ]
    },
    {
     "name": "stdout",
     "output_type": "stream",
     "text": [
      "Error: 401 - {\n",
      "  \"error\": {\n",
      "    \"status\": 401,\n",
      "    \"message\": \"The access token expired\"\n",
      "  }\n",
      "}\n"
     ]
    },
    {
     "name": "stderr",
     "output_type": "stream",
     "text": [
      "C:\\Users\\PC\\AppData\\Local\\Temp\\ipykernel_15140\\1181795267.py:16: FutureWarning: The frame.append method is deprecated and will be removed from pandas in a future version. Use pandas.concat instead.\n",
      "  df = df.append(data, ignore_index=True)\n"
     ]
    },
    {
     "name": "stdout",
     "output_type": "stream",
     "text": [
      "Error: 401 - {\n",
      "  \"error\": {\n",
      "    \"status\": 401,\n",
      "    \"message\": \"The access token expired\"\n",
      "  }\n",
      "}\n"
     ]
    },
    {
     "name": "stderr",
     "output_type": "stream",
     "text": [
      "C:\\Users\\PC\\AppData\\Local\\Temp\\ipykernel_15140\\1181795267.py:16: FutureWarning: The frame.append method is deprecated and will be removed from pandas in a future version. Use pandas.concat instead.\n",
      "  df = df.append(data, ignore_index=True)\n"
     ]
    },
    {
     "name": "stdout",
     "output_type": "stream",
     "text": [
      "Error: 401 - {\n",
      "  \"error\": {\n",
      "    \"status\": 401,\n",
      "    \"message\": \"The access token expired\"\n",
      "  }\n",
      "}\n"
     ]
    },
    {
     "name": "stderr",
     "output_type": "stream",
     "text": [
      "C:\\Users\\PC\\AppData\\Local\\Temp\\ipykernel_15140\\1181795267.py:16: FutureWarning: The frame.append method is deprecated and will be removed from pandas in a future version. Use pandas.concat instead.\n",
      "  df = df.append(data, ignore_index=True)\n"
     ]
    },
    {
     "name": "stdout",
     "output_type": "stream",
     "text": [
      "Error: 401 - {\n",
      "  \"error\": {\n",
      "    \"status\": 401,\n",
      "    \"message\": \"The access token expired\"\n",
      "  }\n",
      "}\n",
      "Error: 401 - {\n",
      "  \"error\": {\n",
      "    \"status\": 401,\n",
      "    \"message\": \"The access token expired\"\n",
      "  }\n",
      "}\n"
     ]
    },
    {
     "name": "stderr",
     "output_type": "stream",
     "text": [
      "C:\\Users\\PC\\AppData\\Local\\Temp\\ipykernel_15140\\1181795267.py:16: FutureWarning: The frame.append method is deprecated and will be removed from pandas in a future version. Use pandas.concat instead.\n",
      "  df = df.append(data, ignore_index=True)\n",
      "C:\\Users\\PC\\AppData\\Local\\Temp\\ipykernel_15140\\1181795267.py:16: FutureWarning: The frame.append method is deprecated and will be removed from pandas in a future version. Use pandas.concat instead.\n",
      "  df = df.append(data, ignore_index=True)\n"
     ]
    },
    {
     "name": "stdout",
     "output_type": "stream",
     "text": [
      "Error: 401 - {\n",
      "  \"error\": {\n",
      "    \"status\": 401,\n",
      "    \"message\": \"The access token expired\"\n",
      "  }\n",
      "}\n"
     ]
    },
    {
     "name": "stderr",
     "output_type": "stream",
     "text": [
      "C:\\Users\\PC\\AppData\\Local\\Temp\\ipykernel_15140\\1181795267.py:16: FutureWarning: The frame.append method is deprecated and will be removed from pandas in a future version. Use pandas.concat instead.\n",
      "  df = df.append(data, ignore_index=True)\n"
     ]
    },
    {
     "name": "stdout",
     "output_type": "stream",
     "text": [
      "Error: 401 - {\n",
      "  \"error\": {\n",
      "    \"status\": 401,\n",
      "    \"message\": \"The access token expired\"\n",
      "  }\n",
      "}\n"
     ]
    },
    {
     "name": "stderr",
     "output_type": "stream",
     "text": [
      "C:\\Users\\PC\\AppData\\Local\\Temp\\ipykernel_15140\\1181795267.py:16: FutureWarning: The frame.append method is deprecated and will be removed from pandas in a future version. Use pandas.concat instead.\n",
      "  df = df.append(data, ignore_index=True)\n"
     ]
    },
    {
     "name": "stdout",
     "output_type": "stream",
     "text": [
      "Error: 401 - {\n",
      "  \"error\": {\n",
      "    \"status\": 401,\n",
      "    \"message\": \"The access token expired\"\n",
      "  }\n",
      "}\n"
     ]
    },
    {
     "name": "stderr",
     "output_type": "stream",
     "text": [
      "C:\\Users\\PC\\AppData\\Local\\Temp\\ipykernel_15140\\1181795267.py:16: FutureWarning: The frame.append method is deprecated and will be removed from pandas in a future version. Use pandas.concat instead.\n",
      "  df = df.append(data, ignore_index=True)\n"
     ]
    },
    {
     "name": "stdout",
     "output_type": "stream",
     "text": [
      "Error: 401 - {\n",
      "  \"error\": {\n",
      "    \"status\": 401,\n",
      "    \"message\": \"The access token expired\"\n",
      "  }\n",
      "}\n"
     ]
    },
    {
     "name": "stderr",
     "output_type": "stream",
     "text": [
      "C:\\Users\\PC\\AppData\\Local\\Temp\\ipykernel_15140\\1181795267.py:16: FutureWarning: The frame.append method is deprecated and will be removed from pandas in a future version. Use pandas.concat instead.\n",
      "  df = df.append(data, ignore_index=True)\n"
     ]
    },
    {
     "name": "stdout",
     "output_type": "stream",
     "text": [
      "Error: 401 - {\n",
      "  \"error\": {\n",
      "    \"status\": 401,\n",
      "    \"message\": \"The access token expired\"\n",
      "  }\n",
      "}\n"
     ]
    },
    {
     "name": "stderr",
     "output_type": "stream",
     "text": [
      "C:\\Users\\PC\\AppData\\Local\\Temp\\ipykernel_15140\\1181795267.py:16: FutureWarning: The frame.append method is deprecated and will be removed from pandas in a future version. Use pandas.concat instead.\n",
      "  df = df.append(data, ignore_index=True)\n"
     ]
    },
    {
     "name": "stdout",
     "output_type": "stream",
     "text": [
      "Error: 401 - {\n",
      "  \"error\": {\n",
      "    \"status\": 401,\n",
      "    \"message\": \"The access token expired\"\n",
      "  }\n",
      "}\n"
     ]
    },
    {
     "name": "stderr",
     "output_type": "stream",
     "text": [
      "C:\\Users\\PC\\AppData\\Local\\Temp\\ipykernel_15140\\1181795267.py:16: FutureWarning: The frame.append method is deprecated and will be removed from pandas in a future version. Use pandas.concat instead.\n",
      "  df = df.append(data, ignore_index=True)\n"
     ]
    },
    {
     "name": "stdout",
     "output_type": "stream",
     "text": [
      "Error: 401 - {\n",
      "  \"error\": {\n",
      "    \"status\": 401,\n",
      "    \"message\": \"The access token expired\"\n",
      "  }\n",
      "}\n"
     ]
    },
    {
     "name": "stderr",
     "output_type": "stream",
     "text": [
      "C:\\Users\\PC\\AppData\\Local\\Temp\\ipykernel_15140\\1181795267.py:16: FutureWarning: The frame.append method is deprecated and will be removed from pandas in a future version. Use pandas.concat instead.\n",
      "  df = df.append(data, ignore_index=True)\n"
     ]
    },
    {
     "name": "stdout",
     "output_type": "stream",
     "text": [
      "Error: 401 - {\n",
      "  \"error\": {\n",
      "    \"status\": 401,\n",
      "    \"message\": \"The access token expired\"\n",
      "  }\n",
      "}\n"
     ]
    },
    {
     "name": "stderr",
     "output_type": "stream",
     "text": [
      "C:\\Users\\PC\\AppData\\Local\\Temp\\ipykernel_15140\\1181795267.py:16: FutureWarning: The frame.append method is deprecated and will be removed from pandas in a future version. Use pandas.concat instead.\n",
      "  df = df.append(data, ignore_index=True)\n"
     ]
    },
    {
     "name": "stdout",
     "output_type": "stream",
     "text": [
      "Error: 401 - {\n",
      "  \"error\": {\n",
      "    \"status\": 401,\n",
      "    \"message\": \"The access token expired\"\n",
      "  }\n",
      "}\n"
     ]
    },
    {
     "name": "stderr",
     "output_type": "stream",
     "text": [
      "C:\\Users\\PC\\AppData\\Local\\Temp\\ipykernel_15140\\1181795267.py:16: FutureWarning: The frame.append method is deprecated and will be removed from pandas in a future version. Use pandas.concat instead.\n",
      "  df = df.append(data, ignore_index=True)\n"
     ]
    },
    {
     "name": "stdout",
     "output_type": "stream",
     "text": [
      "Error: 401 - {\n",
      "  \"error\": {\n",
      "    \"status\": 401,\n",
      "    \"message\": \"The access token expired\"\n",
      "  }\n",
      "}\n"
     ]
    },
    {
     "name": "stderr",
     "output_type": "stream",
     "text": [
      "C:\\Users\\PC\\AppData\\Local\\Temp\\ipykernel_15140\\1181795267.py:16: FutureWarning: The frame.append method is deprecated and will be removed from pandas in a future version. Use pandas.concat instead.\n",
      "  df = df.append(data, ignore_index=True)\n"
     ]
    },
    {
     "name": "stdout",
     "output_type": "stream",
     "text": [
      "Error: 401 - {\n",
      "  \"error\": {\n",
      "    \"status\": 401,\n",
      "    \"message\": \"The access token expired\"\n",
      "  }\n",
      "}\n"
     ]
    },
    {
     "name": "stderr",
     "output_type": "stream",
     "text": [
      "C:\\Users\\PC\\AppData\\Local\\Temp\\ipykernel_15140\\1181795267.py:16: FutureWarning: The frame.append method is deprecated and will be removed from pandas in a future version. Use pandas.concat instead.\n",
      "  df = df.append(data, ignore_index=True)\n"
     ]
    },
    {
     "name": "stdout",
     "output_type": "stream",
     "text": [
      "Error: 401 - {\n",
      "  \"error\": {\n",
      "    \"status\": 401,\n",
      "    \"message\": \"The access token expired\"\n",
      "  }\n",
      "}\n"
     ]
    },
    {
     "name": "stderr",
     "output_type": "stream",
     "text": [
      "C:\\Users\\PC\\AppData\\Local\\Temp\\ipykernel_15140\\1181795267.py:16: FutureWarning: The frame.append method is deprecated and will be removed from pandas in a future version. Use pandas.concat instead.\n",
      "  df = df.append(data, ignore_index=True)\n"
     ]
    },
    {
     "name": "stdout",
     "output_type": "stream",
     "text": [
      "Error: 401 - {\n",
      "  \"error\": {\n",
      "    \"status\": 401,\n",
      "    \"message\": \"The access token expired\"\n",
      "  }\n",
      "}\n"
     ]
    },
    {
     "name": "stderr",
     "output_type": "stream",
     "text": [
      "C:\\Users\\PC\\AppData\\Local\\Temp\\ipykernel_15140\\1181795267.py:16: FutureWarning: The frame.append method is deprecated and will be removed from pandas in a future version. Use pandas.concat instead.\n",
      "  df = df.append(data, ignore_index=True)\n"
     ]
    },
    {
     "name": "stdout",
     "output_type": "stream",
     "text": [
      "Error: 401 - {\n",
      "  \"error\": {\n",
      "    \"status\": 401,\n",
      "    \"message\": \"The access token expired\"\n",
      "  }\n",
      "}\n"
     ]
    },
    {
     "name": "stderr",
     "output_type": "stream",
     "text": [
      "C:\\Users\\PC\\AppData\\Local\\Temp\\ipykernel_15140\\1181795267.py:16: FutureWarning: The frame.append method is deprecated and will be removed from pandas in a future version. Use pandas.concat instead.\n",
      "  df = df.append(data, ignore_index=True)\n"
     ]
    },
    {
     "name": "stdout",
     "output_type": "stream",
     "text": [
      "Error: 401 - {\n",
      "  \"error\": {\n",
      "    \"status\": 401,\n",
      "    \"message\": \"The access token expired\"\n",
      "  }\n",
      "}\n"
     ]
    },
    {
     "name": "stderr",
     "output_type": "stream",
     "text": [
      "C:\\Users\\PC\\AppData\\Local\\Temp\\ipykernel_15140\\1181795267.py:16: FutureWarning: The frame.append method is deprecated and will be removed from pandas in a future version. Use pandas.concat instead.\n",
      "  df = df.append(data, ignore_index=True)\n"
     ]
    },
    {
     "name": "stdout",
     "output_type": "stream",
     "text": [
      "Error: 401 - {\n",
      "  \"error\": {\n",
      "    \"status\": 401,\n",
      "    \"message\": \"The access token expired\"\n",
      "  }\n",
      "}\n"
     ]
    },
    {
     "name": "stderr",
     "output_type": "stream",
     "text": [
      "C:\\Users\\PC\\AppData\\Local\\Temp\\ipykernel_15140\\1181795267.py:16: FutureWarning: The frame.append method is deprecated and will be removed from pandas in a future version. Use pandas.concat instead.\n",
      "  df = df.append(data, ignore_index=True)\n"
     ]
    },
    {
     "name": "stdout",
     "output_type": "stream",
     "text": [
      "Error: 401 - {\n",
      "  \"error\": {\n",
      "    \"status\": 401,\n",
      "    \"message\": \"The access token expired\"\n",
      "  }\n",
      "}\n"
     ]
    },
    {
     "name": "stderr",
     "output_type": "stream",
     "text": [
      "C:\\Users\\PC\\AppData\\Local\\Temp\\ipykernel_15140\\1181795267.py:16: FutureWarning: The frame.append method is deprecated and will be removed from pandas in a future version. Use pandas.concat instead.\n",
      "  df = df.append(data, ignore_index=True)\n"
     ]
    },
    {
     "name": "stdout",
     "output_type": "stream",
     "text": [
      "Error: 401 - {\n",
      "  \"error\": {\n",
      "    \"status\": 401,\n",
      "    \"message\": \"The access token expired\"\n",
      "  }\n",
      "}\n"
     ]
    },
    {
     "name": "stderr",
     "output_type": "stream",
     "text": [
      "C:\\Users\\PC\\AppData\\Local\\Temp\\ipykernel_15140\\1181795267.py:16: FutureWarning: The frame.append method is deprecated and will be removed from pandas in a future version. Use pandas.concat instead.\n",
      "  df = df.append(data, ignore_index=True)\n"
     ]
    },
    {
     "name": "stdout",
     "output_type": "stream",
     "text": [
      "Error: 401 - {\n",
      "  \"error\": {\n",
      "    \"status\": 401,\n",
      "    \"message\": \"The access token expired\"\n",
      "  }\n",
      "}\n"
     ]
    },
    {
     "name": "stderr",
     "output_type": "stream",
     "text": [
      "C:\\Users\\PC\\AppData\\Local\\Temp\\ipykernel_15140\\1181795267.py:16: FutureWarning: The frame.append method is deprecated and will be removed from pandas in a future version. Use pandas.concat instead.\n",
      "  df = df.append(data, ignore_index=True)\n"
     ]
    },
    {
     "name": "stdout",
     "output_type": "stream",
     "text": [
      "Error: 401 - {\n",
      "  \"error\": {\n",
      "    \"status\": 401,\n",
      "    \"message\": \"The access token expired\"\n",
      "  }\n",
      "}\n"
     ]
    },
    {
     "name": "stderr",
     "output_type": "stream",
     "text": [
      "C:\\Users\\PC\\AppData\\Local\\Temp\\ipykernel_15140\\1181795267.py:16: FutureWarning: The frame.append method is deprecated and will be removed from pandas in a future version. Use pandas.concat instead.\n",
      "  df = df.append(data, ignore_index=True)\n"
     ]
    },
    {
     "name": "stdout",
     "output_type": "stream",
     "text": [
      "Error: 401 - {\n",
      "  \"error\": {\n",
      "    \"status\": 401,\n",
      "    \"message\": \"The access token expired\"\n",
      "  }\n",
      "}\n"
     ]
    },
    {
     "name": "stderr",
     "output_type": "stream",
     "text": [
      "C:\\Users\\PC\\AppData\\Local\\Temp\\ipykernel_15140\\1181795267.py:16: FutureWarning: The frame.append method is deprecated and will be removed from pandas in a future version. Use pandas.concat instead.\n",
      "  df = df.append(data, ignore_index=True)\n"
     ]
    },
    {
     "name": "stdout",
     "output_type": "stream",
     "text": [
      "Error: 401 - {\n",
      "  \"error\": {\n",
      "    \"status\": 401,\n",
      "    \"message\": \"The access token expired\"\n",
      "  }\n",
      "}\n"
     ]
    },
    {
     "name": "stderr",
     "output_type": "stream",
     "text": [
      "C:\\Users\\PC\\AppData\\Local\\Temp\\ipykernel_15140\\1181795267.py:16: FutureWarning: The frame.append method is deprecated and will be removed from pandas in a future version. Use pandas.concat instead.\n",
      "  df = df.append(data, ignore_index=True)\n"
     ]
    },
    {
     "name": "stdout",
     "output_type": "stream",
     "text": [
      "Error: 401 - {\n",
      "  \"error\": {\n",
      "    \"status\": 401,\n",
      "    \"message\": \"The access token expired\"\n",
      "  }\n",
      "}\n"
     ]
    },
    {
     "name": "stderr",
     "output_type": "stream",
     "text": [
      "C:\\Users\\PC\\AppData\\Local\\Temp\\ipykernel_15140\\1181795267.py:16: FutureWarning: The frame.append method is deprecated and will be removed from pandas in a future version. Use pandas.concat instead.\n",
      "  df = df.append(data, ignore_index=True)\n"
     ]
    },
    {
     "name": "stdout",
     "output_type": "stream",
     "text": [
      "Error: 401 - {\n",
      "  \"error\": {\n",
      "    \"status\": 401,\n",
      "    \"message\": \"The access token expired\"\n",
      "  }\n",
      "}\n"
     ]
    },
    {
     "name": "stderr",
     "output_type": "stream",
     "text": [
      "C:\\Users\\PC\\AppData\\Local\\Temp\\ipykernel_15140\\1181795267.py:16: FutureWarning: The frame.append method is deprecated and will be removed from pandas in a future version. Use pandas.concat instead.\n",
      "  df = df.append(data, ignore_index=True)\n"
     ]
    },
    {
     "name": "stdout",
     "output_type": "stream",
     "text": [
      "Error: 401 - {\n",
      "  \"error\": {\n",
      "    \"status\": 401,\n",
      "    \"message\": \"The access token expired\"\n",
      "  }\n",
      "}\n"
     ]
    },
    {
     "name": "stderr",
     "output_type": "stream",
     "text": [
      "C:\\Users\\PC\\AppData\\Local\\Temp\\ipykernel_15140\\1181795267.py:16: FutureWarning: The frame.append method is deprecated and will be removed from pandas in a future version. Use pandas.concat instead.\n",
      "  df = df.append(data, ignore_index=True)\n"
     ]
    },
    {
     "name": "stdout",
     "output_type": "stream",
     "text": [
      "Error: 401 - {\n",
      "  \"error\": {\n",
      "    \"status\": 401,\n",
      "    \"message\": \"The access token expired\"\n",
      "  }\n",
      "}\n"
     ]
    },
    {
     "name": "stderr",
     "output_type": "stream",
     "text": [
      "C:\\Users\\PC\\AppData\\Local\\Temp\\ipykernel_15140\\1181795267.py:16: FutureWarning: The frame.append method is deprecated and will be removed from pandas in a future version. Use pandas.concat instead.\n",
      "  df = df.append(data, ignore_index=True)\n"
     ]
    },
    {
     "name": "stdout",
     "output_type": "stream",
     "text": [
      "Error: 401 - {\n",
      "  \"error\": {\n",
      "    \"status\": 401,\n",
      "    \"message\": \"The access token expired\"\n",
      "  }\n",
      "}\n"
     ]
    },
    {
     "name": "stderr",
     "output_type": "stream",
     "text": [
      "C:\\Users\\PC\\AppData\\Local\\Temp\\ipykernel_15140\\1181795267.py:16: FutureWarning: The frame.append method is deprecated and will be removed from pandas in a future version. Use pandas.concat instead.\n",
      "  df = df.append(data, ignore_index=True)\n"
     ]
    },
    {
     "name": "stdout",
     "output_type": "stream",
     "text": [
      "Error: 401 - {\n",
      "  \"error\": {\n",
      "    \"status\": 401,\n",
      "    \"message\": \"The access token expired\"\n",
      "  }\n",
      "}\n"
     ]
    },
    {
     "name": "stderr",
     "output_type": "stream",
     "text": [
      "C:\\Users\\PC\\AppData\\Local\\Temp\\ipykernel_15140\\1181795267.py:16: FutureWarning: The frame.append method is deprecated and will be removed from pandas in a future version. Use pandas.concat instead.\n",
      "  df = df.append(data, ignore_index=True)\n"
     ]
    },
    {
     "name": "stdout",
     "output_type": "stream",
     "text": [
      "Error: 401 - {\n",
      "  \"error\": {\n",
      "    \"status\": 401,\n",
      "    \"message\": \"The access token expired\"\n",
      "  }\n",
      "}\n"
     ]
    },
    {
     "name": "stderr",
     "output_type": "stream",
     "text": [
      "C:\\Users\\PC\\AppData\\Local\\Temp\\ipykernel_15140\\1181795267.py:16: FutureWarning: The frame.append method is deprecated and will be removed from pandas in a future version. Use pandas.concat instead.\n",
      "  df = df.append(data, ignore_index=True)\n"
     ]
    },
    {
     "name": "stdout",
     "output_type": "stream",
     "text": [
      "Error: 401 - {\n",
      "  \"error\": {\n",
      "    \"status\": 401,\n",
      "    \"message\": \"The access token expired\"\n",
      "  }\n",
      "}\n"
     ]
    },
    {
     "name": "stderr",
     "output_type": "stream",
     "text": [
      "C:\\Users\\PC\\AppData\\Local\\Temp\\ipykernel_15140\\1181795267.py:16: FutureWarning: The frame.append method is deprecated and will be removed from pandas in a future version. Use pandas.concat instead.\n",
      "  df = df.append(data, ignore_index=True)\n"
     ]
    },
    {
     "name": "stdout",
     "output_type": "stream",
     "text": [
      "Error: 401 - {\n",
      "  \"error\": {\n",
      "    \"status\": 401,\n",
      "    \"message\": \"The access token expired\"\n",
      "  }\n",
      "}\n"
     ]
    },
    {
     "name": "stderr",
     "output_type": "stream",
     "text": [
      "C:\\Users\\PC\\AppData\\Local\\Temp\\ipykernel_15140\\1181795267.py:16: FutureWarning: The frame.append method is deprecated and will be removed from pandas in a future version. Use pandas.concat instead.\n",
      "  df = df.append(data, ignore_index=True)\n"
     ]
    },
    {
     "name": "stdout",
     "output_type": "stream",
     "text": [
      "Error: 401 - {\n",
      "  \"error\": {\n",
      "    \"status\": 401,\n",
      "    \"message\": \"The access token expired\"\n",
      "  }\n",
      "}\n"
     ]
    },
    {
     "name": "stderr",
     "output_type": "stream",
     "text": [
      "C:\\Users\\PC\\AppData\\Local\\Temp\\ipykernel_15140\\1181795267.py:16: FutureWarning: The frame.append method is deprecated and will be removed from pandas in a future version. Use pandas.concat instead.\n",
      "  df = df.append(data, ignore_index=True)\n"
     ]
    },
    {
     "name": "stdout",
     "output_type": "stream",
     "text": [
      "Error: 401 - {\n",
      "  \"error\": {\n",
      "    \"status\": 401,\n",
      "    \"message\": \"The access token expired\"\n",
      "  }\n",
      "}\n"
     ]
    },
    {
     "name": "stderr",
     "output_type": "stream",
     "text": [
      "C:\\Users\\PC\\AppData\\Local\\Temp\\ipykernel_15140\\1181795267.py:16: FutureWarning: The frame.append method is deprecated and will be removed from pandas in a future version. Use pandas.concat instead.\n",
      "  df = df.append(data, ignore_index=True)\n"
     ]
    },
    {
     "name": "stdout",
     "output_type": "stream",
     "text": [
      "Error: 401 - {\n",
      "  \"error\": {\n",
      "    \"status\": 401,\n",
      "    \"message\": \"The access token expired\"\n",
      "  }\n",
      "}\n"
     ]
    },
    {
     "name": "stderr",
     "output_type": "stream",
     "text": [
      "C:\\Users\\PC\\AppData\\Local\\Temp\\ipykernel_15140\\1181795267.py:16: FutureWarning: The frame.append method is deprecated and will be removed from pandas in a future version. Use pandas.concat instead.\n",
      "  df = df.append(data, ignore_index=True)\n"
     ]
    },
    {
     "name": "stdout",
     "output_type": "stream",
     "text": [
      "Error: 401 - {\n",
      "  \"error\": {\n",
      "    \"status\": 401,\n",
      "    \"message\": \"The access token expired\"\n",
      "  }\n",
      "}\n"
     ]
    },
    {
     "name": "stderr",
     "output_type": "stream",
     "text": [
      "C:\\Users\\PC\\AppData\\Local\\Temp\\ipykernel_15140\\1181795267.py:16: FutureWarning: The frame.append method is deprecated and will be removed from pandas in a future version. Use pandas.concat instead.\n",
      "  df = df.append(data, ignore_index=True)\n"
     ]
    },
    {
     "name": "stdout",
     "output_type": "stream",
     "text": [
      "Error: 401 - {\n",
      "  \"error\": {\n",
      "    \"status\": 401,\n",
      "    \"message\": \"The access token expired\"\n",
      "  }\n",
      "}\n"
     ]
    },
    {
     "name": "stderr",
     "output_type": "stream",
     "text": [
      "C:\\Users\\PC\\AppData\\Local\\Temp\\ipykernel_15140\\1181795267.py:16: FutureWarning: The frame.append method is deprecated and will be removed from pandas in a future version. Use pandas.concat instead.\n",
      "  df = df.append(data, ignore_index=True)\n"
     ]
    },
    {
     "name": "stdout",
     "output_type": "stream",
     "text": [
      "Error: 401 - {\n",
      "  \"error\": {\n",
      "    \"status\": 401,\n",
      "    \"message\": \"The access token expired\"\n",
      "  }\n",
      "}\n"
     ]
    },
    {
     "name": "stderr",
     "output_type": "stream",
     "text": [
      "C:\\Users\\PC\\AppData\\Local\\Temp\\ipykernel_15140\\1181795267.py:16: FutureWarning: The frame.append method is deprecated and will be removed from pandas in a future version. Use pandas.concat instead.\n",
      "  df = df.append(data, ignore_index=True)\n"
     ]
    },
    {
     "name": "stdout",
     "output_type": "stream",
     "text": [
      "Error: 401 - {\n",
      "  \"error\": {\n",
      "    \"status\": 401,\n",
      "    \"message\": \"The access token expired\"\n",
      "  }\n",
      "}\n"
     ]
    },
    {
     "name": "stderr",
     "output_type": "stream",
     "text": [
      "C:\\Users\\PC\\AppData\\Local\\Temp\\ipykernel_15140\\1181795267.py:16: FutureWarning: The frame.append method is deprecated and will be removed from pandas in a future version. Use pandas.concat instead.\n",
      "  df = df.append(data, ignore_index=True)\n"
     ]
    },
    {
     "name": "stdout",
     "output_type": "stream",
     "text": [
      "Error: 401 - {\n",
      "  \"error\": {\n",
      "    \"status\": 401,\n",
      "    \"message\": \"The access token expired\"\n",
      "  }\n",
      "}\n"
     ]
    },
    {
     "name": "stderr",
     "output_type": "stream",
     "text": [
      "C:\\Users\\PC\\AppData\\Local\\Temp\\ipykernel_15140\\1181795267.py:16: FutureWarning: The frame.append method is deprecated and will be removed from pandas in a future version. Use pandas.concat instead.\n",
      "  df = df.append(data, ignore_index=True)\n"
     ]
    },
    {
     "name": "stdout",
     "output_type": "stream",
     "text": [
      "Error: 401 - {\n",
      "  \"error\": {\n",
      "    \"status\": 401,\n",
      "    \"message\": \"The access token expired\"\n",
      "  }\n",
      "}\n"
     ]
    },
    {
     "name": "stderr",
     "output_type": "stream",
     "text": [
      "C:\\Users\\PC\\AppData\\Local\\Temp\\ipykernel_15140\\1181795267.py:16: FutureWarning: The frame.append method is deprecated and will be removed from pandas in a future version. Use pandas.concat instead.\n",
      "  df = df.append(data, ignore_index=True)\n"
     ]
    },
    {
     "name": "stdout",
     "output_type": "stream",
     "text": [
      "Error: 401 - {\n",
      "  \"error\": {\n",
      "    \"status\": 401,\n",
      "    \"message\": \"The access token expired\"\n",
      "  }\n",
      "}\n"
     ]
    },
    {
     "name": "stderr",
     "output_type": "stream",
     "text": [
      "C:\\Users\\PC\\AppData\\Local\\Temp\\ipykernel_15140\\1181795267.py:16: FutureWarning: The frame.append method is deprecated and will be removed from pandas in a future version. Use pandas.concat instead.\n",
      "  df = df.append(data, ignore_index=True)\n"
     ]
    },
    {
     "name": "stdout",
     "output_type": "stream",
     "text": [
      "Error: 401 - {\n",
      "  \"error\": {\n",
      "    \"status\": 401,\n",
      "    \"message\": \"The access token expired\"\n",
      "  }\n",
      "}\n"
     ]
    },
    {
     "name": "stderr",
     "output_type": "stream",
     "text": [
      "C:\\Users\\PC\\AppData\\Local\\Temp\\ipykernel_15140\\1181795267.py:16: FutureWarning: The frame.append method is deprecated and will be removed from pandas in a future version. Use pandas.concat instead.\n",
      "  df = df.append(data, ignore_index=True)\n"
     ]
    },
    {
     "name": "stdout",
     "output_type": "stream",
     "text": [
      "Error: 401 - {\n",
      "  \"error\": {\n",
      "    \"status\": 401,\n",
      "    \"message\": \"The access token expired\"\n",
      "  }\n",
      "}\n"
     ]
    },
    {
     "name": "stderr",
     "output_type": "stream",
     "text": [
      "C:\\Users\\PC\\AppData\\Local\\Temp\\ipykernel_15140\\1181795267.py:16: FutureWarning: The frame.append method is deprecated and will be removed from pandas in a future version. Use pandas.concat instead.\n",
      "  df = df.append(data, ignore_index=True)\n"
     ]
    },
    {
     "name": "stdout",
     "output_type": "stream",
     "text": [
      "Error: 401 - {\n",
      "  \"error\": {\n",
      "    \"status\": 401,\n",
      "    \"message\": \"The access token expired\"\n",
      "  }\n",
      "}\n"
     ]
    },
    {
     "name": "stderr",
     "output_type": "stream",
     "text": [
      "C:\\Users\\PC\\AppData\\Local\\Temp\\ipykernel_15140\\1181795267.py:16: FutureWarning: The frame.append method is deprecated and will be removed from pandas in a future version. Use pandas.concat instead.\n",
      "  df = df.append(data, ignore_index=True)\n"
     ]
    },
    {
     "name": "stdout",
     "output_type": "stream",
     "text": [
      "Error: 401 - {\n",
      "  \"error\": {\n",
      "    \"status\": 401,\n",
      "    \"message\": \"The access token expired\"\n",
      "  }\n",
      "}\n"
     ]
    },
    {
     "name": "stderr",
     "output_type": "stream",
     "text": [
      "C:\\Users\\PC\\AppData\\Local\\Temp\\ipykernel_15140\\1181795267.py:16: FutureWarning: The frame.append method is deprecated and will be removed from pandas in a future version. Use pandas.concat instead.\n",
      "  df = df.append(data, ignore_index=True)\n"
     ]
    },
    {
     "name": "stdout",
     "output_type": "stream",
     "text": [
      "Error: 401 - {\n",
      "  \"error\": {\n",
      "    \"status\": 401,\n",
      "    \"message\": \"The access token expired\"\n",
      "  }\n",
      "}\n"
     ]
    },
    {
     "name": "stderr",
     "output_type": "stream",
     "text": [
      "C:\\Users\\PC\\AppData\\Local\\Temp\\ipykernel_15140\\1181795267.py:16: FutureWarning: The frame.append method is deprecated and will be removed from pandas in a future version. Use pandas.concat instead.\n",
      "  df = df.append(data, ignore_index=True)\n"
     ]
    },
    {
     "name": "stdout",
     "output_type": "stream",
     "text": [
      "Error: 401 - {\n",
      "  \"error\": {\n",
      "    \"status\": 401,\n",
      "    \"message\": \"The access token expired\"\n",
      "  }\n",
      "}\n",
      "Error: 401 - {\n",
      "  \"error\": {\n",
      "    \"status\": 401,\n",
      "    \"message\": \"The access token expired\"\n",
      "  }\n",
      "}\n"
     ]
    },
    {
     "name": "stderr",
     "output_type": "stream",
     "text": [
      "C:\\Users\\PC\\AppData\\Local\\Temp\\ipykernel_15140\\1181795267.py:16: FutureWarning: The frame.append method is deprecated and will be removed from pandas in a future version. Use pandas.concat instead.\n",
      "  df = df.append(data, ignore_index=True)\n",
      "C:\\Users\\PC\\AppData\\Local\\Temp\\ipykernel_15140\\1181795267.py:16: FutureWarning: The frame.append method is deprecated and will be removed from pandas in a future version. Use pandas.concat instead.\n",
      "  df = df.append(data, ignore_index=True)\n"
     ]
    },
    {
     "name": "stdout",
     "output_type": "stream",
     "text": [
      "Error: 401 - {\n",
      "  \"error\": {\n",
      "    \"status\": 401,\n",
      "    \"message\": \"The access token expired\"\n",
      "  }\n",
      "}\n"
     ]
    },
    {
     "name": "stderr",
     "output_type": "stream",
     "text": [
      "C:\\Users\\PC\\AppData\\Local\\Temp\\ipykernel_15140\\1181795267.py:16: FutureWarning: The frame.append method is deprecated and will be removed from pandas in a future version. Use pandas.concat instead.\n",
      "  df = df.append(data, ignore_index=True)\n"
     ]
    },
    {
     "name": "stdout",
     "output_type": "stream",
     "text": [
      "Error: 401 - {\n",
      "  \"error\": {\n",
      "    \"status\": 401,\n",
      "    \"message\": \"The access token expired\"\n",
      "  }\n",
      "}\n"
     ]
    },
    {
     "name": "stderr",
     "output_type": "stream",
     "text": [
      "C:\\Users\\PC\\AppData\\Local\\Temp\\ipykernel_15140\\1181795267.py:16: FutureWarning: The frame.append method is deprecated and will be removed from pandas in a future version. Use pandas.concat instead.\n",
      "  df = df.append(data, ignore_index=True)\n"
     ]
    },
    {
     "name": "stdout",
     "output_type": "stream",
     "text": [
      "Error: 401 - {\n",
      "  \"error\": {\n",
      "    \"status\": 401,\n",
      "    \"message\": \"The access token expired\"\n",
      "  }\n",
      "}\n"
     ]
    },
    {
     "name": "stderr",
     "output_type": "stream",
     "text": [
      "C:\\Users\\PC\\AppData\\Local\\Temp\\ipykernel_15140\\1181795267.py:16: FutureWarning: The frame.append method is deprecated and will be removed from pandas in a future version. Use pandas.concat instead.\n",
      "  df = df.append(data, ignore_index=True)\n"
     ]
    },
    {
     "name": "stdout",
     "output_type": "stream",
     "text": [
      "Error: 401 - {\n",
      "  \"error\": {\n",
      "    \"status\": 401,\n",
      "    \"message\": \"The access token expired\"\n",
      "  }\n",
      "}\n"
     ]
    },
    {
     "name": "stderr",
     "output_type": "stream",
     "text": [
      "C:\\Users\\PC\\AppData\\Local\\Temp\\ipykernel_15140\\1181795267.py:16: FutureWarning: The frame.append method is deprecated and will be removed from pandas in a future version. Use pandas.concat instead.\n",
      "  df = df.append(data, ignore_index=True)\n"
     ]
    },
    {
     "name": "stdout",
     "output_type": "stream",
     "text": [
      "Error: 401 - {\n",
      "  \"error\": {\n",
      "    \"status\": 401,\n",
      "    \"message\": \"The access token expired\"\n",
      "  }\n",
      "}\n"
     ]
    },
    {
     "name": "stderr",
     "output_type": "stream",
     "text": [
      "C:\\Users\\PC\\AppData\\Local\\Temp\\ipykernel_15140\\1181795267.py:16: FutureWarning: The frame.append method is deprecated and will be removed from pandas in a future version. Use pandas.concat instead.\n",
      "  df = df.append(data, ignore_index=True)\n"
     ]
    },
    {
     "name": "stdout",
     "output_type": "stream",
     "text": [
      "Error: 401 - {\n",
      "  \"error\": {\n",
      "    \"status\": 401,\n",
      "    \"message\": \"The access token expired\"\n",
      "  }\n",
      "}\n"
     ]
    },
    {
     "name": "stderr",
     "output_type": "stream",
     "text": [
      "C:\\Users\\PC\\AppData\\Local\\Temp\\ipykernel_15140\\1181795267.py:16: FutureWarning: The frame.append method is deprecated and will be removed from pandas in a future version. Use pandas.concat instead.\n",
      "  df = df.append(data, ignore_index=True)\n"
     ]
    },
    {
     "name": "stdout",
     "output_type": "stream",
     "text": [
      "Error: 401 - {\n",
      "  \"error\": {\n",
      "    \"status\": 401,\n",
      "    \"message\": \"The access token expired\"\n",
      "  }\n",
      "}\n"
     ]
    },
    {
     "name": "stderr",
     "output_type": "stream",
     "text": [
      "C:\\Users\\PC\\AppData\\Local\\Temp\\ipykernel_15140\\1181795267.py:16: FutureWarning: The frame.append method is deprecated and will be removed from pandas in a future version. Use pandas.concat instead.\n",
      "  df = df.append(data, ignore_index=True)\n"
     ]
    },
    {
     "name": "stdout",
     "output_type": "stream",
     "text": [
      "Error: 401 - {\n",
      "  \"error\": {\n",
      "    \"status\": 401,\n",
      "    \"message\": \"The access token expired\"\n",
      "  }\n",
      "}\n"
     ]
    },
    {
     "name": "stderr",
     "output_type": "stream",
     "text": [
      "C:\\Users\\PC\\AppData\\Local\\Temp\\ipykernel_15140\\1181795267.py:16: FutureWarning: The frame.append method is deprecated and will be removed from pandas in a future version. Use pandas.concat instead.\n",
      "  df = df.append(data, ignore_index=True)\n"
     ]
    },
    {
     "name": "stdout",
     "output_type": "stream",
     "text": [
      "Error: 401 - {\n",
      "  \"error\": {\n",
      "    \"status\": 401,\n",
      "    \"message\": \"The access token expired\"\n",
      "  }\n",
      "}\n"
     ]
    },
    {
     "name": "stderr",
     "output_type": "stream",
     "text": [
      "C:\\Users\\PC\\AppData\\Local\\Temp\\ipykernel_15140\\1181795267.py:16: FutureWarning: The frame.append method is deprecated and will be removed from pandas in a future version. Use pandas.concat instead.\n",
      "  df = df.append(data, ignore_index=True)\n"
     ]
    },
    {
     "name": "stdout",
     "output_type": "stream",
     "text": [
      "Error: 401 - {\n",
      "  \"error\": {\n",
      "    \"status\": 401,\n",
      "    \"message\": \"The access token expired\"\n",
      "  }\n",
      "}\n"
     ]
    },
    {
     "name": "stderr",
     "output_type": "stream",
     "text": [
      "C:\\Users\\PC\\AppData\\Local\\Temp\\ipykernel_15140\\1181795267.py:16: FutureWarning: The frame.append method is deprecated and will be removed from pandas in a future version. Use pandas.concat instead.\n",
      "  df = df.append(data, ignore_index=True)\n"
     ]
    },
    {
     "name": "stdout",
     "output_type": "stream",
     "text": [
      "Error: 401 - {\n",
      "  \"error\": {\n",
      "    \"status\": 401,\n",
      "    \"message\": \"The access token expired\"\n",
      "  }\n",
      "}\n"
     ]
    },
    {
     "name": "stderr",
     "output_type": "stream",
     "text": [
      "C:\\Users\\PC\\AppData\\Local\\Temp\\ipykernel_15140\\1181795267.py:16: FutureWarning: The frame.append method is deprecated and will be removed from pandas in a future version. Use pandas.concat instead.\n",
      "  df = df.append(data, ignore_index=True)\n"
     ]
    },
    {
     "name": "stdout",
     "output_type": "stream",
     "text": [
      "Error: 401 - {\n",
      "  \"error\": {\n",
      "    \"status\": 401,\n",
      "    \"message\": \"The access token expired\"\n",
      "  }\n",
      "}\n"
     ]
    },
    {
     "name": "stderr",
     "output_type": "stream",
     "text": [
      "C:\\Users\\PC\\AppData\\Local\\Temp\\ipykernel_15140\\1181795267.py:16: FutureWarning: The frame.append method is deprecated and will be removed from pandas in a future version. Use pandas.concat instead.\n",
      "  df = df.append(data, ignore_index=True)\n"
     ]
    },
    {
     "name": "stdout",
     "output_type": "stream",
     "text": [
      "Error: 401 - {\n",
      "  \"error\": {\n",
      "    \"status\": 401,\n",
      "    \"message\": \"The access token expired\"\n",
      "  }\n",
      "}\n"
     ]
    },
    {
     "name": "stderr",
     "output_type": "stream",
     "text": [
      "C:\\Users\\PC\\AppData\\Local\\Temp\\ipykernel_15140\\1181795267.py:16: FutureWarning: The frame.append method is deprecated and will be removed from pandas in a future version. Use pandas.concat instead.\n",
      "  df = df.append(data, ignore_index=True)\n"
     ]
    },
    {
     "name": "stdout",
     "output_type": "stream",
     "text": [
      "Error: 401 - {\n",
      "  \"error\": {\n",
      "    \"status\": 401,\n",
      "    \"message\": \"The access token expired\"\n",
      "  }\n",
      "}\n"
     ]
    },
    {
     "name": "stderr",
     "output_type": "stream",
     "text": [
      "C:\\Users\\PC\\AppData\\Local\\Temp\\ipykernel_15140\\1181795267.py:16: FutureWarning: The frame.append method is deprecated and will be removed from pandas in a future version. Use pandas.concat instead.\n",
      "  df = df.append(data, ignore_index=True)\n"
     ]
    },
    {
     "name": "stdout",
     "output_type": "stream",
     "text": [
      "Error: 401 - {\n",
      "  \"error\": {\n",
      "    \"status\": 401,\n",
      "    \"message\": \"The access token expired\"\n",
      "  }\n",
      "}\n"
     ]
    },
    {
     "name": "stderr",
     "output_type": "stream",
     "text": [
      "C:\\Users\\PC\\AppData\\Local\\Temp\\ipykernel_15140\\1181795267.py:16: FutureWarning: The frame.append method is deprecated and will be removed from pandas in a future version. Use pandas.concat instead.\n",
      "  df = df.append(data, ignore_index=True)\n"
     ]
    },
    {
     "name": "stdout",
     "output_type": "stream",
     "text": [
      "Error: 401 - {\n",
      "  \"error\": {\n",
      "    \"status\": 401,\n",
      "    \"message\": \"The access token expired\"\n",
      "  }\n",
      "}\n"
     ]
    },
    {
     "name": "stderr",
     "output_type": "stream",
     "text": [
      "C:\\Users\\PC\\AppData\\Local\\Temp\\ipykernel_15140\\1181795267.py:16: FutureWarning: The frame.append method is deprecated and will be removed from pandas in a future version. Use pandas.concat instead.\n",
      "  df = df.append(data, ignore_index=True)\n"
     ]
    }
   ],
   "source": [
    "df = pd.DataFrame()\n",
    "\n",
    "for i in range(len(url_list)):\n",
    "    url = url_list[i]\n",
    "    headers = {\n",
    "        'Authorization': f'Bearer {token}'\n",
    "    }\n",
    "\n",
    "    res = requests.get(url, headers=headers)\n",
    "\n",
    "    if res.status_code == 200:\n",
    "        data = res.json()\n",
    "    else:\n",
    "        print(f\"Error: {res.status_code} - {res.text}\")\n",
    "     \n",
    "    df = df.append(data, ignore_index=True)\n",
    "    \n",
    "    sleep(randint(1,3000)/1000)"
   ]
  },
  {
   "cell_type": "markdown",
   "id": "7bad3e64",
   "metadata": {},
   "source": [
    "> Will continue"
   ]
  },
  {
   "cell_type": "code",
   "execution_count": null,
   "id": "ff1125b1",
   "metadata": {},
   "outputs": [],
   "source": []
  }
 ],
 "metadata": {
  "kernelspec": {
   "display_name": "Python 3 (ipykernel)",
   "language": "python",
   "name": "python3"
  },
  "language_info": {
   "codemirror_mode": {
    "name": "ipython",
    "version": 3
   },
   "file_extension": ".py",
   "mimetype": "text/x-python",
   "name": "python",
   "nbconvert_exporter": "python",
   "pygments_lexer": "ipython3",
   "version": "3.10.9"
  }
 },
 "nbformat": 4,
 "nbformat_minor": 5
}
